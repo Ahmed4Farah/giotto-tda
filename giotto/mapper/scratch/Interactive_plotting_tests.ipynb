{
 "cells": [
  {
   "cell_type": "code",
   "execution_count": 1,
   "metadata": {},
   "outputs": [],
   "source": [
    "import numpy as np\n",
    "\n",
    "import operator\n",
    "\n",
    "from functools import reduce\n",
    "\n",
    "from sklearn.datasets import make_circles\n",
    "from sklearn.cluster import DBSCAN\n",
    "\n",
    "import plotly.graph_objects as go\n",
    "from ipywidgets import widgets\n",
    "# from IPython.display import display"
   ]
  },
  {
   "cell_type": "code",
   "execution_count": 2,
   "metadata": {},
   "outputs": [],
   "source": [
    "from matplotlib import pyplot as plt"
   ]
  },
  {
   "cell_type": "code",
   "execution_count": 3,
   "metadata": {},
   "outputs": [],
   "source": [
    "import networkx as nx"
   ]
  },
  {
   "cell_type": "code",
   "execution_count": 4,
   "metadata": {},
   "outputs": [],
   "source": [
    "X = np.random.random((100,2))"
   ]
  },
  {
   "cell_type": "code",
   "execution_count": 5,
   "metadata": {},
   "outputs": [
    {
     "data": {
      "text/plain": [
       "<matplotlib.collections.PathCollection at 0x12f8e5810>"
      ]
     },
     "execution_count": 5,
     "metadata": {},
     "output_type": "execute_result"
    },
    {
     "data": {
      "image/png": "[encoded data removed]",
      "text/plain": [
       "<Figure size 432x288 with 1 Axes>"
      ]
     },
     "metadata": {
      "needs_background": "light"
     },
     "output_type": "display_data"
    }
   ],
   "source": [
    "plt.scatter(x=X[:,0], y=X[:,1])"
   ]
  },
  {
   "cell_type": "code",
   "execution_count": 6,
   "metadata": {},
   "outputs": [
    {
     "data": {
      "text/plain": [
       "DBSCAN(algorithm='auto', eps=0.1, leaf_size=30, metric='euclidean',\n",
       "       metric_params=None, min_samples=5, n_jobs=None, p=None)"
      ]
     },
     "execution_count": 6,
     "metadata": {},
     "output_type": "execute_result"
    }
   ],
   "source": [
    "init_eps = 0.1\n",
    "pipe = DBSCAN(eps=init_eps)\n",
    "pipe.fit(X)"
   ]
  },
  {
   "cell_type": "code",
   "execution_count": 7,
   "metadata": {},
   "outputs": [],
   "source": [
    "# eps_slider = widgets.FloatSlider(\n",
    "#     value=init_eps,\n",
    "#     min=0,\n",
    "#     max=0.5,\n",
    "#     step=0.01,\n",
    "#     description='eps:',\n",
    "#     disabled=False,\n",
    "#     continuous_update=False,\n",
    "# #     orientation='vertical',\n",
    "#     readout=True,\n",
    "#     readout_format='.2f',\n",
    "# )\n",
    "\n",
    "eps_text = widgets.FloatText(\n",
    "    value=init_eps,\n",
    "    step=0.1,\n",
    "    description='eps:',\n",
    "    disabled=False\n",
    ")\n",
    "\n",
    "container = widgets.HBox(children=[eps_text])\n",
    "\n",
    "data = [go.Scatter(x=X[:,0],\n",
    "                   y=X[:,1],\n",
    "                   mode='markers',\n",
    "                   marker=dict(color=pipe.labels_)\n",
    "                  )\n",
    "       ]\n",
    "\n",
    "g = go.FigureWidget(data=data,\n",
    "                    layout=go.Layout(\n",
    "                        title=dict(\n",
    "                            text='DBSCAN Clustering'\n",
    "                        ),\n",
    "                        barmode='overlay'\n",
    "                    ))\n",
    "\n",
    "valid = widgets.Valid(\n",
    "    value=True,\n",
    "    description='Valid params',\n",
    ")"
   ]
  },
  {
   "cell_type": "code",
   "execution_count": 8,
   "metadata": {},
   "outputs": [],
   "source": [
    "def response(change):\n",
    "    try:\n",
    "        pipe.set_params(eps=eps_text.value)\n",
    "        labels = pipe.fit_predict(X)\n",
    "        with g.batch_update():\n",
    "            if not valid.value:\n",
    "                g.data[0].x = X[:, 0]\n",
    "                g.data[0].y = X[:, 1]\n",
    "            g.data[0].marker = dict(color=labels)\n",
    "        valid.value = True\n",
    "    except ValueError:\n",
    "        with g.batch_update():\n",
    "            g.data[0].x = []\n",
    "            g.data[0].y = []\n",
    "            marker=dict()\n",
    "        valid.value = False\n",
    "\n",
    "eps_text.observe(response, names=\"value\")"
   ]
  },
  {
   "cell_type": "code",
   "execution_count": 9,
   "metadata": {},
   "outputs": [
    {
     "data": {
      "application/vnd.jupyter.widget-view+json": {
       "model_id": "7a0637f63e10424b8df8f97c4ada9a6b",
       "version_major": 2,
       "version_minor": 0
      },
      "text/plain": [
       "VBox(children=(HBox(children=(FloatText(value=0.1, description='eps:', step=0.1),)), FigureWidget({\n",
       "    'data'…"
      ]
     },
     "metadata": {},
     "output_type": "display_data"
    }
   ],
   "source": [
    "widgets.VBox([container, g, valid])"
   ]
  },
  {
   "cell_type": "markdown",
   "metadata": {},
   "source": [
    "# Now with Mapper"
   ]
  },
  {
   "cell_type": "code",
   "execution_count": 10,
   "metadata": {},
   "outputs": [],
   "source": [
    "from giotto.mapper.mapper import make_mapper_pipeline"
   ]
  },
  {
   "cell_type": "code",
   "execution_count": 11,
   "metadata": {},
   "outputs": [
    {
     "data": {
      "image/png": "[encoded data removed]",
      "text/plain": [
       "<Figure size 432x288 with 1 Axes>"
      ]
     },
     "metadata": {
      "needs_background": "light"
     },
     "output_type": "display_data"
    }
   ],
   "source": [
    "data, labels = make_circles(n_samples=5000, noise=0.05, factor=0.3)\n",
    "\n",
    "plt.scatter(data[:,0], data[:, 1]);"
   ]
  },
  {
   "cell_type": "code",
   "execution_count": 12,
   "metadata": {},
   "outputs": [],
   "source": [
    "pipe = make_mapper_pipeline()"
   ]
  },
  {
   "cell_type": "code",
   "execution_count": 13,
   "metadata": {},
   "outputs": [],
   "source": [
    "def create_network_2d(graph, pos, node_size, node_color, node_text,\n",
    "                      node_scale=12, colorscale='viridis', cmin=0, cmax=1,\n",
    "                      legend_title=''):\n",
    "\n",
    "    edge_x = list(reduce(operator.iconcat,\n",
    "                         map(lambda x: [pos[x[0]][0],\n",
    "                                        pos[x[1]][0], None],\n",
    "                             graph.edges()), []))\n",
    "    edge_y = list(reduce(operator.iconcat,\n",
    "                         map(lambda x: [pos[x[0]][1],\n",
    "                                        pos[x[1]][1], None],\n",
    "                             graph.edges()), []))\n",
    "\n",
    "    edge_trace = go.Scatter(\n",
    "        x=edge_x, y=edge_y,\n",
    "        line=dict(width=0.5, color='#888'),\n",
    "        hoverinfo='none',\n",
    "        mode='lines')\n",
    "\n",
    "    node_x = [pos[k][0] for k in graph.nodes()]\n",
    "    node_y = [pos[k][1] for k in graph.nodes()]\n",
    "\n",
    "    node_trace = go.Scatter(\n",
    "        x=node_x, y=node_y,\n",
    "        mode='markers',\n",
    "        hoverinfo='text',\n",
    "        marker=dict(\n",
    "            showscale=True,\n",
    "            colorscale=colorscale,\n",
    "            reversescale=True,\n",
    "            line=dict(width=.5, color='#888'),\n",
    "            color=node_color,\n",
    "            size=node_size,\n",
    "            sizemode='area',\n",
    "            sizeref=2.*max(node_size)/(node_scale**2),\n",
    "            sizemin=4,\n",
    "            cmin=cmin,\n",
    "            cmax=cmax,\n",
    "            colorbar=dict(\n",
    "                thickness=15,\n",
    "                title=legend_title,\n",
    "                xanchor='left',\n",
    "                titleside='right'\n",
    "            ),\n",
    "            line_width=2),\n",
    "        text=node_text)\n",
    "\n",
    "    fig = go.FigureWidget(data=[edge_trace, node_trace],\n",
    "                    layout=go.Layout(showlegend=False,\n",
    "                                     hovermode='closest',\n",
    "                                     margin={'b': 20, 'l': 5, 'r': 5, 't': 40},\n",
    "                                     xaxis=dict(showgrid=False, zeroline=False,\n",
    "                                                showticklabels=False, ticks=\"\",\n",
    "                                                showline=False),\n",
    "                                     yaxis=dict(showgrid=False, zeroline=False,\n",
    "                                                showticklabels=False, ticks=\"\",\n",
    "                                                showline=False),\n",
    "                                     xaxis_title=\"\",\n",
    "                                     yaxis_title=\"\"))\n",
    "    fig.update_layout(template='simple_white')\n",
    "\n",
    "    return fig"
   ]
  },
  {
   "cell_type": "code",
   "execution_count": 14,
   "metadata": {},
   "outputs": [],
   "source": [
    "# graph = pipe.fit_transform(data)\n",
    "\n",
    "# node_elements = nx.get_node_attributes(graph, 'elements')\n",
    "# node_sizes = [len(el) for el in node_elements.values()]\n",
    "# node_colors = [np.mean(data[el]) for el in node_elements.values()]\n",
    "# node_text = [k for k in node_elements.keys()]\n",
    "\n",
    "\n",
    "# pos = nx.kamada_kawai_layout(graph, dim=2)\n",
    "\n",
    "# fig = create_network_2d(graph, pos, node_sizes, node_colors, node_sizes, node_scale=20)\n",
    "\n",
    "# fig.show()"
   ]
  },
  {
   "cell_type": "markdown",
   "metadata": {},
   "source": [
    "## Iteration 1: Interactivity for giotto-learn--specific transformers"
   ]
  },
  {
   "cell_type": "markdown",
   "metadata": {},
   "source": [
    "## 1.1: OneDimensionalCover"
   ]
  },
  {
   "cell_type": "code",
   "execution_count": 15,
   "metadata": {},
   "outputs": [],
   "source": [
    "cover_params = {key: item for key, item in pipe.get_mapper_params().items() if key.startswith('cover')}\n",
    "\n",
    "cover_params_widgets = {}\n",
    "for param, value in cover_params.items():\n",
    "    if isinstance(value, float):\n",
    "        cover_params_widgets[param] = widgets.FloatText(\n",
    "            value=value,\n",
    "            step=0.1,\n",
    "            description=param,\n",
    "            disabled=False\n",
    "        )\n",
    "    if isinstance(value, int):\n",
    "        cover_params_widgets[param] = widgets.IntText(\n",
    "            value=value,\n",
    "            description=param,\n",
    "            disabled=False\n",
    "        )\n",
    "\n",
    "container = widgets.HBox(children=list(cover_params_widgets.values()))\n",
    "\n",
    "# data = [go.Scatter(x=X[:,0],\n",
    "#                    y=X[:,1],\n",
    "#                    mode='markers',\n",
    "#                    marker=dict(color=pipe.labels_)\n",
    "#                   )\n",
    "#        ]\n",
    "\n",
    "def fn(data):\n",
    "    graph = pipe.fit_transform(data)\n",
    "    node_elements = nx.get_node_attributes(graph, 'elements')\n",
    "    node_sizes = [len(el) for el in node_elements.values()]\n",
    "    node_colors = [np.mean(data[el]) for el in node_elements.values()]\n",
    "    node_text = [k for k in node_elements.keys()]\n",
    "\n",
    "    pos = nx.kamada_kawai_layout(graph, dim=2)\n",
    "\n",
    "    return create_network_2d(graph, pos, node_sizes, node_colors, node_sizes, node_scale=20)\n",
    "\n",
    "g = fn(data)    \n",
    "    \n",
    "valid = widgets.Valid(\n",
    "    value=True,\n",
    "    description='Valid params',\n",
    ")"
   ]
  },
  {
   "cell_type": "code",
   "execution_count": 16,
   "metadata": {},
   "outputs": [],
   "source": [
    "del response"
   ]
  },
  {
   "cell_type": "code",
   "execution_count": 17,
   "metadata": {},
   "outputs": [],
   "source": [
    "def response(change):\n",
    "#     try:\n",
    "    pipe.set_mapper_params(cover__n_intervals=cover_params_widgets['cover__n_intervals'].value)\n",
    "    pipe.set_mapper_params(cover__overlap_frac=cover_params_widgets['cover__overlap_frac'].value)\n",
    "    new_g = fn(data)\n",
    "    with g.batch_update():\n",
    "#             if not valid.value:\n",
    "#                 g.data[0].x = X[:, 0]\n",
    "#                 g.data[0].y = X[:, 1]\n",
    "#         g.data = new_g.data #.data[0].marker = dict(color=labels)\n",
    "        g.data[0].x = new_g.data[0].x\n",
    "        g.data[0].y = new_g.data[0].y\n",
    "        g.data[1].x = new_g.data[1].x\n",
    "        g.data[1].y = new_g.data[1].y\n",
    "        g.data[1].marker.size = new_g.data[1].marker.size\n",
    "        g.data[1].marker.color = new_g.data[1].marker.color\n",
    "        g.data[1].marker.sizeref = new_g.data[1].marker.sizeref\n",
    "    valid.value = True\n",
    "#     except ValueError:\n",
    "#         with g.batch_update():\n",
    "#             g.data[0].x = []\n",
    "#             g.data[0].y = []\n",
    "#             marker=dict()\n",
    "#         valid.value = False\n",
    "\n",
    "cover_params_widgets['cover__n_intervals'].observe(response, names=\"value\")\n",
    "cover_params_widgets['cover__overlap_frac'].observe(response, names=\"value\")"
   ]
  },
  {
   "cell_type": "code",
   "execution_count": null,
   "metadata": {},
   "outputs": [],
   "source": []
  },
  {
   "cell_type": "code",
   "execution_count": 18,
   "metadata": {},
   "outputs": [
    {
     "data": {
      "application/vnd.jupyter.widget-view+json": {
       "model_id": "acd4ea48f3b64d2e97630ea434e2556f",
       "version_major": 2,
       "version_minor": 0
      },
      "text/plain": [
       "VBox(children=(HBox(children=(IntText(value=10, description='cover__n_intervals'), FloatText(value=0.1, descri…"
      ]
     },
     "metadata": {},
     "output_type": "display_data"
    }
   ],
   "source": [
    "widgets.VBox([container, g, valid])"
   ]
  },
  {
   "cell_type": "code",
   "execution_count": null,
   "metadata": {},
   "outputs": [],
   "source": []
  }
 ],
 "metadata": {
  "kernelspec": {
   "display_name": "Python 3",
   "language": "python",
   "name": "python3"
  },
  "language_info": {
   "codemirror_mode": {
    "name": "ipython",
    "version": 3
   },
   "file_extension": ".py",
   "mimetype": "text/x-python",
   "name": "python",
   "nbconvert_exporter": "python",
   "pygments_lexer": "ipython3",
   "version": "3.7.5"
  }
 },
 "nbformat": 4,
 "nbformat_minor": 4
}
