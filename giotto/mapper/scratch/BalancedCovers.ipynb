{
 "cells": [
  {
   "cell_type": "code",
   "execution_count": 1,
   "metadata": {},
   "outputs": [],
   "source": [
    "import numpy as np\n",
    "\n",
    "from giotto.mapper import OneDimensionalCover, CubicalCover\n",
    "\n",
    "from matplotlib import pyplot as plt"
   ]
  },
  {
   "cell_type": "code",
   "execution_count": 2,
   "metadata": {},
   "outputs": [],
   "source": [
    "n_samples = 100\n",
    "n_intervals = 20\n",
    "overlap_frac = 0.15"
   ]
  },
  {
   "cell_type": "code",
   "execution_count": 3,
   "metadata": {},
   "outputs": [],
   "source": [
    "X = np.random.random(n_samples)\n",
    "# X = np.concatenate([X, X[[-2]]])\n",
    "# print(len(np.unique(X)))"
   ]
  },
  {
   "cell_type": "code",
   "execution_count": 4,
   "metadata": {},
   "outputs": [],
   "source": [
    "kind = 'uniform'\n",
    "kwargs = {'kind': 'uniform', 'n_intervals': n_intervals, 'overlap_frac': overlap_frac}"
   ]
  },
  {
   "cell_type": "code",
   "execution_count": 5,
   "metadata": {},
   "outputs": [
    {
     "data": {
      "text/plain": [
       "[(-inf, 0.08603069778519118),\n",
       " (0.07763584674135855, 0.1336015203669093),\n",
       " (0.1252066693230767, 0.18117234294862747),\n",
       " (0.17277749190479486, 0.22874316553034563),\n",
       " (0.220348314486513, 0.27631398811206376),\n",
       " (0.2679191370682311, 0.3238848106937819),\n",
       " (0.3154899596499493, 0.3714556332755001),\n",
       " (0.36306078223166743, 0.4190264558572182),\n",
       " (0.41063160481338556, 0.46659727843893634),\n",
       " (0.4582024273951037, 0.5141681010206545),\n",
       " (0.5057732499768218, 0.5617389236023725),\n",
       " (0.55334407255854, 0.6093097461840907),\n",
       " (0.6009148951402582, 0.6568805687658089),\n",
       " (0.6484857177219763, 0.704451391347527),\n",
       " (0.6960565403036945, 0.7520222139292452),\n",
       " (0.7436273628854125, 0.7995930365109633),\n",
       " (0.7911981854671307, 0.8471638590926814),\n",
       " (0.8387690080488489, 0.8947346816743996),\n",
       " (0.886339830630567, 0.9423055042561177),\n",
       " (0.9339106532122852, inf)]"
      ]
     },
     "execution_count": 5,
     "metadata": {},
     "output_type": "execute_result"
    }
   ],
   "source": [
    "one_d_uniform = OneDimensionalCover(**kwargs)\n",
    "one_d_uniform.fit(X)\n",
    "one_d_uniform.fitted_intervals()"
   ]
  },
  {
   "cell_type": "code",
   "execution_count": 6,
   "metadata": {},
   "outputs": [],
   "source": [
    "overlap = (one_d_uniform.right_limits_[:-1] - one_d_uniform.left_limits_[1:])[0]"
   ]
  },
  {
   "cell_type": "code",
   "execution_count": 7,
   "metadata": {},
   "outputs": [],
   "source": [
    "length = one_d_uniform.right_limits_[1] - one_d_uniform.left_limits_[1]"
   ]
  },
  {
   "cell_type": "code",
   "execution_count": 8,
   "metadata": {},
   "outputs": [
    {
     "data": {
      "text/plain": [
       "0.15000000000000024"
      ]
     },
     "execution_count": 8,
     "metadata": {},
     "output_type": "execute_result"
    }
   ],
   "source": [
    "overlap/length"
   ]
  },
  {
   "cell_type": "code",
   "execution_count": 9,
   "metadata": {},
   "outputs": [
    {
     "data": {
      "text/plain": [
       "True"
      ]
     },
     "execution_count": 9,
     "metadata": {},
     "output_type": "execute_result"
    }
   ],
   "source": [
    "Xt = one_d_uniform.transform(X)\n",
    "np.array_equal(Xt, OneDimensionalCover(**kwargs).fit_transform(X))"
   ]
  },
  {
   "cell_type": "code",
   "execution_count": 10,
   "metadata": {},
   "outputs": [
    {
     "data": {
      "text/plain": [
       "[(-inf, 0.0543155172021722),\n",
       " (0.0520833334217784, 0.14038841825223847),\n",
       " (0.09673871965751446, 0.20958316958222278),\n",
       " (0.1659762964553333, 0.2688300103853465),\n",
       " (0.25798582236655865, 0.3035549339054695),\n",
       " (0.2846390084554944, 0.35478646042082695),\n",
       " (0.3407300542122954, 0.3929097939442763),\n",
       " (0.38054490208921243, 0.4519793565850829),\n",
       " (0.43910052491932583, 0.49239151157664807),\n",
       " (0.48829614317981884, 0.5508677888155123),\n",
       " (0.5479776705360854, 0.6178155415994524),\n",
       " (0.6131046913551913, 0.6823535043745068),\n",
       " (0.6690532883635657, 0.7444534580257602),\n",
       " (0.7096187905968698, 0.7917725707958202),\n",
       " (0.7815688425858366, 0.8248076479812801),\n",
       " (0.8218697531378094, 0.8477845757311394),\n",
       " (0.8403563617317884, 0.9019705737952136),\n",
       " (0.8800044946867189, 0.9307772316163265),\n",
       " (0.9127169643858987, 0.9797068488581224),\n",
       " (0.9750759316899386, inf)]"
      ]
     },
     "execution_count": 10,
     "metadata": {},
     "output_type": "execute_result"
    }
   ],
   "source": [
    "kwargs['kind'] = 'balanced'\n",
    "\n",
    "one_d_balanced = OneDimensionalCover(**kwargs)\n",
    "one_d_balanced.fit(X)\n",
    "one_d_balanced.fitted_intervals()"
   ]
  },
  {
   "cell_type": "code",
   "execution_count": 11,
   "metadata": {},
   "outputs": [
    {
     "data": {
      "text/plain": [
       "True"
      ]
     },
     "execution_count": 11,
     "metadata": {},
     "output_type": "execute_result"
    }
   ],
   "source": [
    "Xt = one_d_balanced.transform(X)\n",
    "np.array_equal(Xt, OneDimensionalCover(**kwargs).fit_transform(X))"
   ]
  },
  {
   "cell_type": "markdown",
   "metadata": {},
   "source": [
    "The folloting NotFittedError is desirable"
   ]
  },
  {
   "cell_type": "code",
   "execution_count": 12,
   "metadata": {},
   "outputs": [
    {
     "ename": "NotFittedError",
     "evalue": "When the cover is balanced and n_intervals > 1, the left and right limits of the cover intervals are not explicitly calculated during 'fit_transform'. Please call 'fit' explicitly on the same data before using this method.",
     "output_type": "error",
     "traceback": [
      "\u001b[0;31m---------------------------------------------------------------------------\u001b[0m",
      "\u001b[0;31mNotFittedError\u001b[0m                            Traceback (most recent call last)",
      "\u001b[0;32m<ipython-input-12-46d7dd9bdb2a>\u001b[0m in \u001b[0;36m<module>\u001b[0;34m\u001b[0m\n\u001b[1;32m      1\u001b[0m \u001b[0mone_d_balanced\u001b[0m \u001b[0;34m=\u001b[0m \u001b[0mOneDimensionalCover\u001b[0m\u001b[0;34m(\u001b[0m\u001b[0;34m**\u001b[0m\u001b[0mkwargs\u001b[0m\u001b[0;34m)\u001b[0m\u001b[0;34m\u001b[0m\u001b[0;34m\u001b[0m\u001b[0m\n\u001b[1;32m      2\u001b[0m \u001b[0mone_d_balanced\u001b[0m\u001b[0;34m.\u001b[0m\u001b[0mfit_transform\u001b[0m\u001b[0;34m(\u001b[0m\u001b[0mX\u001b[0m\u001b[0;34m)\u001b[0m\u001b[0;34m\u001b[0m\u001b[0;34m\u001b[0m\u001b[0m\n\u001b[0;32m----> 3\u001b[0;31m \u001b[0mone_d_balanced\u001b[0m\u001b[0;34m.\u001b[0m\u001b[0mfitted_intervals\u001b[0m\u001b[0;34m(\u001b[0m\u001b[0;34m)\u001b[0m\u001b[0;34m\u001b[0m\u001b[0;34m\u001b[0m\u001b[0m\n\u001b[0m",
      "\u001b[0;32m~/Workspace/giotto-learn-lewis/giotto/mapper/cover.py\u001b[0m in \u001b[0;36mfitted_intervals\u001b[0;34m(self)\u001b[0m\n\u001b[1;32m    119\u001b[0m             \u001b[0;31m# Test whether self.left_limits_ and self.right_limits_ have\u001b[0m\u001b[0;34m\u001b[0m\u001b[0;34m\u001b[0m\u001b[0;34m\u001b[0m\u001b[0m\n\u001b[1;32m    120\u001b[0m             \u001b[0;31m# been created\u001b[0m\u001b[0;34m\u001b[0m\u001b[0;34m\u001b[0m\u001b[0;34m\u001b[0m\u001b[0m\n\u001b[0;32m--> 121\u001b[0;31m             \u001b[0mself\u001b[0m\u001b[0;34m.\u001b[0m\u001b[0m_check_limit_attrs\u001b[0m\u001b[0;34m(\u001b[0m\u001b[0;34m)\u001b[0m\u001b[0;34m\u001b[0m\u001b[0;34m\u001b[0m\u001b[0m\n\u001b[0m\u001b[1;32m    122\u001b[0m         \u001b[0;32mreturn\u001b[0m \u001b[0mlist\u001b[0m\u001b[0;34m(\u001b[0m\u001b[0mzip\u001b[0m\u001b[0;34m(\u001b[0m\u001b[0mself\u001b[0m\u001b[0;34m.\u001b[0m\u001b[0mleft_limits_\u001b[0m\u001b[0;34m,\u001b[0m \u001b[0mself\u001b[0m\u001b[0;34m.\u001b[0m\u001b[0mright_limits_\u001b[0m\u001b[0;34m)\u001b[0m\u001b[0;34m)\u001b[0m\u001b[0;34m\u001b[0m\u001b[0;34m\u001b[0m\u001b[0m\n\u001b[1;32m    123\u001b[0m \u001b[0;34m\u001b[0m\u001b[0m\n",
      "\u001b[0;32m~/Workspace/giotto-learn-lewis/giotto/mapper/cover.py\u001b[0m in \u001b[0;36m_check_limit_attrs\u001b[0;34m(self)\u001b[0m\n\u001b[1;32m    127\u001b[0m         \u001b[0;32mif\u001b[0m \u001b[0;32mnot\u001b[0m \u001b[0mhas_limits\u001b[0m\u001b[0;34m:\u001b[0m\u001b[0;34m\u001b[0m\u001b[0;34m\u001b[0m\u001b[0m\n\u001b[1;32m    128\u001b[0m             raise NotFittedError(\n\u001b[0;32m--> 129\u001b[0;31m                 \u001b[0;34m\"When the cover is balanced and n_intervals > 1, the left \"\u001b[0m\u001b[0;34m\u001b[0m\u001b[0;34m\u001b[0m\u001b[0m\n\u001b[0m\u001b[1;32m    130\u001b[0m                 \u001b[0;34m\"and right limits of the cover intervals are not \"\u001b[0m\u001b[0;34m\u001b[0m\u001b[0;34m\u001b[0m\u001b[0m\n\u001b[1;32m    131\u001b[0m                 \u001b[0;34m\"explicitly calculated during 'fit_transform'. Please \"\u001b[0m\u001b[0;34m\u001b[0m\u001b[0;34m\u001b[0m\u001b[0m\n",
      "\u001b[0;31mNotFittedError\u001b[0m: When the cover is balanced and n_intervals > 1, the left and right limits of the cover intervals are not explicitly calculated during 'fit_transform'. Please call 'fit' explicitly on the same data before using this method."
     ]
    }
   ],
   "source": [
    "one_d_balanced = OneDimensionalCover(**kwargs)\n",
    "one_d_balanced.fit_transform(X)\n",
    "one_d_balanced.fitted_intervals()"
   ]
  },
  {
   "cell_type": "code",
   "execution_count": 13,
   "metadata": {},
   "outputs": [
    {
     "data": {
      "text/plain": [
       "OneDimensionalCover(kind='balanced', n_intervals=20, overlap_frac=0.15)"
      ]
     },
     "execution_count": 13,
     "metadata": {},
     "output_type": "execute_result"
    }
   ],
   "source": [
    "one_d_balanced.fit(X)"
   ]
  },
  {
   "cell_type": "code",
   "execution_count": 14,
   "metadata": {},
   "outputs": [
    {
     "data": {
      "text/plain": [
       "[(-inf, 0.0543155172021722),\n",
       " (0.0520833334217784, 0.14038841825223847),\n",
       " (0.09673871965751446, 0.20958316958222278),\n",
       " (0.1659762964553333, 0.2688300103853465),\n",
       " (0.25798582236655865, 0.3035549339054695),\n",
       " (0.2846390084554944, 0.35478646042082695),\n",
       " (0.3407300542122954, 0.3929097939442763),\n",
       " (0.38054490208921243, 0.4519793565850829),\n",
       " (0.43910052491932583, 0.49239151157664807),\n",
       " (0.48829614317981884, 0.5508677888155123),\n",
       " (0.5479776705360854, 0.6178155415994524),\n",
       " (0.6131046913551913, 0.6823535043745068),\n",
       " (0.6690532883635657, 0.7444534580257602),\n",
       " (0.7096187905968698, 0.7917725707958202),\n",
       " (0.7815688425858366, 0.8248076479812801),\n",
       " (0.8218697531378094, 0.8477845757311394),\n",
       " (0.8403563617317884, 0.9019705737952136),\n",
       " (0.8800044946867189, 0.9307772316163265),\n",
       " (0.9127169643858987, 0.9797068488581224),\n",
       " (0.9750759316899386, inf)]"
      ]
     },
     "execution_count": 14,
     "metadata": {},
     "output_type": "execute_result"
    }
   ],
   "source": [
    "one_d_balanced.fitted_intervals()"
   ]
  },
  {
   "cell_type": "code",
   "execution_count": 15,
   "metadata": {},
   "outputs": [
    {
     "name": "stdout",
     "output_type": "stream",
     "text": [
      "6\n",
      "6\n",
      "6\n",
      "6\n",
      "6\n",
      "6\n",
      "6\n",
      "6\n",
      "5\n",
      "5\n",
      "5\n",
      "5\n",
      "6\n",
      "6\n",
      "6\n",
      "6\n",
      "6\n",
      "6\n",
      "6\n",
      "6\n"
     ]
    }
   ],
   "source": [
    "for mask in Xt.T:\n",
    "    print(mask.sum())"
   ]
  },
  {
   "cell_type": "code",
   "execution_count": 16,
   "metadata": {},
   "outputs": [
    {
     "data": {
      "text/plain": [
       "array([-0.5       ,  4.45626822,  9.41253644, 14.36880466, 19.32507289,\n",
       "       24.28134111, 29.23760933, 34.19387755, 39.15014577, 44.10641399,\n",
       "       49.06268222, 54.01895044, 58.97521866, 63.93148688, 68.8877551 ,\n",
       "       73.84402332, 78.80029155, 83.75655977, 88.71282799, 93.66909621])"
      ]
     },
     "execution_count": 16,
     "metadata": {},
     "output_type": "execute_result"
    }
   ],
   "source": [
    "one_d_balanced._left_limits"
   ]
  },
  {
   "cell_type": "code",
   "execution_count": 17,
   "metadata": {},
   "outputs": [
    {
     "data": {
      "text/plain": [
       "array([ 5.33090379, 10.28717201, 15.24344023, 20.19970845, 25.15597668,\n",
       "       30.1122449 , 35.06851312, 40.02478134, 44.98104956, 49.93731778,\n",
       "       54.89358601, 59.84985423, 64.80612245, 69.76239067, 74.71865889,\n",
       "       79.67492711, 84.63119534, 89.58746356, 94.54373178, 99.5       ])"
      ]
     },
     "execution_count": 17,
     "metadata": {},
     "output_type": "execute_result"
    }
   ],
   "source": [
    "one_d_balanced._right_limits"
   ]
  },
  {
   "cell_type": "code",
   "execution_count": 18,
   "metadata": {},
   "outputs": [
    {
     "data": {
      "text/plain": [
       "array([5.83090379, 5.83090379, 5.83090379, 5.83090379, 5.83090379,\n",
       "       5.83090379, 5.83090379, 5.83090379, 5.83090379, 5.83090379,\n",
       "       5.83090379, 5.83090379, 5.83090379, 5.83090379, 5.83090379,\n",
       "       5.83090379, 5.83090379, 5.83090379, 5.83090379, 5.83090379])"
      ]
     },
     "execution_count": 18,
     "metadata": {},
     "output_type": "execute_result"
    }
   ],
   "source": [
    "diffs = one_d_balanced._right_limits - one_d_balanced._left_limits\n",
    "diffs"
   ]
  },
  {
   "cell_type": "code",
   "execution_count": 19,
   "metadata": {},
   "outputs": [],
   "source": [
    "overlap = one_d_balanced._right_limits[:-1] - one_d_balanced._left_limits[1:]"
   ]
  },
  {
   "cell_type": "code",
   "execution_count": 20,
   "metadata": {},
   "outputs": [
    {
     "data": {
      "text/plain": [
       "0.15000000000000002"
      ]
     },
     "execution_count": 20,
     "metadata": {},
     "output_type": "execute_result"
    }
   ],
   "source": [
    "overlap[0] / diffs[0]"
   ]
  },
  {
   "cell_type": "code",
   "execution_count": 21,
   "metadata": {},
   "outputs": [],
   "source": [
    "X = np.random.random((n_samples, 2))\n",
    "kwargs['kind'] = 'uniform'\n",
    "cubical_uniform = CubicalCover(**kwargs)"
   ]
  },
  {
   "cell_type": "code",
   "execution_count": 22,
   "metadata": {},
   "outputs": [
    {
     "data": {
      "text/plain": [
       "CubicalCover(kind='uniform', n_intervals=20, overlap_frac=0.15)"
      ]
     },
     "execution_count": 22,
     "metadata": {},
     "output_type": "execute_result"
    }
   ],
   "source": [
    "cubical_uniform.fit(X)"
   ]
  },
  {
   "cell_type": "code",
   "execution_count": 23,
   "metadata": {},
   "outputs": [],
   "source": [
    "Xt = cubical_uniform.transform(X)"
   ]
  },
  {
   "cell_type": "code",
   "execution_count": 24,
   "metadata": {},
   "outputs": [
    {
     "data": {
      "text/plain": [
       "True"
      ]
     },
     "execution_count": 24,
     "metadata": {},
     "output_type": "execute_result"
    }
   ],
   "source": [
    "np.array_equal(Xt, CubicalCover(**kwargs).fit_transform(X))"
   ]
  },
  {
   "cell_type": "code",
   "execution_count": 35,
   "metadata": {},
   "outputs": [],
   "source": [
    "kwargs['kind'] = 'balanced'\n",
    "cubical_balanced = CubicalCover(**kwargs)"
   ]
  },
  {
   "cell_type": "code",
   "execution_count": 36,
   "metadata": {},
   "outputs": [
    {
     "data": {
      "text/plain": [
       "CubicalCover(kind='balanced', n_intervals=20, overlap_frac=0.15)"
      ]
     },
     "execution_count": 36,
     "metadata": {},
     "output_type": "execute_result"
    }
   ],
   "source": [
    "cubical_balanced.fit(X)"
   ]
  },
  {
   "cell_type": "code",
   "execution_count": 37,
   "metadata": {},
   "outputs": [],
   "source": [
    "Xt = cubical_balanced.transform(X)"
   ]
  },
  {
   "cell_type": "code",
   "execution_count": 38,
   "metadata": {},
   "outputs": [
    {
     "data": {
      "text/plain": [
       "True"
      ]
     },
     "execution_count": 38,
     "metadata": {},
     "output_type": "execute_result"
    }
   ],
   "source": [
    "np.array_equal(Xt, CubicalCover(**kwargs).fit_transform(X))"
   ]
  },
  {
   "cell_type": "code",
   "execution_count": null,
   "metadata": {},
   "outputs": [],
   "source": []
  },
  {
   "cell_type": "code",
   "execution_count": 39,
   "metadata": {},
   "outputs": [
    {
     "data": {
      "image/png": "[encoded data removed]",
      "text/plain": [
       "<Figure size 432x288 with 1 Axes>"
      ]
     },
     "metadata": {
      "needs_background": "light"
     },
     "output_type": "display_data"
    }
   ],
   "source": [
    "plt.axis([0, 1, 0, 1])\n",
    "plt.scatter(X[:, 0], X[:, 1]);"
   ]
  },
  {
   "cell_type": "code",
   "execution_count": 40,
   "metadata": {},
   "outputs": [],
   "source": [
    "k = -1"
   ]
  },
  {
   "cell_type": "code",
   "execution_count": 57,
   "metadata": {},
   "outputs": [
    {
     "data": {
      "image/png": "[encoded data removed]",
      "text/plain": [
       "<Figure size 432x288 with 1 Axes>"
      ]
     },
     "metadata": {
      "needs_background": "light"
     },
     "output_type": "display_data"
    }
   ],
   "source": [
    "k += 1\n",
    "X_cover = X[Xt[:,k]]\n",
    "plt.axis([0, 1, 0, 1])\n",
    "plt.scatter(X_cover[:, 0], X_cover[:, 1]);"
   ]
  },
  {
   "cell_type": "code",
   "execution_count": null,
   "metadata": {},
   "outputs": [],
   "source": []
  }
 ],
 "metadata": {
  "kernelspec": {
   "display_name": "Python 3",
   "language": "python",
   "name": "python3"
  },
  "language_info": {
   "codemirror_mode": {
    "name": "ipython",
    "version": 3
   },
   "file_extension": ".py",
   "mimetype": "text/x-python",
   "name": "python",
   "nbconvert_exporter": "python",
   "pygments_lexer": "ipython3",
   "version": "3.7.5"
  }
 },
 "nbformat": 4,
 "nbformat_minor": 4
}
