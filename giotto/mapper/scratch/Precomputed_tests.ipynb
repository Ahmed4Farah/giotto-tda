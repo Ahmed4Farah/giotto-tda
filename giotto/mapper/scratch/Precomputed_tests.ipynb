{
 "cells": [
  {
   "cell_type": "code",
   "execution_count": 1,
   "metadata": {},
   "outputs": [],
   "source": [
    "import numpy as np\n",
    "\n",
    "from scipy.spatial.distance import pdist, squareform\n",
    "\n",
    "from inspect import signature\n",
    "\n",
    "from functools import partial\n",
    "\n",
    "from giotto.mapper import Eccentricity, OneDimensionalCover, ParallelClustering\n",
    "\n",
    "from joblib import Parallel, delayed\n",
    "\n",
    "from sklearn.base import BaseEstimator, ClusterMixin, TransformerMixin, clone\n",
    "from sklearn.utils.validation import check_is_fitted\n",
    "from sklearn.datasets import make_circles, make_moons\n",
    "from sklearn.preprocessing import FunctionTransformer\n",
    "from sklearn.cluster import DBSCAN"
   ]
  },
  {
   "cell_type": "code",
   "execution_count": 2,
   "metadata": {},
   "outputs": [],
   "source": [
    "from matplotlib import pyplot as plt\n",
    "%matplotlib inline"
   ]
  },
  {
   "cell_type": "code",
   "execution_count": 3,
   "metadata": {},
   "outputs": [],
   "source": [
    "T = 10000\n",
    "X = make_moons(n_samples=T, noise=.1)[0]\n",
    "X_prec = squareform(pdist(X, metric='euclidean'))"
   ]
  },
  {
   "cell_type": "code",
   "execution_count": 4,
   "metadata": {},
   "outputs": [
    {
     "data": {
      "text/plain": [
       "<matplotlib.collections.PathCollection at 0x127998210>"
      ]
     },
     "execution_count": 4,
     "metadata": {},
     "output_type": "execute_result"
    },
    {
     "data": {
      "image/png": "[encoded data removed]",
      "text/plain": [
       "<Figure size 432x288 with 1 Axes>"
      ]
     },
     "metadata": {
      "needs_background": "light"
     },
     "output_type": "display_data"
    }
   ],
   "source": [
    "plt.scatter(X[:, 0], X[:, 1])"
   ]
  },
  {
   "cell_type": "code",
   "execution_count": 5,
   "metadata": {},
   "outputs": [],
   "source": [
    "# def proj(x, coords=0):\n",
    "#     if hasattr(coords, '__iter__'):\n",
    "#         return x[:, coords]\n",
    "#     return x[:, coords, None]\n",
    "\n",
    "# filter_func = FunctionTransformer(func=partial(proj, coords=0), validate=False)"
   ]
  },
  {
   "cell_type": "code",
   "execution_count": 6,
   "metadata": {},
   "outputs": [],
   "source": [
    "cover = OneDimensionalCover(n_intervals=50)"
   ]
  },
  {
   "cell_type": "code",
   "execution_count": 7,
   "metadata": {},
   "outputs": [],
   "source": [
    "filter_func = Eccentricity()"
   ]
  },
  {
   "cell_type": "code",
   "execution_count": 8,
   "metadata": {},
   "outputs": [],
   "source": [
    "filter_vals = filter_func.fit_transform(X) \n",
    "masks = OneDimensionalCover().fit_transform(filter_vals)\n",
    "Xtot = [X, masks]"
   ]
  },
  {
   "cell_type": "code",
   "execution_count": 9,
   "metadata": {},
   "outputs": [],
   "source": [
    "filter_func_prec = Eccentricity(metric='precomputed')"
   ]
  },
  {
   "cell_type": "code",
   "execution_count": 10,
   "metadata": {},
   "outputs": [],
   "source": [
    "filter_vals_prec = filter_func_prec.fit_transform(X_prec) \n",
    "masks_prec = OneDimensionalCover().fit_transform(filter_vals_prec)\n",
    "Xtot_prec = [X_prec, masks_prec]"
   ]
  },
  {
   "cell_type": "code",
   "execution_count": 11,
   "metadata": {},
   "outputs": [
    {
     "data": {
      "text/plain": [
       "True"
      ]
     },
     "execution_count": 11,
     "metadata": {},
     "output_type": "execute_result"
    }
   ],
   "source": [
    "np.array_equal(Xtot_prec[1], Xtot[1])"
   ]
  },
  {
   "cell_type": "code",
   "execution_count": 12,
   "metadata": {},
   "outputs": [],
   "source": [
    "parClus = ParallelClustering()\n",
    "parClus_prec = ParallelClustering(clusterer=DBSCAN(metric='precomputed'))"
   ]
  },
  {
   "cell_type": "code",
   "execution_count": 13,
   "metadata": {},
   "outputs": [],
   "source": [
    "nodes = parClus.fit_transform(Xtot)\n",
    "nodes_prec = parClus_prec.fit_transform(Xtot_prec)"
   ]
  },
  {
   "cell_type": "code",
   "execution_count": 19,
   "metadata": {},
   "outputs": [],
   "source": [
    "for i, node in enumerate(nodes):\n",
    "    for j, c in enumerate(node):\n",
    "        assert np.array_equal(c[2], nodes_prec[i][j][2])"
   ]
  }
 ],
 "metadata": {
  "kernelspec": {
   "display_name": "Python 3",
   "language": "python",
   "name": "python3"
  },
  "language_info": {
   "codemirror_mode": {
    "name": "ipython",
    "version": 3
   },
   "file_extension": ".py",
   "mimetype": "text/x-python",
   "name": "python",
   "nbconvert_exporter": "python",
   "pygments_lexer": "ipython3",
   "version": "3.7.5"
  }
 },
 "nbformat": 4,
 "nbformat_minor": 4
}
