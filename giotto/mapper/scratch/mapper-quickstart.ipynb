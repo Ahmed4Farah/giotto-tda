{
 "cells": [
  {
   "cell_type": "markdown",
   "metadata": {},
   "source": [
    "## Load libraries"
   ]
  },
  {
   "cell_type": "code",
   "execution_count": 1,
   "metadata": {},
   "outputs": [],
   "source": [
    "%load_ext autoreload\n",
    "%autoreload 2\n",
    "%matplotlib inline"
   ]
  },
  {
   "cell_type": "code",
   "execution_count": 10,
   "metadata": {},
   "outputs": [],
   "source": [
    "import sklearn\n",
    "from sklearn import datasets\n",
    "import networkx as nx\n",
    "import matplotlib.pyplot as plt\n",
    "import numpy as np\n",
    "\n",
    "from sklearn.cluster import DBSCAN\n",
    "\n",
    "from giotto.mapper.cover import CubicalCover\n",
    "from giotto.mapper.mapper import make_mapper_pipeline\n",
    "from giotto.mapper.filter import Projection\n",
    "from giotto.mapper.visualize import create_network_2d\n",
    "\n",
    "import warnings\n",
    "warnings.simplefilter(action='ignore', category=FutureWarning)"
   ]
  },
  {
   "cell_type": "markdown",
   "metadata": {},
   "source": [
    "## Simulate data"
   ]
  },
  {
   "cell_type": "code",
   "execution_count": 3,
   "metadata": {},
   "outputs": [
    {
     "data": {
      "image/png": "[encoded data removed]",
      "text/plain": [
       "<Figure size 432x288 with 1 Axes>"
      ]
     },
     "metadata": {
      "needs_background": "light"
     },
     "output_type": "display_data"
    }
   ],
   "source": [
    "data, labels = datasets.make_circles(n_samples=5000, noise=0.05, factor=0.3)\n",
    "plt.scatter(data[:,0], data[:, 1]);"
   ]
  },
  {
   "cell_type": "markdown",
   "metadata": {},
   "source": [
    "## Configure Mapper pipeline"
   ]
  },
  {
   "cell_type": "code",
   "execution_count": 33,
   "metadata": {},
   "outputs": [],
   "source": [
    "# define filter function - can be any scikit-learn Transformer\n",
    "filter_func = Projection(column_indices=1)\n",
    "# define cover - only one type is available at the moment\n",
    "cover = CubicalCover(n_intervals=20, overlap_frac=0.1)\n",
    "# choose clustering algorithm - default is DBSCAN\n",
    "clusterer = DBSCAN(eps=0.5)"
   ]
  },
  {
   "cell_type": "code",
   "execution_count": 34,
   "metadata": {},
   "outputs": [],
   "source": [
    "# initialise pipeline\n",
    "n_jobs_outer = 1\n",
    "\n",
    "pipe = make_mapper_pipeline(filter_func=filter_func,\n",
    "                            cover=cover,\n",
    "                            clusterer=clusterer,\n",
    "                            verbose=True,\n",
    "                            n_jobs_outer=n_jobs_outer)"
   ]
  },
  {
   "cell_type": "markdown",
   "metadata": {},
   "source": [
    "## Run Mapper pipeline"
   ]
  },
  {
   "cell_type": "code",
   "execution_count": 35,
   "metadata": {},
   "outputs": [
    {
     "name": "stdout",
     "output_type": "stream",
     "text": [
      "[Pipeline] ............ (step 1 of 3) Processing scaler, total=   0.0s\n",
      "[Pipeline] ....... (step 2 of 3) Processing filter_func, total=   0.0s\n",
      "[Pipeline] ............. (step 3 of 3) Processing cover, total=   0.0s\n",
      "[Pipeline] .... (step 1 of 3) Processing pullback_cover, total=   0.0s\n",
      "[Pipeline] ........ (step 2 of 3) Processing clustering, total=   0.0s\n",
      "[Pipeline] ............. (step 3 of 3) Processing nerve, total=   0.0s\n"
     ]
    }
   ],
   "source": [
    "graph = pipe.fit_transform(data)"
   ]
  },
  {
   "cell_type": "markdown",
   "metadata": {},
   "source": [
    "## Visualise Mapper graph"
   ]
  },
  {
   "cell_type": "code",
   "execution_count": 36,
   "metadata": {},
   "outputs": [],
   "source": [
    "node_elements = nx.get_node_attributes(graph, 'elements')"
   ]
  },
  {
   "cell_type": "code",
   "execution_count": 37,
   "metadata": {},
   "outputs": [],
   "source": [
    "node_sizes = [len(el) for el in node_elements.values()]"
   ]
  },
  {
   "cell_type": "code",
   "execution_count": 38,
   "metadata": {},
   "outputs": [],
   "source": [
    "node_colors = [np.mean(data[el]) for el in node_elements.values()]"
   ]
  },
  {
   "cell_type": "code",
   "execution_count": 39,
   "metadata": {},
   "outputs": [],
   "source": [
    "node_text = [k for k in node_elements.keys()]"
   ]
  },
  {
   "cell_type": "code",
   "execution_count": 40,
   "metadata": {},
   "outputs": [],
   "source": [
    "pos = nx.kamada_kawai_layout(graph)\n",
    "\n",
    "fig = create_network_2d(graph, pos, node_sizes, node_colors, node_sizes, node_scale=20)"
   ]
  },
  {
   "cell_type": "code",
   "execution_count": 41,
   "metadata": {},
   "outputs": [
    {
     "data": {
      "application/vnd.plotly.v1+json": {
       "config": {
        "plotlyServerURL": "https://plot.ly"
       },
       "data": [
        {
         "hoverinfo": "none",
         "line": {
          "color": "#888",
          "width": 0.5
         },
         "mode": "lines",
         "type": "scatter",
         "x": [
          0.24888774659617907,
          0.21307021819897656,
          null,
          0.21307021819897656,
          0.17428858649966317,
          null,
          0.17428858649966317,
          0.2593719812231567,
          null,
          0.17428858649966317,
          0.04693939942749431,
          null,
          0.2593719812231567,
          0.2798923862539837,
          null,
          0.04693939942749431,
          -0.046879508695996615,
          null,
          0.2798923862539837,
          0.23336532062634746,
          null,
          -0.046879508695996615,
          -0.0860710076440952,
          null,
          0.23336532062634746,
          0.13541209187207315,
          null,
          -0.0860710076440952,
          -0.05273930915737671,
          null,
          -0.05273930915737671,
          0.009104167677548973,
          null,
          -0.11564181648832739,
          0.009104167677548973,
          null,
          0.13541209187207315,
          0.009104167677548973,
          null,
          0.009104167677548973,
          0.003682447652098731,
          null,
          0.003682447652098731,
          -0.021756742107421016,
          null,
          -0.021756742107421016,
          -0.05222479353305962,
          null,
          -0.05222479353305962,
          -0.07781187044779354,
          null,
          -0.07781187044779354,
          -0.19986572913681958,
          null,
          -0.07781187044779354,
          0.03593119151218349,
          null,
          -0.19986572913681958,
          -0.32682365389103923,
          null,
          -0.19986572913681958,
          -0.2276521594586132,
          null,
          0.03593119151218349,
          0.12741687189495426,
          null,
          0.12741687189495426,
          0.17808370369549534,
          null,
          -0.32682365389103923,
          -0.4496542420304695,
          null,
          -0.2276521594586132,
          -0.24321785881279157,
          null,
          -0.24321785881279157,
          -0.20850040302640444,
          null,
          0.17808370369549534,
          0.1732034653472261,
          null,
          0.1732034653472261,
          0.1081191840671201,
          null,
          -0.20850040302640444,
          -0.12456816280590814,
          null,
          0.1081191840671201,
          -0.005318719983638211,
          null,
          -0.12456816280590814,
          -0.005318719983638211,
          null,
          -0.005318719983638211,
          0.002133353311173863,
          null,
          0.002133353311173863,
          0.009823861364079107,
          null
         ],
         "y": [
          1,
          0.8912865394352343,
          null,
          0.8912865394352343,
          0.7760155780314761,
          null,
          0.7760155780314761,
          0.6773097273365758,
          null,
          0.7760155780314761,
          0.7496138891430266,
          null,
          0.6773097273365758,
          0.5529871211494284,
          null,
          0.7496138891430266,
          0.665890617683258,
          null,
          0.5529871211494284,
          0.43611509039405666,
          null,
          0.665890617683258,
          0.5477435757023552,
          null,
          0.43611509039405666,
          0.35504022458836254,
          null,
          0.5477435757023552,
          0.4276035997969219,
          null,
          0.4276035997969219,
          0.3137421255370273,
          null,
          0.31691703017673584,
          0.3137421255370273,
          null,
          0.35504022458836254,
          0.3137421255370273,
          null,
          0.3137421255370273,
          0.1858445835722466,
          null,
          0.1858445835722466,
          0.06716743717817156,
          null,
          0.06716743717817156,
          -0.050595062349053296,
          null,
          -0.050595062349053296,
          -0.17605392774336348,
          null,
          -0.17605392774336348,
          -0.23869649959649472,
          null,
          -0.17605392774336348,
          -0.2471602221181748,
          null,
          -0.23869649959649472,
          -0.21077353791002185,
          null,
          -0.23869649959649472,
          -0.3633509013419066,
          null,
          -0.2471602221181748,
          -0.33740743275142815,
          null,
          -0.33740743275142815,
          -0.45299575369386647,
          null,
          -0.21077353791002185,
          -0.2092998593614565,
          null,
          -0.3633509013419066,
          -0.48731222204269037,
          null,
          -0.48731222204269037,
          -0.6068646275558099,
          null,
          -0.45299575369386647,
          -0.5787395390096415,
          null,
          -0.5787395390096415,
          -0.6867573358717893,
          null,
          -0.6068646275558099,
          -0.7000782030581754,
          null,
          -0.6867573358717893,
          -0.7524269409495311,
          null,
          -0.7000782030581754,
          -0.7524269409495311,
          null,
          -0.7524269409495311,
          -0.874977348256105,
          null,
          -0.874977348256105,
          -0.9897877261153685,
          null
         ]
        },
        {
         "hoverinfo": "text",
         "marker": {
          "cmax": 1,
          "cmin": 0,
          "color": [
           -0.5496914286214993,
           -0.4859246235681622,
           -0.44553941744505976,
           -0.6996025665810871,
           -0.06211475001105699,
           -0.6925025040842113,
           0.06454997843777315,
           -0.6823635611424486,
           0.15420451170986588,
           0.243499556466007,
           -0.18689011017506785,
           -0.6582540000158008,
           -0.1419695572742651,
           -0.09637226662344744,
           -0.042711031404515896,
           0.03691311525571066,
           0.08089939490463016,
           0.08924583762651679,
           0.6150547494772274,
           0.6506322396968062,
           0.16641813205502848,
           -0.2629565364512636,
           0.16940622220086113,
           -0.17588324397105443,
           0.6790691279594593,
           0.7004081800195209,
           -0.07274913608143348,
           0.6963277442554581,
           0.016662172319486877,
           0.4242940308221011,
           0.4694291225476833,
           0.5207697504499805
          ],
          "colorbar": {
           "thickness": 15,
           "title": {
            "side": "right",
            "text": ""
           },
           "xanchor": "left"
          },
          "colorscale": [
           [
            0,
            "#440154"
           ],
           [
            0.1111111111111111,
            "#482878"
           ],
           [
            0.2222222222222222,
            "#3e4989"
           ],
           [
            0.3333333333333333,
            "#31688e"
           ],
           [
            0.4444444444444444,
            "#26828e"
           ],
           [
            0.5555555555555556,
            "#1f9e89"
           ],
           [
            0.6666666666666666,
            "#35b779"
           ],
           [
            0.7777777777777778,
            "#6ece58"
           ],
           [
            0.8888888888888888,
            "#b5de2b"
           ],
           [
            1,
            "#fde725"
           ]
          ],
          "line": {
           "color": "#888",
           "width": 2
          },
          "reversescale": true,
          "showscale": true,
          "size": [
           45,
           258,
           254,
           75,
           77,
           57,
           70,
           68,
           56,
           59,
           52,
           55,
           554,
           598,
           442,
           446,
           565,
           588,
           47,
           59,
           111,
           65,
           1,
           52,
           54,
           69,
           75,
           63,
           63,
           211,
           281,
           111
          ],
          "sizemin": 4,
          "sizemode": "area",
          "sizeref": 2.99
         },
         "mode": "markers",
         "text": [
          "45",
          "258",
          "254",
          "75",
          "77",
          "57",
          "70",
          "68",
          "56",
          "59",
          "52",
          "55",
          "554",
          "598",
          "442",
          "446",
          "565",
          "588",
          "47",
          "59",
          "111",
          "65",
          "1",
          "52",
          "54",
          "69",
          "75",
          "63",
          "63",
          "211",
          "281",
          "111"
         ],
         "type": "scatter",
         "x": [
          0.24888774659617907,
          0.21307021819897656,
          0.17428858649966317,
          0.2593719812231567,
          0.04693939942749431,
          0.2798923862539837,
          -0.046879508695996615,
          0.23336532062634746,
          -0.0860710076440952,
          -0.05273930915737671,
          -0.11564181648832739,
          0.13541209187207315,
          0.009104167677548973,
          0.003682447652098731,
          -0.021756742107421016,
          -0.05222479353305962,
          -0.07781187044779354,
          -0.19986572913681958,
          0.03593119151218349,
          0.12741687189495426,
          -0.32682365389103923,
          -0.2276521594586132,
          -0.4496542420304695,
          -0.24321785881279157,
          0.17808370369549534,
          0.1732034653472261,
          -0.20850040302640444,
          0.1081191840671201,
          -0.12456816280590814,
          -0.005318719983638211,
          0.002133353311173863,
          0.009823861364079107
         ],
         "y": [
          1,
          0.8912865394352343,
          0.7760155780314761,
          0.6773097273365758,
          0.7496138891430266,
          0.5529871211494284,
          0.665890617683258,
          0.43611509039405666,
          0.5477435757023552,
          0.4276035997969219,
          0.31691703017673584,
          0.35504022458836254,
          0.3137421255370273,
          0.1858445835722466,
          0.06716743717817156,
          -0.050595062349053296,
          -0.17605392774336348,
          -0.23869649959649472,
          -0.2471602221181748,
          -0.33740743275142815,
          -0.21077353791002185,
          -0.3633509013419066,
          -0.2092998593614565,
          -0.48731222204269037,
          -0.45299575369386647,
          -0.5787395390096415,
          -0.6068646275558099,
          -0.6867573358717893,
          -0.7000782030581754,
          -0.7524269409495311,
          -0.874977348256105,
          -0.9897877261153685
         ]
        }
       ],
       "layout": {
        "autosize": true,
        "hovermode": "closest",
        "margin": {
         "b": 20,
         "l": 5,
         "r": 5,
         "t": 40
        },
        "showlegend": false,
        "template": {
         "data": {
          "bar": [
           {
            "error_x": {
             "color": "rgb(36,36,36)"
            },
            "error_y": {
             "color": "rgb(36,36,36)"
            },
            "marker": {
             "line": {
              "color": "white",
              "width": 0.5
             }
            },
            "type": "bar"
           }
          ],
          "barpolar": [
           {
            "marker": {
             "line": {
              "color": "white",
              "width": 0.5
             }
            },
            "type": "barpolar"
           }
          ],
          "carpet": [
           {
            "aaxis": {
             "endlinecolor": "rgb(36,36,36)",
             "gridcolor": "white",
             "linecolor": "white",
             "minorgridcolor": "white",
             "startlinecolor": "rgb(36,36,36)"
            },
            "baxis": {
             "endlinecolor": "rgb(36,36,36)",
             "gridcolor": "white",
             "linecolor": "white",
             "minorgridcolor": "white",
             "startlinecolor": "rgb(36,36,36)"
            },
            "type": "carpet"
           }
          ],
          "choropleth": [
           {
            "colorbar": {
             "outlinewidth": 10,
             "tickcolor": "rgb(36,36,36)",
             "ticklen": 8,
             "ticks": "outside",
             "tickwidth": 2
            },
            "type": "choropleth"
           }
          ],
          "contour": [
           {
            "colorbar": {
             "outlinewidth": 10,
             "tickcolor": "rgb(36,36,36)",
             "ticklen": 8,
             "ticks": "outside",
             "tickwidth": 2
            },
            "colorscale": [
             [
              0,
              "#440154"
             ],
             [
              0.1111111111111111,
              "#482878"
             ],
             [
              0.2222222222222222,
              "#3e4989"
             ],
             [
              0.3333333333333333,
              "#31688e"
             ],
             [
              0.4444444444444444,
              "#26828e"
             ],
             [
              0.5555555555555556,
              "#1f9e89"
             ],
             [
              0.6666666666666666,
              "#35b779"
             ],
             [
              0.7777777777777778,
              "#6ece58"
             ],
             [
              0.8888888888888888,
              "#b5de2b"
             ],
             [
              1,
              "#fde725"
             ]
            ],
            "type": "contour"
           }
          ],
          "contourcarpet": [
           {
            "colorbar": {
             "outlinewidth": 10,
             "tickcolor": "rgb(36,36,36)",
             "ticklen": 8,
             "ticks": "outside",
             "tickwidth": 2
            },
            "type": "contourcarpet"
           }
          ],
          "heatmap": [
           {
            "colorbar": {
             "outlinewidth": 10,
             "tickcolor": "rgb(36,36,36)",
             "ticklen": 8,
             "ticks": "outside",
             "tickwidth": 2
            },
            "colorscale": [
             [
              0,
              "#440154"
             ],
             [
              0.1111111111111111,
              "#482878"
             ],
             [
              0.2222222222222222,
              "#3e4989"
             ],
             [
              0.3333333333333333,
              "#31688e"
             ],
             [
              0.4444444444444444,
              "#26828e"
             ],
             [
              0.5555555555555556,
              "#1f9e89"
             ],
             [
              0.6666666666666666,
              "#35b779"
             ],
             [
              0.7777777777777778,
              "#6ece58"
             ],
             [
              0.8888888888888888,
              "#b5de2b"
             ],
             [
              1,
              "#fde725"
             ]
            ],
            "type": "heatmap"
           }
          ],
          "heatmapgl": [
           {
            "colorbar": {
             "outlinewidth": 10,
             "tickcolor": "rgb(36,36,36)",
             "ticklen": 8,
             "ticks": "outside",
             "tickwidth": 2
            },
            "colorscale": [
             [
              0,
              "#440154"
             ],
             [
              0.1111111111111111,
              "#482878"
             ],
             [
              0.2222222222222222,
              "#3e4989"
             ],
             [
              0.3333333333333333,
              "#31688e"
             ],
             [
              0.4444444444444444,
              "#26828e"
             ],
             [
              0.5555555555555556,
              "#1f9e89"
             ],
             [
              0.6666666666666666,
              "#35b779"
             ],
             [
              0.7777777777777778,
              "#6ece58"
             ],
             [
              0.8888888888888888,
              "#b5de2b"
             ],
             [
              1,
              "#fde725"
             ]
            ],
            "type": "heatmapgl"
           }
          ],
          "histogram": [
           {
            "marker": {
             "line": {
              "color": "white",
              "width": 0.6
             }
            },
            "type": "histogram"
           }
          ],
          "histogram2d": [
           {
            "colorbar": {
             "outlinewidth": 10,
             "tickcolor": "rgb(36,36,36)",
             "ticklen": 8,
             "ticks": "outside",
             "tickwidth": 2
            },
            "colorscale": [
             [
              0,
              "#440154"
             ],
             [
              0.1111111111111111,
              "#482878"
             ],
             [
              0.2222222222222222,
              "#3e4989"
             ],
             [
              0.3333333333333333,
              "#31688e"
             ],
             [
              0.4444444444444444,
              "#26828e"
             ],
             [
              0.5555555555555556,
              "#1f9e89"
             ],
             [
              0.6666666666666666,
              "#35b779"
             ],
             [
              0.7777777777777778,
              "#6ece58"
             ],
             [
              0.8888888888888888,
              "#b5de2b"
             ],
             [
              1,
              "#fde725"
             ]
            ],
            "type": "histogram2d"
           }
          ],
          "histogram2dcontour": [
           {
            "colorbar": {
             "outlinewidth": 10,
             "tickcolor": "rgb(36,36,36)",
             "ticklen": 8,
             "ticks": "outside",
             "tickwidth": 2
            },
            "colorscale": [
             [
              0,
              "#440154"
             ],
             [
              0.1111111111111111,
              "#482878"
             ],
             [
              0.2222222222222222,
              "#3e4989"
             ],
             [
              0.3333333333333333,
              "#31688e"
             ],
             [
              0.4444444444444444,
              "#26828e"
             ],
             [
              0.5555555555555556,
              "#1f9e89"
             ],
             [
              0.6666666666666666,
              "#35b779"
             ],
             [
              0.7777777777777778,
              "#6ece58"
             ],
             [
              0.8888888888888888,
              "#b5de2b"
             ],
             [
              1,
              "#fde725"
             ]
            ],
            "type": "histogram2dcontour"
           }
          ],
          "mesh3d": [
           {
            "colorbar": {
             "outlinewidth": 10,
             "tickcolor": "rgb(36,36,36)",
             "ticklen": 8,
             "ticks": "outside",
             "tickwidth": 2
            },
            "type": "mesh3d"
           }
          ],
          "parcoords": [
           {
            "line": {
             "colorbar": {
              "outlinewidth": 10,
              "tickcolor": "rgb(36,36,36)",
              "ticklen": 8,
              "ticks": "outside",
              "tickwidth": 2
             }
            },
            "type": "parcoords"
           }
          ],
          "pie": [
           {
            "automargin": true,
            "type": "pie"
           }
          ],
          "scatter": [
           {
            "marker": {
             "colorbar": {
              "outlinewidth": 10,
              "tickcolor": "rgb(36,36,36)",
              "ticklen": 8,
              "ticks": "outside",
              "tickwidth": 2
             }
            },
            "type": "scatter"
           }
          ],
          "scatter3d": [
           {
            "line": {
             "colorbar": {
              "outlinewidth": 10,
              "tickcolor": "rgb(36,36,36)",
              "ticklen": 8,
              "ticks": "outside",
              "tickwidth": 2
             }
            },
            "marker": {
             "colorbar": {
              "outlinewidth": 10,
              "tickcolor": "rgb(36,36,36)",
              "ticklen": 8,
              "ticks": "outside",
              "tickwidth": 2
             }
            },
            "type": "scatter3d"
           }
          ],
          "scattercarpet": [
           {
            "marker": {
             "colorbar": {
              "outlinewidth": 10,
              "tickcolor": "rgb(36,36,36)",
              "ticklen": 8,
              "ticks": "outside",
              "tickwidth": 2
             }
            },
            "type": "scattercarpet"
           }
          ],
          "scattergeo": [
           {
            "marker": {
             "colorbar": {
              "outlinewidth": 10,
              "tickcolor": "rgb(36,36,36)",
              "ticklen": 8,
              "ticks": "outside",
              "tickwidth": 2
             }
            },
            "type": "scattergeo"
           }
          ],
          "scattergl": [
           {
            "marker": {
             "colorbar": {
              "outlinewidth": 10,
              "tickcolor": "rgb(36,36,36)",
              "ticklen": 8,
              "ticks": "outside",
              "tickwidth": 2
             }
            },
            "type": "scattergl"
           }
          ],
          "scattermapbox": [
           {
            "marker": {
             "colorbar": {
              "outlinewidth": 10,
              "tickcolor": "rgb(36,36,36)",
              "ticklen": 8,
              "ticks": "outside",
              "tickwidth": 2
             }
            },
            "type": "scattermapbox"
           }
          ],
          "scatterpolar": [
           {
            "marker": {
             "colorbar": {
              "outlinewidth": 10,
              "tickcolor": "rgb(36,36,36)",
              "ticklen": 8,
              "ticks": "outside",
              "tickwidth": 2
             }
            },
            "type": "scatterpolar"
           }
          ],
          "scatterpolargl": [
           {
            "marker": {
             "colorbar": {
              "outlinewidth": 10,
              "tickcolor": "rgb(36,36,36)",
              "ticklen": 8,
              "ticks": "outside",
              "tickwidth": 2
             }
            },
            "type": "scatterpolargl"
           }
          ],
          "scatterternary": [
           {
            "marker": {
             "colorbar": {
              "outlinewidth": 10,
              "tickcolor": "rgb(36,36,36)",
              "ticklen": 8,
              "ticks": "outside",
              "tickwidth": 2
             }
            },
            "type": "scatterternary"
           }
          ],
          "surface": [
           {
            "colorbar": {
             "outlinewidth": 10,
             "tickcolor": "rgb(36,36,36)",
             "ticklen": 8,
             "ticks": "outside",
             "tickwidth": 2
            },
            "colorscale": [
             [
              0,
              "#440154"
             ],
             [
              0.1111111111111111,
              "#482878"
             ],
             [
              0.2222222222222222,
              "#3e4989"
             ],
             [
              0.3333333333333333,
              "#31688e"
             ],
             [
              0.4444444444444444,
              "#26828e"
             ],
             [
              0.5555555555555556,
              "#1f9e89"
             ],
             [
              0.6666666666666666,
              "#35b779"
             ],
             [
              0.7777777777777778,
              "#6ece58"
             ],
             [
              0.8888888888888888,
              "#b5de2b"
             ],
             [
              1,
              "#fde725"
             ]
            ],
            "type": "surface"
           }
          ],
          "table": [
           {
            "cells": {
             "fill": {
              "color": "rgb(237,237,237)"
             },
             "line": {
              "color": "white"
             }
            },
            "header": {
             "fill": {
              "color": "rgb(217,217,217)"
             },
             "line": {
              "color": "white"
             }
            },
            "type": "table"
           }
          ]
         },
         "layout": {
          "annotationdefaults": {
           "arrowhead": 0,
           "arrowwidth": 1
          },
          "coloraxis": {
           "colorbar": {
            "outlinewidth": 10,
            "tickcolor": "rgb(36,36,36)",
            "ticklen": 8,
            "ticks": "outside",
            "tickwidth": 2
           }
          },
          "colorscale": {
           "diverging": [
            [
             0,
             "rgb(103,0,31)"
            ],
            [
             0.1,
             "rgb(178,24,43)"
            ],
            [
             0.2,
             "rgb(214,96,77)"
            ],
            [
             0.3,
             "rgb(244,165,130)"
            ],
            [
             0.4,
             "rgb(253,219,199)"
            ],
            [
             0.5,
             "rgb(247,247,247)"
            ],
            [
             0.6,
             "rgb(209,229,240)"
            ],
            [
             0.7,
             "rgb(146,197,222)"
            ],
            [
             0.8,
             "rgb(67,147,195)"
            ],
            [
             0.9,
             "rgb(33,102,172)"
            ],
            [
             1,
             "rgb(5,48,97)"
            ]
           ],
           "sequential": [
            [
             0,
             "#440154"
            ],
            [
             0.1111111111111111,
             "#482878"
            ],
            [
             0.2222222222222222,
             "#3e4989"
            ],
            [
             0.3333333333333333,
             "#31688e"
            ],
            [
             0.4444444444444444,
             "#26828e"
            ],
            [
             0.5555555555555556,
             "#1f9e89"
            ],
            [
             0.6666666666666666,
             "#35b779"
            ],
            [
             0.7777777777777778,
             "#6ece58"
            ],
            [
             0.8888888888888888,
             "#b5de2b"
            ],
            [
             1,
             "#fde725"
            ]
           ],
           "sequentialminus": [
            [
             0,
             "#440154"
            ],
            [
             0.1111111111111111,
             "#482878"
            ],
            [
             0.2222222222222222,
             "#3e4989"
            ],
            [
             0.3333333333333333,
             "#31688e"
            ],
            [
             0.4444444444444444,
             "#26828e"
            ],
            [
             0.5555555555555556,
             "#1f9e89"
            ],
            [
             0.6666666666666666,
             "#35b779"
            ],
            [
             0.7777777777777778,
             "#6ece58"
            ],
            [
             0.8888888888888888,
             "#b5de2b"
            ],
            [
             1,
             "#fde725"
            ]
           ]
          },
          "colorway": [
           "#1F77B4",
           "#FF7F0E",
           "#2CA02C",
           "#D62728",
           "#9467BD",
           "#8C564B",
           "#E377C2",
           "#7F7F7F",
           "#BCBD22",
           "#17BECF"
          ],
          "font": {
           "color": "rgb(36,36,36)"
          },
          "geo": {
           "bgcolor": "white",
           "lakecolor": "white",
           "landcolor": "white",
           "showlakes": true,
           "showland": true,
           "subunitcolor": "white"
          },
          "hoverlabel": {
           "align": "left"
          },
          "hovermode": "closest",
          "mapbox": {
           "style": "light"
          },
          "paper_bgcolor": "white",
          "plot_bgcolor": "white",
          "polar": {
           "angularaxis": {
            "gridcolor": "rgb(232,232,232)",
            "linecolor": "rgb(36,36,36)",
            "showgrid": false,
            "showline": true,
            "ticks": "outside"
           },
           "bgcolor": "white",
           "radialaxis": {
            "gridcolor": "rgb(232,232,232)",
            "linecolor": "rgb(36,36,36)",
            "showgrid": false,
            "showline": true,
            "ticks": "outside"
           }
          },
          "scene": {
           "xaxis": {
            "backgroundcolor": "white",
            "gridcolor": "rgb(232,232,232)",
            "gridwidth": 2,
            "linecolor": "rgb(36,36,36)",
            "showbackground": true,
            "showgrid": false,
            "showline": true,
            "ticks": "outside",
            "zeroline": false,
            "zerolinecolor": "rgb(36,36,36)"
           },
           "yaxis": {
            "backgroundcolor": "white",
            "gridcolor": "rgb(232,232,232)",
            "gridwidth": 2,
            "linecolor": "rgb(36,36,36)",
            "showbackground": true,
            "showgrid": false,
            "showline": true,
            "ticks": "outside",
            "zeroline": false,
            "zerolinecolor": "rgb(36,36,36)"
           },
           "zaxis": {
            "backgroundcolor": "white",
            "gridcolor": "rgb(232,232,232)",
            "gridwidth": 2,
            "linecolor": "rgb(36,36,36)",
            "showbackground": true,
            "showgrid": false,
            "showline": true,
            "ticks": "outside",
            "zeroline": false,
            "zerolinecolor": "rgb(36,36,36)"
           }
          },
          "shapedefaults": {
           "fillcolor": "black",
           "line": {
            "width": 0
           },
           "opacity": 0.3
          },
          "ternary": {
           "aaxis": {
            "gridcolor": "rgb(232,232,232)",
            "linecolor": "rgb(36,36,36)",
            "showgrid": false,
            "showline": true,
            "ticks": "outside"
           },
           "baxis": {
            "gridcolor": "rgb(232,232,232)",
            "linecolor": "rgb(36,36,36)",
            "showgrid": false,
            "showline": true,
            "ticks": "outside"
           },
           "bgcolor": "white",
           "caxis": {
            "gridcolor": "rgb(232,232,232)",
            "linecolor": "rgb(36,36,36)",
            "showgrid": false,
            "showline": true,
            "ticks": "outside"
           }
          },
          "title": {
           "x": 0.05
          },
          "xaxis": {
           "automargin": true,
           "gridcolor": "rgb(232,232,232)",
           "linecolor": "rgb(36,36,36)",
           "showgrid": false,
           "showline": true,
           "ticks": "outside",
           "title": {
            "standoff": 15
           },
           "zeroline": false,
           "zerolinecolor": "rgb(36,36,36)"
          },
          "yaxis": {
           "automargin": true,
           "gridcolor": "rgb(232,232,232)",
           "linecolor": "rgb(36,36,36)",
           "showgrid": false,
           "showline": true,
           "ticks": "outside",
           "title": {
            "standoff": 15
           },
           "zeroline": false,
           "zerolinecolor": "rgb(36,36,36)"
          }
         }
        },
        "xaxis": {
         "autorange": true,
         "range": [
          -0.49283842797053534,
          0.3234335587831336
         ],
         "showgrid": false,
         "showline": false,
         "showticklabels": false,
         "ticks": "",
         "title": {
          "text": ""
         },
         "type": "linear",
         "zeroline": false
        },
        "yaxis": {
         "autorange": true,
         "range": [
          -1.1316262408317415,
          1.1314171832162345
         ],
         "showgrid": false,
         "showline": false,
         "showticklabels": false,
         "ticks": "",
         "title": {
          "text": ""
         },
         "type": "linear",
         "zeroline": false
        }
       }
      },
      "image/png": "[encoded data removed]",
      "text/html": [
       "<div>\n",
       "        \n",
       "        \n",
       "            <div id=\"6a153fc6-e000-4e9f-bd9f-67263a5e609b\" class=\"plotly-graph-div\" style=\"height:525px; width:100%;\"></div>\n",
       "            <script type=\"text/javascript\">\n",
       "                require([\"plotly\"], function(Plotly) {\n",
       "                    window.PLOTLYENV=window.PLOTLYENV || {};\n",
       "                    \n",
       "                if (document.getElementById(\"6a153fc6-e000-4e9f-bd9f-67263a5e609b\")) {\n",
       "                    Plotly.newPlot(\n",
       "                        '6a153fc6-e000-4e9f-bd9f-67263a5e609b',\n",
       "                        [{\"hoverinfo\": \"none\", \"line\": {\"color\": \"#888\", \"width\": 0.5}, \"mode\": \"lines\", \"type\": \"scatter\", \"x\": [0.24888774659617907, 0.21307021819897656, null, 0.21307021819897656, 0.17428858649966317, null, 0.17428858649966317, 0.2593719812231567, null, 0.17428858649966317, 0.04693939942749431, null, 0.2593719812231567, 0.2798923862539837, null, 0.04693939942749431, -0.046879508695996615, null, 0.2798923862539837, 0.23336532062634746, null, -0.046879508695996615, -0.0860710076440952, null, 0.23336532062634746, 0.13541209187207315, null, -0.0860710076440952, -0.05273930915737671, null, -0.05273930915737671, 0.009104167677548973, null, -0.11564181648832739, 0.009104167677548973, null, 0.13541209187207315, 0.009104167677548973, null, 0.009104167677548973, 0.003682447652098731, null, 0.003682447652098731, -0.021756742107421016, null, -0.021756742107421016, -0.05222479353305962, null, -0.05222479353305962, -0.07781187044779354, null, -0.07781187044779354, -0.19986572913681958, null, -0.07781187044779354, 0.03593119151218349, null, -0.19986572913681958, -0.32682365389103923, null, -0.19986572913681958, -0.2276521594586132, null, 0.03593119151218349, 0.12741687189495426, null, 0.12741687189495426, 0.17808370369549534, null, -0.32682365389103923, -0.4496542420304695, null, -0.2276521594586132, -0.24321785881279157, null, -0.24321785881279157, -0.20850040302640444, null, 0.17808370369549534, 0.1732034653472261, null, 0.1732034653472261, 0.1081191840671201, null, -0.20850040302640444, -0.12456816280590814, null, 0.1081191840671201, -0.005318719983638211, null, -0.12456816280590814, -0.005318719983638211, null, -0.005318719983638211, 0.002133353311173863, null, 0.002133353311173863, 0.009823861364079107, null], \"y\": [1.0, 0.8912865394352343, null, 0.8912865394352343, 0.7760155780314761, null, 0.7760155780314761, 0.6773097273365758, null, 0.7760155780314761, 0.7496138891430266, null, 0.6773097273365758, 0.5529871211494284, null, 0.7496138891430266, 0.665890617683258, null, 0.5529871211494284, 0.43611509039405666, null, 0.665890617683258, 0.5477435757023552, null, 0.43611509039405666, 0.35504022458836254, null, 0.5477435757023552, 0.4276035997969219, null, 0.4276035997969219, 0.3137421255370273, null, 0.31691703017673584, 0.3137421255370273, null, 0.35504022458836254, 0.3137421255370273, null, 0.3137421255370273, 0.1858445835722466, null, 0.1858445835722466, 0.06716743717817156, null, 0.06716743717817156, -0.050595062349053296, null, -0.050595062349053296, -0.17605392774336348, null, -0.17605392774336348, -0.23869649959649472, null, -0.17605392774336348, -0.2471602221181748, null, -0.23869649959649472, -0.21077353791002185, null, -0.23869649959649472, -0.3633509013419066, null, -0.2471602221181748, -0.33740743275142815, null, -0.33740743275142815, -0.45299575369386647, null, -0.21077353791002185, -0.2092998593614565, null, -0.3633509013419066, -0.48731222204269037, null, -0.48731222204269037, -0.6068646275558099, null, -0.45299575369386647, -0.5787395390096415, null, -0.5787395390096415, -0.6867573358717893, null, -0.6068646275558099, -0.7000782030581754, null, -0.6867573358717893, -0.7524269409495311, null, -0.7000782030581754, -0.7524269409495311, null, -0.7524269409495311, -0.874977348256105, null, -0.874977348256105, -0.9897877261153685, null]}, {\"hoverinfo\": \"text\", \"marker\": {\"cmax\": 1, \"cmin\": 0, \"color\": [-0.5496914286214993, -0.4859246235681622, -0.44553941744505976, -0.6996025665810871, -0.06211475001105699, -0.6925025040842113, 0.06454997843777315, -0.6823635611424486, 0.15420451170986588, 0.243499556466007, -0.18689011017506785, -0.6582540000158008, -0.1419695572742651, -0.09637226662344744, -0.042711031404515896, 0.03691311525571066, 0.08089939490463016, 0.08924583762651679, 0.6150547494772274, 0.6506322396968062, 0.16641813205502848, -0.2629565364512636, 0.16940622220086113, -0.17588324397105443, 0.6790691279594593, 0.7004081800195209, -0.07274913608143348, 0.6963277442554581, 0.016662172319486877, 0.4242940308221011, 0.4694291225476833, 0.5207697504499805], \"colorbar\": {\"thickness\": 15, \"title\": {\"side\": \"right\", \"text\": \"\"}, \"xanchor\": \"left\"}, \"colorscale\": [[0.0, \"#440154\"], [0.1111111111111111, \"#482878\"], [0.2222222222222222, \"#3e4989\"], [0.3333333333333333, \"#31688e\"], [0.4444444444444444, \"#26828e\"], [0.5555555555555556, \"#1f9e89\"], [0.6666666666666666, \"#35b779\"], [0.7777777777777778, \"#6ece58\"], [0.8888888888888888, \"#b5de2b\"], [1.0, \"#fde725\"]], \"line\": {\"color\": \"#888\", \"width\": 2}, \"reversescale\": true, \"showscale\": true, \"size\": [45, 258, 254, 75, 77, 57, 70, 68, 56, 59, 52, 55, 554, 598, 442, 446, 565, 588, 47, 59, 111, 65, 1, 52, 54, 69, 75, 63, 63, 211, 281, 111], \"sizemin\": 4, \"sizemode\": \"area\", \"sizeref\": 2.99}, \"mode\": \"markers\", \"text\": [\"45\", \"258\", \"254\", \"75\", \"77\", \"57\", \"70\", \"68\", \"56\", \"59\", \"52\", \"55\", \"554\", \"598\", \"442\", \"446\", \"565\", \"588\", \"47\", \"59\", \"111\", \"65\", \"1\", \"52\", \"54\", \"69\", \"75\", \"63\", \"63\", \"211\", \"281\", \"111\"], \"type\": \"scatter\", \"x\": [0.24888774659617907, 0.21307021819897656, 0.17428858649966317, 0.2593719812231567, 0.04693939942749431, 0.2798923862539837, -0.046879508695996615, 0.23336532062634746, -0.0860710076440952, -0.05273930915737671, -0.11564181648832739, 0.13541209187207315, 0.009104167677548973, 0.003682447652098731, -0.021756742107421016, -0.05222479353305962, -0.07781187044779354, -0.19986572913681958, 0.03593119151218349, 0.12741687189495426, -0.32682365389103923, -0.2276521594586132, -0.4496542420304695, -0.24321785881279157, 0.17808370369549534, 0.1732034653472261, -0.20850040302640444, 0.1081191840671201, -0.12456816280590814, -0.005318719983638211, 0.002133353311173863, 0.009823861364079107], \"y\": [1.0, 0.8912865394352343, 0.7760155780314761, 0.6773097273365758, 0.7496138891430266, 0.5529871211494284, 0.665890617683258, 0.43611509039405666, 0.5477435757023552, 0.4276035997969219, 0.31691703017673584, 0.35504022458836254, 0.3137421255370273, 0.1858445835722466, 0.06716743717817156, -0.050595062349053296, -0.17605392774336348, -0.23869649959649472, -0.2471602221181748, -0.33740743275142815, -0.21077353791002185, -0.3633509013419066, -0.2092998593614565, -0.48731222204269037, -0.45299575369386647, -0.5787395390096415, -0.6068646275558099, -0.6867573358717893, -0.7000782030581754, -0.7524269409495311, -0.874977348256105, -0.9897877261153685]}],\n",
       "                        {\"hovermode\": \"closest\", \"margin\": {\"b\": 20, \"l\": 5, \"r\": 5, \"t\": 40}, \"showlegend\": false, \"template\": {\"data\": {\"bar\": [{\"error_x\": {\"color\": \"rgb(36,36,36)\"}, \"error_y\": {\"color\": \"rgb(36,36,36)\"}, \"marker\": {\"line\": {\"color\": \"white\", \"width\": 0.5}}, \"type\": \"bar\"}], \"barpolar\": [{\"marker\": {\"line\": {\"color\": \"white\", \"width\": 0.5}}, \"type\": \"barpolar\"}], \"carpet\": [{\"aaxis\": {\"endlinecolor\": \"rgb(36,36,36)\", \"gridcolor\": \"white\", \"linecolor\": \"white\", \"minorgridcolor\": \"white\", \"startlinecolor\": \"rgb(36,36,36)\"}, \"baxis\": {\"endlinecolor\": \"rgb(36,36,36)\", \"gridcolor\": \"white\", \"linecolor\": \"white\", \"minorgridcolor\": \"white\", \"startlinecolor\": \"rgb(36,36,36)\"}, \"type\": \"carpet\"}], \"choropleth\": [{\"colorbar\": {\"outlinewidth\": 10, \"tickcolor\": \"rgb(36,36,36)\", \"ticklen\": 8, \"ticks\": \"outside\", \"tickwidth\": 2}, \"type\": \"choropleth\"}], \"contour\": [{\"colorbar\": {\"outlinewidth\": 10, \"tickcolor\": \"rgb(36,36,36)\", \"ticklen\": 8, \"ticks\": \"outside\", \"tickwidth\": 2}, \"colorscale\": [[0.0, \"#440154\"], [0.1111111111111111, \"#482878\"], [0.2222222222222222, \"#3e4989\"], [0.3333333333333333, \"#31688e\"], [0.4444444444444444, \"#26828e\"], [0.5555555555555556, \"#1f9e89\"], [0.6666666666666666, \"#35b779\"], [0.7777777777777778, \"#6ece58\"], [0.8888888888888888, \"#b5de2b\"], [1.0, \"#fde725\"]], \"type\": \"contour\"}], \"contourcarpet\": [{\"colorbar\": {\"outlinewidth\": 10, \"tickcolor\": \"rgb(36,36,36)\", \"ticklen\": 8, \"ticks\": \"outside\", \"tickwidth\": 2}, \"type\": \"contourcarpet\"}], \"heatmap\": [{\"colorbar\": {\"outlinewidth\": 10, \"tickcolor\": \"rgb(36,36,36)\", \"ticklen\": 8, \"ticks\": \"outside\", \"tickwidth\": 2}, \"colorscale\": [[0.0, \"#440154\"], [0.1111111111111111, \"#482878\"], [0.2222222222222222, \"#3e4989\"], [0.3333333333333333, \"#31688e\"], [0.4444444444444444, \"#26828e\"], [0.5555555555555556, \"#1f9e89\"], [0.6666666666666666, \"#35b779\"], [0.7777777777777778, \"#6ece58\"], [0.8888888888888888, \"#b5de2b\"], [1.0, \"#fde725\"]], \"type\": \"heatmap\"}], \"heatmapgl\": [{\"colorbar\": {\"outlinewidth\": 10, \"tickcolor\": \"rgb(36,36,36)\", \"ticklen\": 8, \"ticks\": \"outside\", \"tickwidth\": 2}, \"colorscale\": [[0.0, \"#440154\"], [0.1111111111111111, \"#482878\"], [0.2222222222222222, \"#3e4989\"], [0.3333333333333333, \"#31688e\"], [0.4444444444444444, \"#26828e\"], [0.5555555555555556, \"#1f9e89\"], [0.6666666666666666, \"#35b779\"], [0.7777777777777778, \"#6ece58\"], [0.8888888888888888, \"#b5de2b\"], [1.0, \"#fde725\"]], \"type\": \"heatmapgl\"}], \"histogram\": [{\"marker\": {\"line\": {\"color\": \"white\", \"width\": 0.6}}, \"type\": \"histogram\"}], \"histogram2d\": [{\"colorbar\": {\"outlinewidth\": 10, \"tickcolor\": \"rgb(36,36,36)\", \"ticklen\": 8, \"ticks\": \"outside\", \"tickwidth\": 2}, \"colorscale\": [[0.0, \"#440154\"], [0.1111111111111111, \"#482878\"], [0.2222222222222222, \"#3e4989\"], [0.3333333333333333, \"#31688e\"], [0.4444444444444444, \"#26828e\"], [0.5555555555555556, \"#1f9e89\"], [0.6666666666666666, \"#35b779\"], [0.7777777777777778, \"#6ece58\"], [0.8888888888888888, \"#b5de2b\"], [1.0, \"#fde725\"]], \"type\": \"histogram2d\"}], \"histogram2dcontour\": [{\"colorbar\": {\"outlinewidth\": 10, \"tickcolor\": \"rgb(36,36,36)\", \"ticklen\": 8, \"ticks\": \"outside\", \"tickwidth\": 2}, \"colorscale\": [[0.0, \"#440154\"], [0.1111111111111111, \"#482878\"], [0.2222222222222222, \"#3e4989\"], [0.3333333333333333, \"#31688e\"], [0.4444444444444444, \"#26828e\"], [0.5555555555555556, \"#1f9e89\"], [0.6666666666666666, \"#35b779\"], [0.7777777777777778, \"#6ece58\"], [0.8888888888888888, \"#b5de2b\"], [1.0, \"#fde725\"]], \"type\": \"histogram2dcontour\"}], \"mesh3d\": [{\"colorbar\": {\"outlinewidth\": 10, \"tickcolor\": \"rgb(36,36,36)\", \"ticklen\": 8, \"ticks\": \"outside\", \"tickwidth\": 2}, \"type\": \"mesh3d\"}], \"parcoords\": [{\"line\": {\"colorbar\": {\"outlinewidth\": 10, \"tickcolor\": \"rgb(36,36,36)\", \"ticklen\": 8, \"ticks\": \"outside\", \"tickwidth\": 2}}, \"type\": \"parcoords\"}], \"pie\": [{\"automargin\": true, \"type\": \"pie\"}], \"scatter\": [{\"marker\": {\"colorbar\": {\"outlinewidth\": 10, \"tickcolor\": \"rgb(36,36,36)\", \"ticklen\": 8, \"ticks\": \"outside\", \"tickwidth\": 2}}, \"type\": \"scatter\"}], \"scatter3d\": [{\"line\": {\"colorbar\": {\"outlinewidth\": 10, \"tickcolor\": \"rgb(36,36,36)\", \"ticklen\": 8, \"ticks\": \"outside\", \"tickwidth\": 2}}, \"marker\": {\"colorbar\": {\"outlinewidth\": 10, \"tickcolor\": \"rgb(36,36,36)\", \"ticklen\": 8, \"ticks\": \"outside\", \"tickwidth\": 2}}, \"type\": \"scatter3d\"}], \"scattercarpet\": [{\"marker\": {\"colorbar\": {\"outlinewidth\": 10, \"tickcolor\": \"rgb(36,36,36)\", \"ticklen\": 8, \"ticks\": \"outside\", \"tickwidth\": 2}}, \"type\": \"scattercarpet\"}], \"scattergeo\": [{\"marker\": {\"colorbar\": {\"outlinewidth\": 10, \"tickcolor\": \"rgb(36,36,36)\", \"ticklen\": 8, \"ticks\": \"outside\", \"tickwidth\": 2}}, \"type\": \"scattergeo\"}], \"scattergl\": [{\"marker\": {\"colorbar\": {\"outlinewidth\": 10, \"tickcolor\": \"rgb(36,36,36)\", \"ticklen\": 8, \"ticks\": \"outside\", \"tickwidth\": 2}}, \"type\": \"scattergl\"}], \"scattermapbox\": [{\"marker\": {\"colorbar\": {\"outlinewidth\": 10, \"tickcolor\": \"rgb(36,36,36)\", \"ticklen\": 8, \"ticks\": \"outside\", \"tickwidth\": 2}}, \"type\": \"scattermapbox\"}], \"scatterpolar\": [{\"marker\": {\"colorbar\": {\"outlinewidth\": 10, \"tickcolor\": \"rgb(36,36,36)\", \"ticklen\": 8, \"ticks\": \"outside\", \"tickwidth\": 2}}, \"type\": \"scatterpolar\"}], \"scatterpolargl\": [{\"marker\": {\"colorbar\": {\"outlinewidth\": 10, \"tickcolor\": \"rgb(36,36,36)\", \"ticklen\": 8, \"ticks\": \"outside\", \"tickwidth\": 2}}, \"type\": \"scatterpolargl\"}], \"scatterternary\": [{\"marker\": {\"colorbar\": {\"outlinewidth\": 10, \"tickcolor\": \"rgb(36,36,36)\", \"ticklen\": 8, \"ticks\": \"outside\", \"tickwidth\": 2}}, \"type\": \"scatterternary\"}], \"surface\": [{\"colorbar\": {\"outlinewidth\": 10, \"tickcolor\": \"rgb(36,36,36)\", \"ticklen\": 8, \"ticks\": \"outside\", \"tickwidth\": 2}, \"colorscale\": [[0.0, \"#440154\"], [0.1111111111111111, \"#482878\"], [0.2222222222222222, \"#3e4989\"], [0.3333333333333333, \"#31688e\"], [0.4444444444444444, \"#26828e\"], [0.5555555555555556, \"#1f9e89\"], [0.6666666666666666, \"#35b779\"], [0.7777777777777778, \"#6ece58\"], [0.8888888888888888, \"#b5de2b\"], [1.0, \"#fde725\"]], \"type\": \"surface\"}], \"table\": [{\"cells\": {\"fill\": {\"color\": \"rgb(237,237,237)\"}, \"line\": {\"color\": \"white\"}}, \"header\": {\"fill\": {\"color\": \"rgb(217,217,217)\"}, \"line\": {\"color\": \"white\"}}, \"type\": \"table\"}]}, \"layout\": {\"annotationdefaults\": {\"arrowhead\": 0, \"arrowwidth\": 1}, \"coloraxis\": {\"colorbar\": {\"outlinewidth\": 10, \"tickcolor\": \"rgb(36,36,36)\", \"ticklen\": 8, \"ticks\": \"outside\", \"tickwidth\": 2}}, \"colorscale\": {\"diverging\": [[0.0, \"rgb(103,0,31)\"], [0.1, \"rgb(178,24,43)\"], [0.2, \"rgb(214,96,77)\"], [0.3, \"rgb(244,165,130)\"], [0.4, \"rgb(253,219,199)\"], [0.5, \"rgb(247,247,247)\"], [0.6, \"rgb(209,229,240)\"], [0.7, \"rgb(146,197,222)\"], [0.8, \"rgb(67,147,195)\"], [0.9, \"rgb(33,102,172)\"], [1.0, \"rgb(5,48,97)\"]], \"sequential\": [[0.0, \"#440154\"], [0.1111111111111111, \"#482878\"], [0.2222222222222222, \"#3e4989\"], [0.3333333333333333, \"#31688e\"], [0.4444444444444444, \"#26828e\"], [0.5555555555555556, \"#1f9e89\"], [0.6666666666666666, \"#35b779\"], [0.7777777777777778, \"#6ece58\"], [0.8888888888888888, \"#b5de2b\"], [1.0, \"#fde725\"]], \"sequentialminus\": [[0.0, \"#440154\"], [0.1111111111111111, \"#482878\"], [0.2222222222222222, \"#3e4989\"], [0.3333333333333333, \"#31688e\"], [0.4444444444444444, \"#26828e\"], [0.5555555555555556, \"#1f9e89\"], [0.6666666666666666, \"#35b779\"], [0.7777777777777778, \"#6ece58\"], [0.8888888888888888, \"#b5de2b\"], [1.0, \"#fde725\"]]}, \"colorway\": [\"#1F77B4\", \"#FF7F0E\", \"#2CA02C\", \"#D62728\", \"#9467BD\", \"#8C564B\", \"#E377C2\", \"#7F7F7F\", \"#BCBD22\", \"#17BECF\"], \"font\": {\"color\": \"rgb(36,36,36)\"}, \"geo\": {\"bgcolor\": \"white\", \"lakecolor\": \"white\", \"landcolor\": \"white\", \"showlakes\": true, \"showland\": true, \"subunitcolor\": \"white\"}, \"hoverlabel\": {\"align\": \"left\"}, \"hovermode\": \"closest\", \"mapbox\": {\"style\": \"light\"}, \"paper_bgcolor\": \"white\", \"plot_bgcolor\": \"white\", \"polar\": {\"angularaxis\": {\"gridcolor\": \"rgb(232,232,232)\", \"linecolor\": \"rgb(36,36,36)\", \"showgrid\": false, \"showline\": true, \"ticks\": \"outside\"}, \"bgcolor\": \"white\", \"radialaxis\": {\"gridcolor\": \"rgb(232,232,232)\", \"linecolor\": \"rgb(36,36,36)\", \"showgrid\": false, \"showline\": true, \"ticks\": \"outside\"}}, \"scene\": {\"xaxis\": {\"backgroundcolor\": \"white\", \"gridcolor\": \"rgb(232,232,232)\", \"gridwidth\": 2, \"linecolor\": \"rgb(36,36,36)\", \"showbackground\": true, \"showgrid\": false, \"showline\": true, \"ticks\": \"outside\", \"zeroline\": false, \"zerolinecolor\": \"rgb(36,36,36)\"}, \"yaxis\": {\"backgroundcolor\": \"white\", \"gridcolor\": \"rgb(232,232,232)\", \"gridwidth\": 2, \"linecolor\": \"rgb(36,36,36)\", \"showbackground\": true, \"showgrid\": false, \"showline\": true, \"ticks\": \"outside\", \"zeroline\": false, \"zerolinecolor\": \"rgb(36,36,36)\"}, \"zaxis\": {\"backgroundcolor\": \"white\", \"gridcolor\": \"rgb(232,232,232)\", \"gridwidth\": 2, \"linecolor\": \"rgb(36,36,36)\", \"showbackground\": true, \"showgrid\": false, \"showline\": true, \"ticks\": \"outside\", \"zeroline\": false, \"zerolinecolor\": \"rgb(36,36,36)\"}}, \"shapedefaults\": {\"fillcolor\": \"black\", \"line\": {\"width\": 0}, \"opacity\": 0.3}, \"ternary\": {\"aaxis\": {\"gridcolor\": \"rgb(232,232,232)\", \"linecolor\": \"rgb(36,36,36)\", \"showgrid\": false, \"showline\": true, \"ticks\": \"outside\"}, \"baxis\": {\"gridcolor\": \"rgb(232,232,232)\", \"linecolor\": \"rgb(36,36,36)\", \"showgrid\": false, \"showline\": true, \"ticks\": \"outside\"}, \"bgcolor\": \"white\", \"caxis\": {\"gridcolor\": \"rgb(232,232,232)\", \"linecolor\": \"rgb(36,36,36)\", \"showgrid\": false, \"showline\": true, \"ticks\": \"outside\"}}, \"title\": {\"x\": 0.05}, \"xaxis\": {\"automargin\": true, \"gridcolor\": \"rgb(232,232,232)\", \"linecolor\": \"rgb(36,36,36)\", \"showgrid\": false, \"showline\": true, \"ticks\": \"outside\", \"title\": {\"standoff\": 15}, \"zeroline\": false, \"zerolinecolor\": \"rgb(36,36,36)\"}, \"yaxis\": {\"automargin\": true, \"gridcolor\": \"rgb(232,232,232)\", \"linecolor\": \"rgb(36,36,36)\", \"showgrid\": false, \"showline\": true, \"ticks\": \"outside\", \"title\": {\"standoff\": 15}, \"zeroline\": false, \"zerolinecolor\": \"rgb(36,36,36)\"}}}, \"xaxis\": {\"showgrid\": false, \"showline\": false, \"showticklabels\": false, \"ticks\": \"\", \"title\": {\"text\": \"\"}, \"zeroline\": false}, \"yaxis\": {\"showgrid\": false, \"showline\": false, \"showticklabels\": false, \"ticks\": \"\", \"title\": {\"text\": \"\"}, \"zeroline\": false}},\n",
       "                        {\"responsive\": true}\n",
       "                    ).then(function(){\n",
       "                            \n",
       "var gd = document.getElementById('6a153fc6-e000-4e9f-bd9f-67263a5e609b');\n",
       "var x = new MutationObserver(function (mutations, observer) {{\n",
       "        var display = window.getComputedStyle(gd).display;\n",
       "        if (!display || display === 'none') {{\n",
       "            console.log([gd, 'removed!']);\n",
       "            Plotly.purge(gd);\n",
       "            observer.disconnect();\n",
       "        }}\n",
       "}});\n",
       "\n",
       "// Listen for the removal of the full notebook cells\n",
       "var notebookContainer = gd.closest('#notebook-container');\n",
       "if (notebookContainer) {{\n",
       "    x.observe(notebookContainer, {childList: true});\n",
       "}}\n",
       "\n",
       "// Listen for the clearing of the current output cell\n",
       "var outputEl = gd.closest('.output');\n",
       "if (outputEl) {{\n",
       "    x.observe(outputEl, {childList: true});\n",
       "}}\n",
       "\n",
       "                        })\n",
       "                };\n",
       "                });\n",
       "            </script>\n",
       "        </div>"
      ]
     },
     "metadata": {},
     "output_type": "display_data"
    }
   ],
   "source": [
    "fig.show()"
   ]
  },
  {
   "cell_type": "code",
   "execution_count": null,
   "metadata": {},
   "outputs": [],
   "source": []
  }
 ],
 "metadata": {
  "kernelspec": {
   "display_name": "Python 3",
   "language": "python",
   "name": "python3"
  },
  "language_info": {
   "codemirror_mode": {
    "name": "ipython",
    "version": 3
   },
   "file_extension": ".py",
   "mimetype": "text/x-python",
   "name": "python",
   "nbconvert_exporter": "python",
   "pygments_lexer": "ipython3",
   "version": "3.7.5"
  }
 },
 "nbformat": 4,
 "nbformat_minor": 4
}
