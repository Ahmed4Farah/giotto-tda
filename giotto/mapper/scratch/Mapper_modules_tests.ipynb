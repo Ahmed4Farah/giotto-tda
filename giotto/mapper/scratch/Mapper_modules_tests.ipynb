{
 "cells": [
  {
   "cell_type": "code",
   "execution_count": 1,
   "metadata": {},
   "outputs": [],
   "source": [
    "import numpy as np\n",
    "\n",
    "from functools import partial\n",
    "\n",
    "from sklearn.datasets import make_circles\n",
    "from sklearn.preprocessing import FunctionTransformer\n",
    "from sklearn.cluster import DBSCAN"
   ]
  },
  {
   "cell_type": "code",
   "execution_count": 2,
   "metadata": {},
   "outputs": [],
   "source": [
    "from tempfile import mkdtemp\n",
    "from shutil import rmtree\n",
    "from joblib import Memory"
   ]
  },
  {
   "cell_type": "code",
   "execution_count": 3,
   "metadata": {},
   "outputs": [],
   "source": [
    "import networkx as nx"
   ]
  },
  {
   "cell_type": "code",
   "execution_count": 4,
   "metadata": {},
   "outputs": [],
   "source": [
    "from matplotlib import pyplot as plt\n",
    "%matplotlib inline"
   ]
  },
  {
   "cell_type": "code",
   "execution_count": 5,
   "metadata": {},
   "outputs": [],
   "source": [
    "from giotto.mapper.mapper import make_mapper_pipeline\n",
    "from giotto.mapper import OneDimensionalCover"
   ]
  },
  {
   "cell_type": "code",
   "execution_count": 6,
   "metadata": {},
   "outputs": [],
   "source": [
    "T = 100000\n",
    "X = make_circles(n_samples=T)[0]\n",
    "# X = np.array([[np.cos(2*np.pi*theta/T), np.sin(2*np.pi*theta/T)] for theta in range(T)])"
   ]
  },
  {
   "cell_type": "code",
   "execution_count": 7,
   "metadata": {},
   "outputs": [
    {
     "data": {
      "text/plain": [
       "<matplotlib.collections.PathCollection at 0x122812110>"
      ]
     },
     "execution_count": 7,
     "metadata": {},
     "output_type": "execute_result"
    },
    {
     "data": {
      "image/png": "[encoded data removed]",
      "text/plain": [
       "<Figure size 432x288 with 1 Axes>"
      ]
     },
     "metadata": {
      "needs_background": "light"
     },
     "output_type": "display_data"
    }
   ],
   "source": [
    "plt.scatter(X[:, 0], X[:, 1])"
   ]
  },
  {
   "cell_type": "markdown",
   "metadata": {},
   "source": [
    "# Basic usage"
   ]
  },
  {
   "cell_type": "markdown",
   "metadata": {},
   "source": [
    "Instantiate a filter function transformer"
   ]
  },
  {
   "cell_type": "code",
   "execution_count": 8,
   "metadata": {},
   "outputs": [],
   "source": [
    "def proj(x, coords=0):\n",
    "    if hasattr(coords, '__iter__'):\n",
    "        return x[:, coords]\n",
    "    return x[:, coords, None]\n",
    "\n",
    "filter_func = FunctionTransformer(func=partial(proj, coords=0), validate=False)"
   ]
  },
  {
   "cell_type": "markdown",
   "metadata": {},
   "source": [
    "Instantiate a covering scheme on the filter range"
   ]
  },
  {
   "cell_type": "code",
   "execution_count": 9,
   "metadata": {},
   "outputs": [],
   "source": [
    "cover = OneDimensionalCover(n_intervals=10)"
   ]
  },
  {
   "cell_type": "markdown",
   "metadata": {},
   "source": [
    "Instantiate a clustering transformer"
   ]
  },
  {
   "cell_type": "code",
   "execution_count": 10,
   "metadata": {},
   "outputs": [],
   "source": [
    "clusterer = DBSCAN(eps=0.5)"
   ]
  },
  {
   "cell_type": "markdown",
   "metadata": {},
   "source": [
    "## Creating a MapperPipeline object"
   ]
  },
  {
   "cell_type": "markdown",
   "metadata": {},
   "source": [
    "Set desired parallelism for clustering across the pullback cover sets"
   ]
  },
  {
   "cell_type": "code",
   "execution_count": 11,
   "metadata": {},
   "outputs": [],
   "source": [
    "n_jobs_outer = 8"
   ]
  },
  {
   "cell_type": "markdown",
   "metadata": {},
   "source": [
    "Use ```make_mapper_pipeline``` to create a MapperPipeline object based on the above ingredients"
   ]
  },
  {
   "cell_type": "code",
   "execution_count": 12,
   "metadata": {},
   "outputs": [],
   "source": [
    "pipe = make_mapper_pipeline(filter_func=filter_func,\n",
    "                            cover=cover,\n",
    "                            clusterer=clusterer,\n",
    "                            verbose=True,\n",
    "                            n_jobs_outer=n_jobs_outer)"
   ]
  },
  {
   "cell_type": "markdown",
   "metadata": {},
   "source": [
    "Run ```fit_transform``` on data array ```X``` to compute the graph object encoding the Mapper graph"
   ]
  },
  {
   "cell_type": "code",
   "execution_count": 13,
   "metadata": {},
   "outputs": [
    {
     "name": "stdout",
     "output_type": "stream",
     "text": [
      "[Pipeline] ....... (step 1 of 2) Processing filter_func, total=   0.0s\n",
      "[Pipeline] ............. (step 2 of 2) Processing cover, total=   0.0s\n",
      "[Pipeline] .... (step 1 of 3) Processing pullback_cover, total=   0.0s\n",
      "[Pipeline] ........ (step 2 of 3) Processing clustering, total=   9.8s\n",
      "[Pipeline] ............. (step 3 of 3) Processing nerve, total=   0.1s\n"
     ]
    }
   ],
   "source": [
    "graph = pipe.fit_transform(X)"
   ]
  },
  {
   "cell_type": "code",
   "execution_count": 14,
   "metadata": {},
   "outputs": [
    {
     "data": {
      "image/png": "[encoded data removed]",
      "text/plain": [
       "<Figure size 432x288 with 1 Axes>"
      ]
     },
     "metadata": {},
     "output_type": "display_data"
    }
   ],
   "source": [
    "nx.draw(graph)"
   ]
  },
  {
   "cell_type": "markdown",
   "metadata": {},
   "source": [
    "# ```get_mapper_params``` and ```set_mapper_params```"
   ]
  },
  {
   "cell_type": "markdown",
   "metadata": {},
   "source": [
    "The ```get_params``` method inherited from sklearn's ```Pipeline``` class is available but reveals too much of the nested architecture of the MapperPipeline object, with a huge impact on readability."
   ]
  },
  {
   "cell_type": "code",
   "execution_count": 15,
   "metadata": {},
   "outputs": [
    {
     "data": {
      "text/plain": [
       "{'memory': None, 'steps': [('pullback_cover', ListFeatureUnion(n_jobs=None,\n",
       "                    transformer_list=[('identity',\n",
       "                                       FunctionTransformer(accept_sparse=False,\n",
       "                                                           check_inverse=True,\n",
       "                                                           func=None,\n",
       "                                                           inv_kw_args=None,\n",
       "                                                           inverse_func=None,\n",
       "                                                           kw_args=None,\n",
       "                                                           pass_y='deprecated',\n",
       "                                                           validate=False)),\n",
       "                                      ('filter_cover',\n",
       "                                       Pipeline(memory=None,\n",
       "                                                steps=[('filter_func',\n",
       "                                                        FunctionTransformer(accept_sparse=False,\n",
       "                                                                            check_inverse=True,\n",
       "                                                                            func=functools.partial(<function proj at 0x1234b1b90>, coords=0),\n",
       "                                                                            inv_kw_args=None,\n",
       "                                                                            inverse_func=None,\n",
       "                                                                            kw_args=None,\n",
       "                                                                            pass_y='deprecated',\n",
       "                                                                            validate=False)),\n",
       "                                                       ('cover',\n",
       "                                                        OneDimensionalCover(n_intervals=10,\n",
       "                                                                            overlap_frac=0.1))],\n",
       "                                                verbose=True))],\n",
       "                    transformer_weights=None, verbose=False)),\n",
       "  ('clustering',\n",
       "   ParallelClustering(clusterer=DBSCAN(algorithm='auto', eps=0.5, leaf_size=30,\n",
       "                                       metric='euclidean', metric_params=None,\n",
       "                                       min_samples=5, n_jobs=None, p=None),\n",
       "                      n_jobs_outer=8, prefer='threads')),\n",
       "  ('nerve',\n",
       "   Nerve(min_intersection=1))], 'verbose': True, 'pullback_cover': ListFeatureUnion(n_jobs=None,\n",
       "                  transformer_list=[('identity',\n",
       "                                     FunctionTransformer(accept_sparse=False,\n",
       "                                                         check_inverse=True,\n",
       "                                                         func=None,\n",
       "                                                         inv_kw_args=None,\n",
       "                                                         inverse_func=None,\n",
       "                                                         kw_args=None,\n",
       "                                                         pass_y='deprecated',\n",
       "                                                         validate=False)),\n",
       "                                    ('filter_cover',\n",
       "                                     Pipeline(memory=None,\n",
       "                                              steps=[('filter_func',\n",
       "                                                      FunctionTransformer(accept_sparse=False,\n",
       "                                                                          check_inverse=True,\n",
       "                                                                          func=functools.partial(<function proj at 0x1234b1b90>, coords=0),\n",
       "                                                                          inv_kw_args=None,\n",
       "                                                                          inverse_func=None,\n",
       "                                                                          kw_args=None,\n",
       "                                                                          pass_y='deprecated',\n",
       "                                                                          validate=False)),\n",
       "                                                     ('cover',\n",
       "                                                      OneDimensionalCover(n_intervals=10,\n",
       "                                                                          overlap_frac=0.1))],\n",
       "                                              verbose=True))],\n",
       "                  transformer_weights=None, verbose=False), 'clustering': ParallelClustering(clusterer=DBSCAN(algorithm='auto', eps=0.5, leaf_size=30,\n",
       "                                     metric='euclidean', metric_params=None,\n",
       "                                     min_samples=5, n_jobs=None, p=None),\n",
       "                    n_jobs_outer=8, prefer='threads'), 'nerve': Nerve(min_intersection=1), 'pullback_cover__n_jobs': None, 'pullback_cover__transformer_list': [('identity',\n",
       "   FunctionTransformer(accept_sparse=False, check_inverse=True, func=None,\n",
       "                       inv_kw_args=None, inverse_func=None, kw_args=None,\n",
       "                       pass_y='deprecated', validate=False)),\n",
       "  ('filter_cover', Pipeline(memory=None,\n",
       "            steps=[('filter_func',\n",
       "                    FunctionTransformer(accept_sparse=False, check_inverse=True,\n",
       "                                        func=functools.partial(<function proj at 0x1234b1b90>, coords=0),\n",
       "                                        inv_kw_args=None, inverse_func=None,\n",
       "                                        kw_args=None, pass_y='deprecated',\n",
       "                                        validate=False)),\n",
       "                   ('cover',\n",
       "                    OneDimensionalCover(n_intervals=10, overlap_frac=0.1))],\n",
       "            verbose=True))], 'pullback_cover__transformer_weights': None, 'pullback_cover__verbose': False, 'pullback_cover__identity': FunctionTransformer(accept_sparse=False, check_inverse=True, func=None,\n",
       "                     inv_kw_args=None, inverse_func=None, kw_args=None,\n",
       "                     pass_y='deprecated', validate=False), 'pullback_cover__filter_cover': Pipeline(memory=None,\n",
       "          steps=[('filter_func',\n",
       "                  FunctionTransformer(accept_sparse=False, check_inverse=True,\n",
       "                                      func=functools.partial(<function proj at 0x1234b1b90>, coords=0),\n",
       "                                      inv_kw_args=None, inverse_func=None,\n",
       "                                      kw_args=None, pass_y='deprecated',\n",
       "                                      validate=False)),\n",
       "                 ('cover',\n",
       "                  OneDimensionalCover(n_intervals=10, overlap_frac=0.1))],\n",
       "          verbose=True), 'pullback_cover__identity__accept_sparse': False, 'pullback_cover__identity__check_inverse': True, 'pullback_cover__identity__func': None, 'pullback_cover__identity__inv_kw_args': None, 'pullback_cover__identity__inverse_func': None, 'pullback_cover__identity__kw_args': None, 'pullback_cover__identity__pass_y': 'deprecated', 'pullback_cover__identity__validate': False, 'pullback_cover__filter_cover__memory': None, 'pullback_cover__filter_cover__steps': [('filter_func',\n",
       "   FunctionTransformer(accept_sparse=False, check_inverse=True,\n",
       "                       func=functools.partial(<function proj at 0x1234b1b90>, coords=0),\n",
       "                       inv_kw_args=None, inverse_func=None, kw_args=None,\n",
       "                       pass_y='deprecated', validate=False)),\n",
       "  ('cover',\n",
       "   OneDimensionalCover(n_intervals=10, overlap_frac=0.1))], 'pullback_cover__filter_cover__verbose': True, 'pullback_cover__filter_cover__filter_func': FunctionTransformer(accept_sparse=False, check_inverse=True,\n",
       "                     func=functools.partial(<function proj at 0x1234b1b90>, coords=0),\n",
       "                     inv_kw_args=None, inverse_func=None, kw_args=None,\n",
       "                     pass_y='deprecated', validate=False), 'pullback_cover__filter_cover__cover': OneDimensionalCover(n_intervals=10, overlap_frac=0.1), 'pullback_cover__filter_cover__filter_func__accept_sparse': False, 'pullback_cover__filter_cover__filter_func__check_inverse': True, 'pullback_cover__filter_cover__filter_func__func': functools.partial(<function proj at 0x1234b1b90>, coords=0), 'pullback_cover__filter_cover__filter_func__inv_kw_args': None, 'pullback_cover__filter_cover__filter_func__inverse_func': None, 'pullback_cover__filter_cover__filter_func__kw_args': None, 'pullback_cover__filter_cover__filter_func__pass_y': 'deprecated', 'pullback_cover__filter_cover__filter_func__validate': False, 'pullback_cover__filter_cover__cover__n_intervals': 10, 'pullback_cover__filter_cover__cover__overlap_frac': 0.1, 'clustering__clusterer__algorithm': 'auto', 'clustering__clusterer__eps': 0.5, 'clustering__clusterer__leaf_size': 30, 'clustering__clusterer__metric': 'euclidean', 'clustering__clusterer__metric_params': None, 'clustering__clusterer__min_samples': 5, 'clustering__clusterer__n_jobs': None, 'clustering__clusterer__p': None, 'clustering__clusterer': DBSCAN(algorithm='auto', eps=0.5, leaf_size=30, metric='euclidean',\n",
       "        metric_params=None, min_samples=5, n_jobs=None, p=None), 'clustering__n_jobs_outer': 8, 'clustering__prefer': 'threads', 'nerve__min_intersection': 1}"
      ]
     },
     "execution_count": 15,
     "metadata": {},
     "output_type": "execute_result"
    }
   ],
   "source": [
    "pipe.get_params()"
   ]
  },
  {
   "cell_type": "markdown",
   "metadata": {},
   "source": [
    "```get_mapper_params``` shows only a subset of the key: value pairs above, and strips off from the keys prefixes which have only to do with fine print at the implementational level.\n",
    "\n",
    "In this way, the inner nested structure mentioned above is hidden from the viewer and only the important Mapper parameters are shown."
   ]
  },
  {
   "cell_type": "code",
   "execution_count": 16,
   "metadata": {},
   "outputs": [
    {
     "data": {
      "text/plain": [
       "{'memory': None,\n",
       " 'verbose': True,\n",
       " 'filter_func': FunctionTransformer(accept_sparse=False, check_inverse=True,\n",
       "                     func=functools.partial(<function proj at 0x1234b1b90>, coords=0),\n",
       "                     inv_kw_args=None, inverse_func=None, kw_args=None,\n",
       "                     pass_y='deprecated', validate=False),\n",
       " 'cover': OneDimensionalCover(n_intervals=10, overlap_frac=0.1),\n",
       " 'filter_func__accept_sparse': False,\n",
       " 'filter_func__check_inverse': True,\n",
       " 'filter_func__func': functools.partial(<function proj at 0x1234b1b90>, coords=0),\n",
       " 'filter_func__inv_kw_args': None,\n",
       " 'filter_func__inverse_func': None,\n",
       " 'filter_func__kw_args': None,\n",
       " 'filter_func__pass_y': 'deprecated',\n",
       " 'filter_func__validate': False,\n",
       " 'cover__n_intervals': 10,\n",
       " 'cover__overlap_frac': 0.1,\n",
       " 'clusterer__algorithm': 'auto',\n",
       " 'clusterer__eps': 0.5,\n",
       " 'clusterer__leaf_size': 30,\n",
       " 'clusterer__metric': 'euclidean',\n",
       " 'clusterer__metric_params': None,\n",
       " 'clusterer__min_samples': 5,\n",
       " 'clusterer__n_jobs': None,\n",
       " 'clusterer__p': None,\n",
       " 'clusterer': DBSCAN(algorithm='auto', eps=0.5, leaf_size=30, metric='euclidean',\n",
       "        metric_params=None, min_samples=5, n_jobs=None, p=None),\n",
       " 'n_jobs_outer': 8,\n",
       " 'prefer': 'threads',\n",
       " 'min_intersection': 1}"
      ]
     },
     "execution_count": 16,
     "metadata": {},
     "output_type": "execute_result"
    }
   ],
   "source": [
    "pipe.get_mapper_params()"
   ]
  },
  {
   "cell_type": "markdown",
   "metadata": {},
   "source": [
    "Related to this is the fact that the ```set_params``` method inherited from sklearn's ```Pipeline``` class would require detailed knowledge of the inner nested structure to be used.\n",
    "\n",
    "This is why a ```set_mapper_params``` method is implemented in ```MapperPipeline``` which effectively adds appropriate prefixes allowing the user to access the various levels of nesting."
   ]
  },
  {
   "cell_type": "code",
   "execution_count": 17,
   "metadata": {},
   "outputs": [
    {
     "data": {
      "text/plain": [
       "MapperPipeline(memory=None,\n",
       "               steps=[('pullback_cover',\n",
       "                       ListFeatureUnion(n_jobs=None,\n",
       "                                        transformer_list=[('identity',\n",
       "                                                           FunctionTransformer(accept_sparse=False,\n",
       "                                                                               check_inverse=True,\n",
       "                                                                               func=None,\n",
       "                                                                               inv_kw_args=None,\n",
       "                                                                               inverse_func=None,\n",
       "                                                                               kw_args=None,\n",
       "                                                                               pass_y='deprecated',\n",
       "                                                                               validate=False)),\n",
       "                                                          ('filter_cover',\n",
       "                                                           Pipeline(memory=None,\n",
       "                                                                    steps=[('filter_func',\n",
       "                                                                            FunctionTransformer(accept...\n",
       "                                                                            OneDimensionalCover(n_intervals=10,\n",
       "                                                                                                overlap_frac=0.1))],\n",
       "                                                                    verbose=True))],\n",
       "                                        transformer_weights=None,\n",
       "                                        verbose=False)),\n",
       "                      ('clustering',\n",
       "                       ParallelClustering(clusterer=DBSCAN(algorithm='auto',\n",
       "                                                           eps=0.5,\n",
       "                                                           leaf_size=30,\n",
       "                                                           metric='euclidean',\n",
       "                                                           metric_params=None,\n",
       "                                                           min_samples=5,\n",
       "                                                           n_jobs=None,\n",
       "                                                           p=None),\n",
       "                                          n_jobs_outer=8, prefer='threads')),\n",
       "                      ('nerve', Nerve(min_intersection=1))],\n",
       "               verbose=True)"
      ]
     },
     "execution_count": 17,
     "metadata": {},
     "output_type": "execute_result"
    }
   ],
   "source": [
    "pipe.set_mapper_params(filter_func=FunctionTransformer(func=partial(proj, coords=1), validate=False))"
   ]
  },
  {
   "cell_type": "code",
   "execution_count": 18,
   "metadata": {},
   "outputs": [
    {
     "data": {
      "text/plain": [
       "MapperPipeline(memory=None,\n",
       "               steps=[('pullback_cover',\n",
       "                       ListFeatureUnion(n_jobs=None,\n",
       "                                        transformer_list=[('identity',\n",
       "                                                           FunctionTransformer(accept_sparse=False,\n",
       "                                                                               check_inverse=True,\n",
       "                                                                               func=None,\n",
       "                                                                               inv_kw_args=None,\n",
       "                                                                               inverse_func=None,\n",
       "                                                                               kw_args=None,\n",
       "                                                                               pass_y='deprecated',\n",
       "                                                                               validate=False)),\n",
       "                                                          ('filter_cover',\n",
       "                                                           Pipeline(memory=None,\n",
       "                                                                    steps=[('filter_func',\n",
       "                                                                            FunctionTransformer(accept...\n",
       "                                                                            OneDimensionalCover(n_intervals=15,\n",
       "                                                                                                overlap_frac=0.1))],\n",
       "                                                                    verbose=True))],\n",
       "                                        transformer_weights=None,\n",
       "                                        verbose=False)),\n",
       "                      ('clustering',\n",
       "                       ParallelClustering(clusterer=DBSCAN(algorithm='auto',\n",
       "                                                           eps=0.5,\n",
       "                                                           leaf_size=30,\n",
       "                                                           metric='euclidean',\n",
       "                                                           metric_params=None,\n",
       "                                                           min_samples=5,\n",
       "                                                           n_jobs=None,\n",
       "                                                           p=None),\n",
       "                                          n_jobs_outer=8, prefer='threads')),\n",
       "                      ('nerve', Nerve(min_intersection=1))],\n",
       "               verbose=True)"
      ]
     },
     "execution_count": 18,
     "metadata": {},
     "output_type": "execute_result"
    }
   ],
   "source": [
    "pipe.set_mapper_params(cover=OneDimensionalCover(n_intervals=15))"
   ]
  },
  {
   "cell_type": "code",
   "execution_count": 19,
   "metadata": {},
   "outputs": [
    {
     "data": {
      "text/plain": [
       "MapperPipeline(memory=None,\n",
       "               steps=[('pullback_cover',\n",
       "                       ListFeatureUnion(n_jobs=None,\n",
       "                                        transformer_list=[('identity',\n",
       "                                                           FunctionTransformer(accept_sparse=False,\n",
       "                                                                               check_inverse=True,\n",
       "                                                                               func=None,\n",
       "                                                                               inv_kw_args=None,\n",
       "                                                                               inverse_func=None,\n",
       "                                                                               kw_args=None,\n",
       "                                                                               pass_y='deprecated',\n",
       "                                                                               validate=False)),\n",
       "                                                          ('filter_cover',\n",
       "                                                           Pipeline(memory=None,\n",
       "                                                                    steps=[('filter_func',\n",
       "                                                                            FunctionTransformer(accept...\n",
       "                                                                            OneDimensionalCover(n_intervals=15,\n",
       "                                                                                                overlap_frac=0.1))],\n",
       "                                                                    verbose=True))],\n",
       "                                        transformer_weights=None,\n",
       "                                        verbose=False)),\n",
       "                      ('clustering',\n",
       "                       ParallelClustering(clusterer=DBSCAN(algorithm='auto',\n",
       "                                                           eps=0.2,\n",
       "                                                           leaf_size=30,\n",
       "                                                           metric='euclidean',\n",
       "                                                           metric_params=None,\n",
       "                                                           min_samples=5,\n",
       "                                                           n_jobs=None,\n",
       "                                                           p=None),\n",
       "                                          n_jobs_outer=8, prefer='threads')),\n",
       "                      ('nerve', Nerve(min_intersection=1))],\n",
       "               verbose=True)"
      ]
     },
     "execution_count": 19,
     "metadata": {},
     "output_type": "execute_result"
    }
   ],
   "source": [
    "pipe.set_mapper_params(clusterer=DBSCAN(eps=0.2))"
   ]
  },
  {
   "cell_type": "code",
   "execution_count": 20,
   "metadata": {},
   "outputs": [
    {
     "data": {
      "text/plain": [
       "MapperPipeline(memory=None,\n",
       "               steps=[('pullback_cover',\n",
       "                       ListFeatureUnion(n_jobs=None,\n",
       "                                        transformer_list=[('identity',\n",
       "                                                           FunctionTransformer(accept_sparse=False,\n",
       "                                                                               check_inverse=True,\n",
       "                                                                               func=None,\n",
       "                                                                               inv_kw_args=None,\n",
       "                                                                               inverse_func=None,\n",
       "                                                                               kw_args=None,\n",
       "                                                                               pass_y='deprecated',\n",
       "                                                                               validate=False)),\n",
       "                                                          ('filter_cover',\n",
       "                                                           Pipeline(memory=None,\n",
       "                                                                    steps=[('filter_func',\n",
       "                                                                            FunctionTransformer(accept...\n",
       "                                                                            OneDimensionalCover(n_intervals=15,\n",
       "                                                                                                overlap_frac=0.1))],\n",
       "                                                                    verbose=True))],\n",
       "                                        transformer_weights=None,\n",
       "                                        verbose=False)),\n",
       "                      ('clustering',\n",
       "                       ParallelClustering(clusterer=DBSCAN(algorithm='auto',\n",
       "                                                           eps=0.3,\n",
       "                                                           leaf_size=30,\n",
       "                                                           metric='euclidean',\n",
       "                                                           metric_params=None,\n",
       "                                                           min_samples=5,\n",
       "                                                           n_jobs=None,\n",
       "                                                           p=None),\n",
       "                                          n_jobs_outer=8, prefer='threads')),\n",
       "                      ('nerve', Nerve(min_intersection=1))],\n",
       "               verbose=True)"
      ]
     },
     "execution_count": 20,
     "metadata": {},
     "output_type": "execute_result"
    }
   ],
   "source": [
    "pipe.set_mapper_params(clusterer__eps=0.3)"
   ]
  },
  {
   "cell_type": "code",
   "execution_count": 21,
   "metadata": {},
   "outputs": [
    {
     "data": {
      "text/plain": [
       "MapperPipeline(memory=None,\n",
       "               steps=[('pullback_cover',\n",
       "                       ListFeatureUnion(n_jobs=None,\n",
       "                                        transformer_list=[('identity',\n",
       "                                                           FunctionTransformer(accept_sparse=False,\n",
       "                                                                               check_inverse=True,\n",
       "                                                                               func=None,\n",
       "                                                                               inv_kw_args=None,\n",
       "                                                                               inverse_func=None,\n",
       "                                                                               kw_args=None,\n",
       "                                                                               pass_y='deprecated',\n",
       "                                                                               validate=False)),\n",
       "                                                          ('filter_cover',\n",
       "                                                           Pipeline(memory=None,\n",
       "                                                                    steps=[('filter_func',\n",
       "                                                                            FunctionTransformer(accept...\n",
       "                                                                            OneDimensionalCover(n_intervals=15,\n",
       "                                                                                                overlap_frac=0.1))],\n",
       "                                                                    verbose=True))],\n",
       "                                        transformer_weights=None,\n",
       "                                        verbose=False)),\n",
       "                      ('clustering',\n",
       "                       ParallelClustering(clusterer=DBSCAN(algorithm='auto',\n",
       "                                                           eps=0.3,\n",
       "                                                           leaf_size=30,\n",
       "                                                           metric='euclidean',\n",
       "                                                           metric_params=None,\n",
       "                                                           min_samples=5,\n",
       "                                                           n_jobs=None,\n",
       "                                                           p=None),\n",
       "                                          n_jobs_outer=8, prefer='threads')),\n",
       "                      ('nerve', Nerve(min_intersection=2))],\n",
       "               verbose=True)"
      ]
     },
     "execution_count": 21,
     "metadata": {},
     "output_type": "execute_result"
    }
   ],
   "source": [
    "pipe.set_mapper_params(min_intersection=2)"
   ]
  },
  {
   "cell_type": "markdown",
   "metadata": {},
   "source": [
    "# Usage of the ```memory``` option and caching"
   ]
  },
  {
   "cell_type": "markdown",
   "metadata": {},
   "source": [
    "This is just as in sklearn's ```Pipeline``` class"
   ]
  },
  {
   "cell_type": "code",
   "execution_count": 22,
   "metadata": {},
   "outputs": [],
   "source": [
    "cachedir = mkdtemp()\n",
    "memory = Memory(location=cachedir, verbose=False)"
   ]
  },
  {
   "cell_type": "code",
   "execution_count": 23,
   "metadata": {},
   "outputs": [],
   "source": [
    "pipe_memory = make_mapper_pipeline(filter_func=filter_func,\n",
    "                                   cover=cover,\n",
    "                                   clusterer=clusterer,\n",
    "                                   verbose=True,\n",
    "                                   n_jobs_outer=n_jobs_outer,\n",
    "                                   memory=memory)"
   ]
  },
  {
   "cell_type": "code",
   "execution_count": 24,
   "metadata": {},
   "outputs": [
    {
     "name": "stdout",
     "output_type": "stream",
     "text": [
      "[Pipeline] ....... (step 1 of 2) Processing filter_func, total=   0.0s\n",
      "[Pipeline] ............. (step 2 of 2) Processing cover, total=   0.0s\n",
      "[Pipeline] .... (step 1 of 3) Processing pullback_cover, total=   0.0s\n",
      "[Pipeline] ........ (step 2 of 3) Processing clustering, total=   9.6s\n",
      "[Pipeline] ............. (step 3 of 3) Processing nerve, total=   0.1s\n"
     ]
    },
    {
     "data": {
      "text/plain": [
       "<networkx.classes.graph.Graph at 0x123575d50>"
      ]
     },
     "execution_count": 24,
     "metadata": {},
     "output_type": "execute_result"
    }
   ],
   "source": [
    "pipe_memory.fit_transform(X)"
   ]
  },
  {
   "cell_type": "markdown",
   "metadata": {},
   "source": [
    "Repeating ```fit_transform``` on the same data and with the same parameters triggers access to intermediate cached return values from each transformer, **except the last one (Nerve)**."
   ]
  },
  {
   "cell_type": "code",
   "execution_count": 25,
   "metadata": {},
   "outputs": [
    {
     "name": "stdout",
     "output_type": "stream",
     "text": [
      "[Pipeline] ............. (step 3 of 3) Processing nerve, total=   0.1s\n"
     ]
    },
    {
     "data": {
      "text/plain": [
       "<networkx.classes.graph.Graph at 0x12351ef50>"
      ]
     },
     "execution_count": 25,
     "metadata": {},
     "output_type": "execute_result"
    }
   ],
   "source": [
    "pipe_memory.fit_transform(X)"
   ]
  },
  {
   "cell_type": "markdown",
   "metadata": {},
   "source": [
    "Changing the parameter of a late transformer means the next call to fit_transform will not recompute earlier steps."
   ]
  },
  {
   "cell_type": "code",
   "execution_count": 26,
   "metadata": {},
   "outputs": [
    {
     "data": {
      "text/plain": [
       "MapperPipeline(memory=Memory(location=/var/folders/8d/05mg3tln65v3x2qxs9pxfgkm0000gn/T/tmp5dnlz5oj/joblib),\n",
       "               steps=[('pullback_cover',\n",
       "                       ListFeatureUnion(n_jobs=None,\n",
       "                                        transformer_list=[('identity',\n",
       "                                                           FunctionTransformer(accept_sparse=False,\n",
       "                                                                               check_inverse=True,\n",
       "                                                                               func=None,\n",
       "                                                                               inv_kw_args=None,\n",
       "                                                                               inverse_func=None,\n",
       "                                                                               kw_args=None,\n",
       "                                                                               pass_y='deprecated',\n",
       "                                                                               validate=False)),\n",
       "                                                          ('fil...\n",
       "                                                                            OneDimensionalCover(n_intervals=10,\n",
       "                                                                                                overlap_frac=0.1))],\n",
       "                                                                    verbose=True))],\n",
       "                                        transformer_weights=None,\n",
       "                                        verbose=False)),\n",
       "                      ('clustering',\n",
       "                       ParallelClustering(clusterer=DBSCAN(algorithm='auto',\n",
       "                                                           eps=0.7,\n",
       "                                                           leaf_size=30,\n",
       "                                                           metric='euclidean',\n",
       "                                                           metric_params=None,\n",
       "                                                           min_samples=5,\n",
       "                                                           n_jobs=None,\n",
       "                                                           p=None),\n",
       "                                          n_jobs_outer=8, prefer='threads')),\n",
       "                      ('nerve', Nerve(min_intersection=1))],\n",
       "               verbose=True)"
      ]
     },
     "execution_count": 26,
     "metadata": {},
     "output_type": "execute_result"
    }
   ],
   "source": [
    "pipe_memory.set_mapper_params(clusterer__eps=0.7)"
   ]
  },
  {
   "cell_type": "code",
   "execution_count": 27,
   "metadata": {},
   "outputs": [
    {
     "name": "stdout",
     "output_type": "stream",
     "text": [
      "[Pipeline] ........ (step 2 of 3) Processing clustering, total=  11.2s\n",
      "[Pipeline] ............. (step 3 of 3) Processing nerve, total=   0.1s\n"
     ]
    },
    {
     "data": {
      "text/plain": [
       "<networkx.classes.graph.Graph at 0x105ac31d0>"
      ]
     },
     "execution_count": 27,
     "metadata": {},
     "output_type": "execute_result"
    }
   ],
   "source": [
    "pipe_memory.fit_transform(X)"
   ]
  },
  {
   "cell_type": "markdown",
   "metadata": {},
   "source": [
    "Clearing the cache."
   ]
  },
  {
   "cell_type": "code",
   "execution_count": 28,
   "metadata": {},
   "outputs": [],
   "source": [
    "rmtree(cachedir)"
   ]
  }
 ],
 "metadata": {
  "kernelspec": {
   "display_name": "Python 3",
   "language": "python",
   "name": "python3"
  },
  "language_info": {
   "codemirror_mode": {
    "name": "ipython",
    "version": 3
   },
   "file_extension": ".py",
   "mimetype": "text/x-python",
   "name": "python",
   "nbconvert_exporter": "python",
   "pygments_lexer": "ipython3",
   "version": "3.7.5"
  }
 },
 "nbformat": 4,
 "nbformat_minor": 4
}
