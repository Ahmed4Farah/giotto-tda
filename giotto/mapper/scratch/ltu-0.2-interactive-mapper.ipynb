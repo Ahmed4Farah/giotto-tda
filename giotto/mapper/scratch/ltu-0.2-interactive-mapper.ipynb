{
 "cells": [
  {
   "cell_type": "code",
   "execution_count": 1,
   "metadata": {},
   "outputs": [],
   "source": [
    "%load_ext autoreload\n",
    "%autoreload 2"
   ]
  },
  {
   "cell_type": "code",
   "execution_count": 2,
   "metadata": {},
   "outputs": [],
   "source": [
    "import numpy as np\n",
    "\n",
    "import operator\n",
    "\n",
    "from functools import reduce\n",
    "\n",
    "from sklearn.datasets import make_circles\n",
    "from sklearn.cluster import DBSCAN\n",
    "\n",
    "import plotly.graph_objects as go\n",
    "from ipywidgets import widgets\n",
    "# from IPython.display import display\n",
    "\n",
    "from matplotlib import pyplot as plt\n",
    "\n",
    "import networkx as nx\n",
    "from pprint import pprint"
   ]
  },
  {
   "cell_type": "code",
   "execution_count": 3,
   "metadata": {},
   "outputs": [],
   "source": [
    "from giotto.mapper.mapper import make_mapper_pipeline\n",
    "from giotto.mapper.visualize import create_network_2d, create_interactive_network"
   ]
  },
  {
   "cell_type": "code",
   "execution_count": 4,
   "metadata": {},
   "outputs": [
    {
     "data": {
      "image/png": "[encoded data removed]",
      "text/plain": [
       "<Figure size 432x288 with 1 Axes>"
      ]
     },
     "metadata": {
      "needs_background": "light"
     },
     "output_type": "display_data"
    }
   ],
   "source": [
    "data, labels = make_circles(n_samples=5000, noise=0.05, factor=0.3)\n",
    "\n",
    "plt.scatter(data[:,0], data[:, 1]);"
   ]
  },
  {
   "cell_type": "code",
   "execution_count": 5,
   "metadata": {},
   "outputs": [],
   "source": [
    "pipe = make_mapper_pipeline()"
   ]
  },
  {
   "cell_type": "code",
   "execution_count": 6,
   "metadata": {},
   "outputs": [],
   "source": [
    "# pprint(pipe.get_mapper_params())"
   ]
  },
  {
   "cell_type": "code",
   "execution_count": 7,
   "metadata": {},
   "outputs": [],
   "source": [
    "# pipe.set_mapper_params(**{'clusterer__metric':'l1'})"
   ]
  },
  {
   "cell_type": "code",
   "execution_count": 8,
   "metadata": {},
   "outputs": [],
   "source": [
    "# graph = pipe.fit_transform(data)\n",
    "\n",
    "# node_elements = nx.get_node_attributes(graph, 'elements')\n",
    "# node_sizes = [len(el) for el in node_elements.values()]\n",
    "# node_colors = [np.mean(data[el]) for el in node_elements.values()]\n",
    "# node_text = [k for k in node_elements.keys()]\n",
    "\n",
    "\n",
    "# pos = nx.kamada_kawai_layout(graph, dim=2)\n",
    "\n",
    "# fig = create_network_2d(graph, pos, node_sizes, node_colors, node_sizes, node_scale=20)\n",
    "\n",
    "# fig.show()"
   ]
  },
  {
   "cell_type": "markdown",
   "metadata": {},
   "source": [
    "## Iteration 1: Interactivity for giotto-learn--specific transformers"
   ]
  },
  {
   "cell_type": "markdown",
   "metadata": {},
   "source": [
    "## 1.1: OneDimensionalCover"
   ]
  },
  {
   "cell_type": "code",
   "execution_count": 9,
   "metadata": {},
   "outputs": [
    {
     "data": {
      "application/vnd.jupyter.widget-view+json": {
       "model_id": "aebf878efda6410f9423e537cb3e91c1",
       "version_major": 2,
       "version_minor": 0
      },
      "text/plain": [
       "VBox(children=(HBox(children=(IntSlider(value=10, description='n_intervals', max=50, min=1), FloatSlider(value…"
      ]
     },
     "metadata": {},
     "output_type": "display_data"
    }
   ],
   "source": [
    "plotly_kwargs = {\n",
    "    'colorscale':'RdBu'\n",
    "}\n",
    "\n",
    "create_interactive_network(pipe, data)"
   ]
  },
  {
   "cell_type": "markdown",
   "metadata": {},
   "source": [
    "## Configure clustering params"
   ]
  },
  {
   "cell_type": "code",
   "execution_count": 10,
   "metadata": {},
   "outputs": [
    {
     "data": {
      "text/plain": [
       "{'memory': None,\n",
       " 'verbose': False,\n",
       " 'scaler': MinMaxScaler(copy=True, feature_range=(0, 1)),\n",
       " 'filter_func': PCA(copy=True, iterated_power='auto', n_components=2, random_state=None,\n",
       "     svd_solver='auto', tol=0.0, whiten=False),\n",
       " 'cover': CubicalCover(n_intervals=10, overlap_frac=0.1),\n",
       " 'scaler__copy': True,\n",
       " 'scaler__feature_range': (0, 1),\n",
       " 'filter_func__copy': True,\n",
       " 'filter_func__iterated_power': 'auto',\n",
       " 'filter_func__n_components': 2,\n",
       " 'filter_func__random_state': None,\n",
       " 'filter_func__svd_solver': 'auto',\n",
       " 'filter_func__tol': 0.0,\n",
       " 'filter_func__whiten': False,\n",
       " 'cover__n_intervals': 10,\n",
       " 'cover__overlap_frac': 0.1,\n",
       " 'clusterer__algorithm': 'auto',\n",
       " 'clusterer__eps': 0.5,\n",
       " 'clusterer__leaf_size': 30,\n",
       " 'clusterer__metric': 'euclidean',\n",
       " 'clusterer__metric_params': None,\n",
       " 'clusterer__min_samples': 5,\n",
       " 'clusterer__n_jobs': None,\n",
       " 'clusterer__p': None,\n",
       " 'clusterer': DBSCAN(algorithm='auto', eps=0.5, leaf_size=30, metric='euclidean',\n",
       "        metric_params=None, min_samples=5, n_jobs=None, p=None),\n",
       " 'n_jobs_outer': None,\n",
       " 'prefer': 'threads',\n",
       " 'min_intersection': 1}"
      ]
     },
     "execution_count": 10,
     "metadata": {},
     "output_type": "execute_result"
    }
   ],
   "source": [
    "pipe.get_mapper_params()"
   ]
  },
  {
   "cell_type": "code",
   "execution_count": 11,
   "metadata": {},
   "outputs": [],
   "source": [
    "cover_params = dict(filter(lambda x: x[0].startswith('cover'),\n",
    "                           pipe.get_mapper_params().items()))\n",
    "\n",
    "# cover_params_widgets = dict(\n",
    "#     filter(None, map(lambda x: get_cover_params_widgets(*x),\n",
    "#                      cover_params.items())))\n",
    "\n",
    "cluster_params = dict(filter(lambda x: x[0].startswith('clusterer'),\n",
    "                             pipe.get_mapper_params().items()))\n",
    "\n",
    "# cluster_params_widgets = dict(\n",
    "#     filter(None, map(lambda x: get_cluster_params_widgets(*x),\n",
    "#                      cluster_params.items())))"
   ]
  },
  {
   "cell_type": "code",
   "execution_count": 12,
   "metadata": {},
   "outputs": [
    {
     "data": {
      "text/plain": [
       "dict_items([('cover', CubicalCover(n_intervals=10, overlap_frac=0.1)), ('cover__n_intervals', 10), ('cover__overlap_frac', 0.1)])"
      ]
     },
     "execution_count": 12,
     "metadata": {},
     "output_type": "execute_result"
    }
   ],
   "source": [
    "cover_params.items()"
   ]
  },
  {
   "cell_type": "code",
   "execution_count": 13,
   "metadata": {},
   "outputs": [],
   "source": [
    "cluster_params = {key: item for key, item in pipe.get_mapper_params(\n",
    ").items() if key.startswith('clusterer')}"
   ]
  },
  {
   "cell_type": "code",
   "execution_count": 14,
   "metadata": {},
   "outputs": [
    {
     "data": {
      "text/plain": [
       "dict_items([('clusterer__algorithm', 'auto'), ('clusterer__eps', 0.5), ('clusterer__leaf_size', 30), ('clusterer__metric', 'euclidean'), ('clusterer__metric_params', None), ('clusterer__min_samples', 5), ('clusterer__n_jobs', None), ('clusterer__p', None), ('clusterer', DBSCAN(algorithm='auto', eps=0.5, leaf_size=30, metric='euclidean',\n",
       "       metric_params=None, min_samples=5, n_jobs=None, p=None))])"
      ]
     },
     "execution_count": 14,
     "metadata": {},
     "output_type": "execute_result"
    }
   ],
   "source": [
    "cluster_params.items()"
   ]
  },
  {
   "cell_type": "code",
   "execution_count": 15,
   "metadata": {},
   "outputs": [
    {
     "name": "stdout",
     "output_type": "stream",
     "text": [
      "clusterer__eps 0.5\n"
     ]
    }
   ],
   "source": [
    "for param, value in cluster_params.items():\n",
    "    if isinstance(value, float):\n",
    "        print(param, value)"
   ]
  },
  {
   "cell_type": "code",
   "execution_count": 16,
   "metadata": {},
   "outputs": [
    {
     "name": "stdout",
     "output_type": "stream",
     "text": [
      "clusterer__leaf_size 30\n",
      "clusterer__min_samples 5\n"
     ]
    }
   ],
   "source": [
    "for param, value in cluster_params.items():\n",
    "    if isinstance(value, int):\n",
    "        print(param, value)"
   ]
  },
  {
   "cell_type": "code",
   "execution_count": 17,
   "metadata": {},
   "outputs": [
    {
     "name": "stdout",
     "output_type": "stream",
     "text": [
      "clusterer__algorithm auto\n",
      "clusterer__metric euclidean\n"
     ]
    }
   ],
   "source": [
    "for param, value in cluster_params.items():\n",
    "    if isinstance(value, str):\n",
    "        print(param, value)"
   ]
  },
  {
   "cell_type": "code",
   "execution_count": 18,
   "metadata": {},
   "outputs": [],
   "source": [
    "import inspect"
   ]
  },
  {
   "cell_type": "code",
   "execution_count": 19,
   "metadata": {},
   "outputs": [],
   "source": [
    "hyperparams = inspect.signature(cluster_params['clusterer'].__init__)"
   ]
  },
  {
   "cell_type": "code",
   "execution_count": 20,
   "metadata": {},
   "outputs": [
    {
     "data": {
      "text/plain": [
       "<Signature (eps=0.5, min_samples=5, metric='euclidean', metric_params=None, algorithm='auto', leaf_size=30, p=None, n_jobs=None)>"
      ]
     },
     "execution_count": 20,
     "metadata": {},
     "output_type": "execute_result"
    }
   ],
   "source": [
    "hyperparams"
   ]
  },
  {
   "cell_type": "code",
   "execution_count": null,
   "metadata": {},
   "outputs": [],
   "source": []
  }
 ],
 "metadata": {
  "kernelspec": {
   "display_name": "Python 3",
   "language": "python",
   "name": "python3"
  },
  "language_info": {
   "codemirror_mode": {
    "name": "ipython",
    "version": 3
   },
   "file_extension": ".py",
   "mimetype": "text/x-python",
   "name": "python",
   "nbconvert_exporter": "python",
   "pygments_lexer": "ipython3",
   "version": "3.7.5"
  }
 },
 "nbformat": 4,
 "nbformat_minor": 4
}
