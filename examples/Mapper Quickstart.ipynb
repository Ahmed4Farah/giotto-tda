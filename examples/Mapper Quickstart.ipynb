{
 "cells": [
  {
   "cell_type": "markdown",
   "metadata": {},
   "source": [
    "# Getting Started with Mapper\n",
    "\n",
    "In this notebook we explore a few of the core features included in giotto-learn's implementation of the [Mapper algorithm](https://research.math.osu.edu/tgda/mapperPBG.pdf). \n",
    "\n",
    "### Useful references\n",
    "\n",
    "* [An introduction to Topological Data Analysis: fundamental and practical aspects for data scientists](https://arxiv.org/abs/1710.04019)\n",
    "* [An Introduction to Topological Data Analysis for Physicists: From LGM to FRBs](https://arxiv.org/abs/1904.11044)"
   ]
  },
  {
   "cell_type": "markdown",
   "metadata": {},
   "source": [
    "## Import libraries"
   ]
  },
  {
   "cell_type": "code",
   "execution_count": null,
   "metadata": {},
   "outputs": [],
   "source": [
    "%load_ext autoreload\n",
    "%autoreload 2"
   ]
  },
  {
   "cell_type": "code",
   "execution_count": null,
   "metadata": {},
   "outputs": [],
   "source": [
    "# data wrangling\n",
    "import numpy as np\n",
    "\n",
    "# data viz\n",
    "import plotly.graph_objects as go\n",
    "\n",
    "# tda magic\n",
    "from giotto.mapper.cover import CubicalCover\n",
    "from giotto.mapper.pipeline import make_mapper_pipeline\n",
    "from giotto.mapper.filter import Projection\n",
    "from giotto.mapper.visualization import (\n",
    "    create_network_2d,\n",
    "    create_network_3d,\n",
    "    create_interactive_network,\n",
    "    set_node_sizeref,\n",
    ")\n",
    "\n",
    "# ml tools\n",
    "from sklearn import datasets\n",
    "from sklearn.cluster import DBSCAN\n",
    "\n",
    "import warnings\n",
    "warnings.simplefilter(action=\"ignore\", category=FutureWarning)"
   ]
  },
  {
   "cell_type": "markdown",
   "metadata": {},
   "source": [
    "## Generate and visualise data\n",
    "As a simple example, let's generate a two-dimensional point cloud of two concentric circles. The goal will be to examine how Mapper can be used to generate a topological graph that captures the salient features of the data."
   ]
  },
  {
   "cell_type": "code",
   "execution_count": null,
   "metadata": {},
   "outputs": [],
   "source": [
    "data, _ = datasets.make_circles(n_samples=5000, noise=0.05, factor=0.3, random_state=42)\n",
    "\n",
    "fig = go.Figure(\n",
    "    data=go.Scatter(x=data[:, 0], y=data[:, 1], mode=\"markers\"),\n",
    "    layout={\"autosize\": False},\n",
    ")\n",
    "fig.show()"
   ]
  },
  {
   "cell_type": "code",
   "execution_count": null,
   "metadata": {},
   "outputs": [],
   "source": [
    "import pandas as pd\n",
    "data = pd.DataFrame(data, columns=['a', 'b'])"
   ]
  },
  {
   "cell_type": "markdown",
   "metadata": {},
   "source": [
    "## Configure the Mapper pipeline\n",
    "Given a dataset ${\\cal D}$ of points $x \\in \\mathbb{R}^n$, the basic steps behind Mapper are as follows:\n",
    "\n",
    "1. Map ${\\cal D}$ to a lower-dimensional space using a _**filter function**_ $ f: \\mathbb{R}^n \\to \\mathbb{R}^m $. Common choices for the filter function include projection onto one or more axes via PCA or density-based methods. In giotto-learn, you can import the desired filter function as follows:\n",
    "\n",
    "```python\n",
    "from giotto.mapper.filter import FilterFunctionName\n",
    "```\n",
    "\n",
    "2. Construct a cover of the filter values ${\\cal U} = (U_i)_{i\\in I}$, typically in the form of a set of overlapping intervals which have constant length. As with the filter, a choice of cover can be imported as follows:\n",
    "\n",
    "```python\n",
    "from giotto.mapper.cover import CoverName\n",
    "```\n",
    "\n",
    "3. For each interval $U_i \\in {\\cal U}$ cluster the points in the preimage $f^{-1}(U_i)$ into sets $C_{i,1}, \\ldots , C_{i,k_i}$. The choice of clustering algorithm can be any of scikit-learn's [clustering methods](https://scikit-learn.org/stable/modules/clustering.html) or an implementation of agglomerative clustering in giotto-learn:\n",
    "\n",
    "```python\n",
    "# scikit-learn method\n",
    "from sklearn.cluster import ClusteringAlgorithm\n",
    "# giotto-learn method\n",
    "from giotto.mapper.cluster import FirstSimpleGap\n",
    "```\n",
    "\n",
    "4. Construct the topological graph whose vertices are the cluster sets $(C_{i,j})_{i\\in I, j \\in \\{1,\\ldots,k_i\\}}$ and an edge exists between two nodes if they share points in common: $C_{i,j} \\cap C_{k,l} \\neq \\emptyset$. This step is handled automatically by giotto-learn.\n",
    "\n",
    "These four steps are implemented in `MapperPipeline()`  object that mimics the `Pipeline()` class from scikit-learn. We provide a convenience function `make_mapper_pipeline()` that allows you to pass the choice of filter function, cover, and clustering algorithm as arguments. For example, to project our data onto the $x$- and $y$-axes, we could setup the pipeline as follows:"
   ]
  },
  {
   "cell_type": "code",
   "execution_count": null,
   "metadata": {},
   "outputs": [],
   "source": [
    "# define filter function - can be any scikit-learn Transformer\n",
    "# filter_func = Projection(columns=[0,1])\n",
    "filter_func = Projection(columns=['a', 'b'])\n",
    "# define cover\n",
    "cover = CubicalCover(n_intervals=10, overlap_frac=0.3)\n",
    "# choose clustering algorithm - default is DBSCAN\n",
    "clusterer = DBSCAN()\n",
    "\n",
    "# configure parallelism\n",
    "parallel_clustering_n_jobs = 1\n",
    "\n",
    "# initialise pipeline\n",
    "pipe = make_mapper_pipeline(\n",
    "    filter_func=filter_func,\n",
    "    cover=cover,\n",
    "    clusterer=clusterer,\n",
    "    verbose=True,\n",
    "    parallel_clustering_n_jobs=parallel_clustering_n_jobs,\n",
    ")"
   ]
  },
  {
   "cell_type": "markdown",
   "metadata": {},
   "source": [
    "## Run the Mapper pipeline\n",
    "Now that our pipeline is configured, we can apply it to our data to to return the topological graph object:"
   ]
  },
  {
   "cell_type": "code",
   "execution_count": null,
   "metadata": {},
   "outputs": [],
   "source": [
    "graph = pipe.fit_transform(data)"
   ]
  },
  {
   "cell_type": "markdown",
   "metadata": {},
   "source": [
    "The resulting graph is an [python-igraph](https://igraph.org/python/) object that contains metadata that is stored in the form of dictionaries. We can access this data as follows:"
   ]
  },
  {
   "cell_type": "code",
   "execution_count": null,
   "metadata": {},
   "outputs": [],
   "source": [
    "graph['node_metadata'].keys()"
   ]
  },
  {
   "cell_type": "markdown",
   "metadata": {},
   "source": [
    "Here `node_id` is an identifier used to construct the graph, while `interval_id` and `cluster_id` refer to the interval and cluster sets described above. The `node_elements` refers to the indices of our original data that belong to each node. For example, to find which points belong to the first node of the graph we can access the desired data as follows:"
   ]
  },
  {
   "cell_type": "code",
   "execution_count": null,
   "metadata": {},
   "outputs": [],
   "source": [
    "node_id, node_elements = graph['node_metadata']['node_id'], graph['node_metadata']['node_elements']"
   ]
  },
  {
   "cell_type": "code",
   "execution_count": null,
   "metadata": {},
   "outputs": [],
   "source": [
    "# print('Node Id: {}, \\nNode elements: {}, \\nData points: {}'.format(node_id[0], node_elements[0], data[node_elements[0]]))\n",
    "\n",
    "print('Node Id: {}, \\nNode elements: {}, \\nData points: {}'.format(node_id[0], node_elements[0], data.iloc[node_elements[0]]))"
   ]
  },
  {
   "cell_type": "markdown",
   "metadata": {},
   "source": [
    "In general the node metadata is useful for defining the manner in which one wishes to color the nodes in the Mapper graph."
   ]
  },
  {
   "cell_type": "markdown",
   "metadata": {},
   "source": [
    "## Visualise the 2D Mapper graph"
   ]
  },
  {
   "cell_type": "markdown",
   "metadata": {},
   "source": [
    "With the Mapper graph at hand, it is now a simple matter to visualise it. To warm up, let's examine the graph in two-dimensions using the default arguments of giotto-learn's plotting function:"
   ]
  },
  {
   "cell_type": "code",
   "execution_count": null,
   "metadata": {},
   "outputs": [],
   "source": [
    "fig = create_network_2d(pipe, data, color_by_columns_dropdown=False)\n",
    "# display figure\n",
    "fig.show(config={\"scrollZoom\": True})"
   ]
  },
  {
   "cell_type": "markdown",
   "metadata": {},
   "source": [
    "From the figure we can see that we have captured the salient topological features of our underlying data, namely two holes!"
   ]
  },
  {
   "cell_type": "markdown",
   "metadata": {},
   "source": [
    "## Visualise the 3D Mapper graph\n",
    "In some cases, it can be useful to explore the Mapper graph in three-dimensions. Below we also show how one can configure the size of the nodes using the utility function `set_node_sizeref()`, along with the ability to choose which column of `data` to color the nodes by:"
   ]
  },
  {
   "cell_type": "code",
   "execution_count": null,
   "metadata": {},
   "outputs": [],
   "source": [
    "# configure choice of layout\n",
    "layout = graph.layout(\"kk\", dim=3)\n",
    "# get cluster member indices\n",
    "node_elements = graph[\"node_metadata\"][\"node_elements\"]\n",
    "# define node coloring by mean value\n",
    "node_colors = [np.mean(data[el]) for el in node_elements]\n",
    "# alternatively define (column_name, column_index) pairs to colour by\n",
    "columns_to_color = {\"x-axis\": 0, \"y-axis\": 1}\n",
    "# configure scale for node sizes\n",
    "plotly_kwargs = {\n",
    "    \"node_trace_marker_sizeref\": set_node_sizeref(node_elements, node_scale=30)\n",
    "}\n",
    "# initialise figure\n",
    "fig = create_network_3d(\n",
    "    graph,\n",
    "    data,\n",
    "    layout,\n",
    "    node_colors,\n",
    "    columns_to_color=columns_to_color,\n",
    "    plotly_kwargs=plotly_kwargs,\n",
    ")\n",
    "# display figure\n",
    "fig.show()"
   ]
  },
  {
   "cell_type": "markdown",
   "metadata": {},
   "source": [
    "By toggling the _Color by_ dropdown menu, we can see how the $x$ and $y$ values of the circle are distributed over the Mapper graph."
   ]
  },
  {
   "cell_type": "markdown",
   "metadata": {},
   "source": [
    "## Visualise the 2D Mapper graph interactively\n",
    "In general, buidling useful Mapper graphs requires some iteration through the various parameters in the cover and clustering algorithm. To simplify that process, giotto-learn provides an interactive figure that can be configured in real-time. If invalid parameters are selected, the _Show logs_ checkbox can be used to see what went wrong."
   ]
  },
  {
   "cell_type": "code",
   "execution_count": null,
   "metadata": {},
   "outputs": [],
   "source": [
    "# define (column_name, column_index) pairs to colour by\n",
    "columns_to_color = {\"x-axis\": 0, \"y-axis\": 1}\n",
    "# customise plot as desired\n",
    "plotly_kwargs = {\"node_trace_marker_reversescale\": True}\n",
    "# generate interactive plot\n",
    "create_interactive_network(\n",
    "    pipe, data, columns_to_color=columns_to_color, plotly_kwargs=plotly_kwargs\n",
    ")"
   ]
  },
  {
   "cell_type": "code",
   "execution_count": null,
   "metadata": {},
   "outputs": [],
   "source": []
  },
  {
   "cell_type": "code",
   "execution_count": null,
   "metadata": {},
   "outputs": [],
   "source": [
    "pipe.transform"
   ]
  },
  {
   "cell_type": "code",
   "execution_count": null,
   "metadata": {},
   "outputs": [],
   "source": [
    "X"
   ]
  }
 ],
 "metadata": {
  "kernelspec": {
   "display_name": "Python 3",
   "language": "python",
   "name": "python3"
  },
  "language_info": {
   "codemirror_mode": {
    "name": "ipython",
    "version": 3
   },
   "file_extension": ".py",
   "mimetype": "text/x-python",
   "name": "python",
   "nbconvert_exporter": "python",
   "pygments_lexer": "ipython3",
   "version": "3.7.5"
  }
 },
 "nbformat": 4,
 "nbformat_minor": 4
}
