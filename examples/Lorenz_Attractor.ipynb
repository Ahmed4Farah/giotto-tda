{
 "cells": [
  {
   "cell_type": "code",
   "execution_count": null,
   "metadata": {},
   "outputs": [],
   "source": [
    "import topological_learning as tl\n",
    "import topological_learning.datasets as ds\n",
    "import topological_learning.preprocessing as prep\n",
    "import topological_learning.diagram as diag\n",
    "import topological_learning.homology as hl\n",
    "import numpy as np\n",
    "import pandas as pd\n",
    "import datetime as dt\n",
    "import sklearn as sk\n",
    "from sklearn.pipeline import Pipeline\n",
    "\n",
    "import matplotlib.pyplot as plt\n",
    "from pandas.plotting import register_matplotlib_converters\n",
    "register_matplotlib_converters()\n",
    "%matplotlib inline\n",
    "\n",
    "import plotly.graph_objs as go\n",
    "from plotly.offline import init_notebook_mode, iplot\n",
    "init_notebook_mode(connected=True)"
   ]
  },
  {
   "cell_type": "code",
   "execution_count": null,
   "metadata": {},
   "outputs": [],
   "source": [
    "import topological_learning.manifold as ma\n",
    "\n",
    "test = tl.manifold.StatefulMDS()"
   ]
  },
  {
   "cell_type": "code",
   "execution_count": null,
   "metadata": {},
   "outputs": [],
   "source": [
    "maxDuration = 20000\n",
    "transitionList = [0.037500000000000006, 0.047, 0.0625, 0.077, 0.10350000000000001, 0.1275, 0.1585, 0.1615, \n",
    "                  0.1685, 0.2215, 0.23, 0.23700000000000002, 0.2515, 0.2715, 0.3, 0.30750000000000005, 0.3385, \n",
    "                  0.36350000000000005, 0.388, 0.40449999999999997, 0.41950000000000004, 0.4225, 0.4515, \n",
    "                  0.46950000000000003, 0.506, 0.5405, 0.542, 0.5825, 0.5825, 0.6144999999999999, 0.635, 0.66, \n",
    "                  0.677, 0.6845, 0.685, 0.729, 0.749, 0.769, 0.777, 0.8075, 0.8310000000000001, 0.833, 0.864, \n",
    "                  0.8674999999999999, 0.882, 0.903, 0.9395, 0.94, 0.974, 0.99]\n",
    "lorenzAttractor = ds.LorenzDataset(initialConditions=(1, -10, 10), sigma=10., beta=8./3., rhoMin=5, rhoMax=15,\n",
    "                     transitionList=transitionList, numberTransitions=25, transitionDuration=100,\n",
    "                     timeStep=0.01, maxDuration=maxDuration, meanNoise=0., stdDeviationNoise=0.0)\n",
    "lorenzAttractor.run()"
   ]
  },
  {
   "cell_type": "code",
   "execution_count": null,
   "metadata": {},
   "outputs": [],
   "source": [
    "title = 'Lorenz attractor'\n",
    "trace = go.Scatter3d(x=lorenzAttractor.x, y=lorenzAttractor.y, z=lorenzAttractor.z, mode='markers',\n",
    "                     marker=dict(size=4, color=list(range(maxDuration)),\n",
    "                     colorscale='Viridis', opacity=0.8))\n",
    "\n",
    "data = [trace]\n",
    "layout = go.Layout(margin=dict(l=0, r=0, b=0, t=0))\n",
    "\n",
    "figure = go.Figure(data=data, layout=layout)\n",
    "iplot(figure)"
   ]
  },
  {
   "cell_type": "code",
   "execution_count": null,
   "metadata": {},
   "outputs": [],
   "source": [
    "zDataFrame = pd.DataFrame(lorenzAttractor.z)\n",
    "index = pd.to_datetime(zDataFrame.index, utc=True, unit='h')\n",
    "zDataFrame.index = index\n",
    "\n",
    "fig = plt.figure(figsize=(16,6))\n",
    "plt.plot(zDataFrame)\n",
    "plt.show()"
   ]
  },
  {
   "cell_type": "code",
   "execution_count": null,
   "metadata": {},
   "outputs": [],
   "source": [
    "samplingPeriod = '10h'\n",
    "periodicSampler = prep.Resampler(sampling_type='periodic', sampling_period=samplingPeriod, remove_weekends=False)"
   ]
  },
  {
   "cell_type": "code",
   "execution_count": null,
   "metadata": {},
   "outputs": [],
   "source": [
    "periodicSampler.fit(zDataFrame)\n",
    "zDataFrameSampled = periodicSampler.transform(zDataFrame)\n",
    "\n",
    "fig = plt.figure(figsize=(16,6))\n",
    "plt.plot(zDataFrameSampled[0])\n",
    "plt.show()"
   ]
  },
  {
   "cell_type": "code",
   "execution_count": null,
   "metadata": {},
   "outputs": [],
   "source": [
    "outerWindowDuration = 100\n",
    "outerWindowStride = 20\n",
    "embedder = prep.TakensEmbedder(outer_window_duration=outerWindowDuration, outer_window_stride=outerWindowStride, \n",
    "                              embedding_parameters_type='search', embedding_dimension=10, embedding_time_delay=3, \n",
    "                              n_jobs=-1)"
   ]
  },
  {
   "cell_type": "code",
   "execution_count": null,
   "metadata": {},
   "outputs": [],
   "source": [
    "embedder.fit(zDataFrameSampled)\n",
    "zEmbedded = embedder.transform(zDataFrameSampled)\n",
    "print('Optimal embedding time delay based on mutual information: ', embedder.embedding_time_delay)\n",
    "print('Optimal embedding dimension based on false nearest neighbors: ', embedder.embedding_dimension)"
   ]
  },
  {
   "cell_type": "code",
   "execution_count": null,
   "metadata": {},
   "outputs": [],
   "source": [
    "windowNumber = 3"
   ]
  },
  {
   "cell_type": "code",
   "execution_count": null,
   "metadata": {},
   "outputs": [],
   "source": [
    "title = 'Takens embedding of the first outer window'\n",
    "window = zEmbedded[windowNumber]\n",
    "trace = go.Scatter3d(x=window[:, 0], y=window[:, 1], z=window[:, 2], mode='markers',\n",
    "                     marker=dict(size=4, color=list(range(window.shape[0])),\n",
    "                     colorscale='Viridis', opacity=0.8))\n",
    "\n",
    "data = [trace]\n",
    "layout = go.Layout(margin=dict(l=0, r=0, b=0, t=0))\n",
    "\n",
    "figure = go.Figure(data=data, layout=layout)\n",
    "iplot(figure)"
   ]
  },
  {
   "cell_type": "code",
   "execution_count": null,
   "metadata": {},
   "outputs": [],
   "source": [
    "fig = plt.figure(figsize=(16,6))\n",
    "plt.plot(zDataFrameSampled[windowNumber*outerWindowStride:windowNumber*outerWindowStride + outerWindowDuration])\n",
    "plt.show()"
   ]
  },
  {
   "cell_type": "code",
   "execution_count": null,
   "metadata": {},
   "outputs": [],
   "source": [
    "homologyDimensions = [0, 1 ,2]\n",
    "persistenceDiagram = hl.VietorisRipsPersistence(data_type='points', max_edge_length=100, \n",
    "                                            homology_dimensions=homologyDimensions, n_jobs=-1)\n",
    "persistenceDiagram.fit(zEmbedded)\n",
    "zDiagrams = persistenceDiagram.transform(zEmbedded)"
   ]
  },
  {
   "cell_type": "code",
   "execution_count": null,
   "metadata": {},
   "outputs": [],
   "source": [
    "fig = plt.figure(figsize=(10,6))\n",
    "diagram = { dimension: zDiagrams[dimension][windowNumber] for dimension in homologyDimensions }\n",
    "\n",
    "for dimension in homologyDimensions:\n",
    "    plt.plot(diagram[dimension][:,0], diagram[dimension][:,1], 'o')\n",
    "\n",
    "plt.plot([0, 22], [0, 22], color='k')\n",
    "plt.show()"
   ]
  },
  {
   "cell_type": "code",
   "execution_count": null,
   "metadata": {},
   "outputs": [],
   "source": [
    "diagramDistance = diag.DiagramDistance(metric_kwargs={'metric':'bottleneck', 'order': np.inf}, n_jobs=-1)\n",
    "diagramDistance.fit(zDiagrams)\n",
    "zDistanceMatrix_BN = diagramDistance.transform(zDiagrams)"
   ]
  },
  {
   "cell_type": "code",
   "execution_count": null,
   "metadata": {},
   "outputs": [],
   "source": [
    "figure = plt.figure(figsize=(10,10))\n",
    "plt.imshow(zDistanceMatrix_BN)\n",
    "plt.colorbar()\n",
    "plt.show()"
   ]
  },
  {
   "cell_type": "code",
   "execution_count": null,
   "metadata": {},
   "outputs": [],
   "source": [
    "diagramDistance = diag.DiagramDistance(metric_kwargs={'metric':'landscape', 'order': 2, 'n_layers':1, 'n_samples':1000}, \n",
    "                                     n_jobs=-1)\n",
    "diagramDistance.fit(zDiagrams)\n",
    "zDistanceMatrix_L = diagramDistance.transform(zDiagrams)"
   ]
  },
  {
   "cell_type": "code",
   "execution_count": null,
   "metadata": {},
   "outputs": [],
   "source": [
    "figure = plt.figure(figsize=(10,10))\n",
    "plt.imshow(zDistanceMatrix_L)\n",
    "plt.colorbar()\n",
    "plt.show()"
   ]
  },
  {
   "cell_type": "code",
   "execution_count": null,
   "metadata": {},
   "outputs": [],
   "source": [
    "lorenzAttractor.stdDeviationNoise = 0.3\n",
    "lorenzAttractor.run()"
   ]
  },
  {
   "cell_type": "code",
   "execution_count": null,
   "metadata": {},
   "outputs": [],
   "source": [
    "zDataFrame_noise = pd.DataFrame(lorenzAttractor.z)\n",
    "index = pd.to_datetime(zDataFrame_noise.index, utc=True, unit='h')\n",
    "zDataFrame_noise.index = index\n",
    "\n",
    "fig = plt.figure(figsize=(16,6))\n",
    "plt.plot(zDataFrame_noise)\n",
    "plt.show()"
   ]
  },
  {
   "cell_type": "code",
   "execution_count": null,
   "metadata": {},
   "outputs": [],
   "source": [
    "steps = [\n",
    "    ('sampling', prep.Resampler(sampling_type='periodic', sampling_period=samplingPeriod, remove_weekends=False)),\n",
    "    ('embedding', prep.TakensEmbedder(outer_window_duration=outerWindowDuration, outer_window_stride=outerWindowStride, \n",
    "                              embedding_parameters_type='search', embedding_dimension=10, embedding_time_delay=3, \n",
    "                              n_jobs=-1)),\n",
    "    ('diagrams', hl.VietorisRipsPersistence(data_type='points', max_edge_length=100, \n",
    "                                        homology_dimensions=homologyDimensions, n_jobs=-1))\n",
    "]\n",
    "\n",
    "# Sklearn Pipeline\n",
    "pipeline = Pipeline(steps)"
   ]
  },
  {
   "cell_type": "code",
   "execution_count": null,
   "metadata": {},
   "outputs": [],
   "source": [
    "pipeline.fit(zDataFrame_noise)\n",
    "zDiagrams_noise = pipeline.transform(zDataFrame_noise)"
   ]
  },
  {
   "cell_type": "code",
   "execution_count": null,
   "metadata": {},
   "outputs": [],
   "source": [
    "fig = plt.figure(figsize=(10,6))\n",
    "diagram = { dimension: zDiagrams_noise[dimension][windowNumber] for dimension in homologyDimensions }\n",
    "\n",
    "for dimension in homologyDimensions:\n",
    "    plt.plot(diagram[dimension][:,0], diagram[dimension][:,1], 'o')\n",
    "\n",
    "plt.plot([0, 21], [0, 21], color='k')\n",
    "plt.show()"
   ]
  },
  {
   "cell_type": "code",
   "execution_count": null,
   "metadata": {},
   "outputs": [],
   "source": [
    "diagramScaler = diag.DiagramScaler()\n",
    "diagramScaler.fit(zDiagrams_noise)\n",
    "zDiagramsScaled_noise = diagramScaler.transform(zDiagrams_noise)"
   ]
  },
  {
   "cell_type": "code",
   "execution_count": null,
   "metadata": {},
   "outputs": [],
   "source": [
    "fig = plt.figure(figsize=(10,6))\n",
    "diagram = { dimension: zDiagramsScaled_noise[dimension][windowNumber] for dimension in homologyDimensions }\n",
    "\n",
    "for dimension in homologyDimensions:\n",
    "    plt.plot(diagram[dimension][:,0], diagram[dimension][:,1], 'o')\n",
    "\n",
    "plt.plot([0, 2], [0, 2], color='k')\n",
    "plt.show()"
   ]
  },
  {
   "cell_type": "code",
   "execution_count": null,
   "metadata": {},
   "outputs": [],
   "source": [
    "diagramFilter = diag.DiagramFilter(delta=0.05, homology_dimensions={1, 2})\n",
    "diagramFilter.fit(zDiagramsScaled_noise)\n",
    "zDiagramsFiltered_noise = diagramFilter.transform(zDiagramsScaled_noise)"
   ]
  },
  {
   "cell_type": "code",
   "execution_count": null,
   "metadata": {},
   "outputs": [],
   "source": [
    "fig = plt.figure(figsize=(10,6))\n",
    "diagram = { dimension: zDiagramsFiltered_noise[0][dimension][windowNumber] for dimension in homologyDimensions }\n",
    "\n",
    "for dimension in homologyDimensions:\n",
    "    plt.plot(diagram[dimension][:,0], diagram[dimension][:,1], 'o')\n",
    "\n",
    "plt.plot([0, 2], [0, 2], color='k')\n",
    "plt.show()"
   ]
  },
  {
   "cell_type": "code",
   "execution_count": null,
   "metadata": {},
   "outputs": [],
   "source": [
    "steps = [\n",
    "    ('sampling', prep.Resampler(sampling_type='periodic', sampling_period=samplingPeriod, remove_weekends=False)),\n",
    "    ('embedding', prep.TakensEmbedder(outer_window_duration=outerWindowDuration, outer_window_stride=outerWindowStride, \n",
    "                              embedding_parameters_type='search', embedding_dimension=10, embedding_time_delay=10, \n",
    "                              n_jobs=-1)),\n",
    "    ('diagrams', hl.VietorisRipsPersistence(data_type='points', max_edge_length=100, \n",
    "                                        homology_dimensions=homologyDimensions, n_jobs=-1)),\n",
    "    ('diagrams_scaler', diag.DiagramScaler()),\n",
    "    ('diagrams_filter', diag.DiagramFilter(delta=0.05))\n",
    "]\n",
    "\n",
    "pipeline_filter = Pipeline(steps)"
   ]
  },
  {
   "cell_type": "code",
   "execution_count": null,
   "metadata": {},
   "outputs": [],
   "source": [
    "pipeline_filter.fit(zDataFrame_noise)\n",
    "zDiagramsFilteredPipeline_noise = pipeline_filter.transform(zDataFrame_noise)"
   ]
  },
  {
   "cell_type": "code",
   "execution_count": null,
   "metadata": {},
   "outputs": [],
   "source": [
    "fig = plt.figure(figsize=(10,6))\n",
    "diagram = { dimension: zDiagramsFilteredPipeline_noise[dimension][windowNumber] for dimension in homologyDimensions }\n",
    "\n",
    "for dimension in homologyDimensions:\n",
    "    plt.plot(diagram[dimension][:,0], diagram[dimension][:,1], 'o')\n",
    "\n",
    "plt.plot([0, 2], [0, 2], color='k')\n",
    "plt.show()"
   ]
  }
 ],
 "metadata": {
  "kernelspec": {
   "display_name": "Python 3",
   "language": "python",
   "name": "python3"
  },
  "language_info": {
   "codemirror_mode": {
    "name": "ipython",
    "version": 3
   },
   "file_extension": ".py",
   "mimetype": "text/x-python",
   "name": "python",
   "nbconvert_exporter": "python",
   "pygments_lexer": "ipython3",
   "version": "3.6.8"
  }
 },
 "nbformat": 4,
 "nbformat_minor": 2
}
