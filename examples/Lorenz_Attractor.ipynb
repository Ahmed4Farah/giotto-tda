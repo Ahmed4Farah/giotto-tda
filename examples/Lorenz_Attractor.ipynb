{
 "cells": [
  {
   "cell_type": "markdown",
   "metadata": {},
   "source": [
    "# Case study: Lorenz attractor\n",
    "\n",
    "This notebook contains a full TDA pipeline to analyse the transitions of the Lorenz system to a chaotic regime from the stable one and viceversa.\n",
    "\n",
    "The notebook starts by importing the *topological learning library*."
   ]
  },
  {
   "cell_type": "code",
   "execution_count": null,
   "metadata": {},
   "outputs": [],
   "source": [
    "# Import TL library\n",
    "import topological_learning as tl\n",
    "import topological_learning.datasets as ds\n",
    "import topological_learning.preprocessing as prep\n",
    "import topological_learning.diagram as diag\n",
    "import topological_learning.homology as hl\n",
    "import numpy as np\n",
    "import pandas as pd\n",
    "import datetime as dt\n",
    "import sklearn as sk\n",
    "from sklearn.pipeline import Pipeline\n",
    "\n",
    "import matplotlib.pyplot as plt\n",
    "from pandas.plotting import register_matplotlib_converters\n",
    "register_matplotlib_converters()\n",
    "%matplotlib inline\n",
    "\n",
    "import plotly.graph_objs as go\n",
    "from plotly.offline import init_notebook_mode, iplot\n",
    "init_notebook_mode(connected=True)"
   ]
  },
  {
   "cell_type": "code",
   "execution_count": null,
   "metadata": {},
   "outputs": [],
   "source": [
    "import topological_learning.manifold as ma\n",
    "\n",
    "test = tl.manifold.StatefulMDS()"
   ]
  },
  {
   "cell_type": "markdown",
   "metadata": {},
   "source": [
    "# Setting up the Lorenz attractor simulation\n",
    "\n",
    "In the next block we set up all the parameters of the Lorenz system and we define also the instants at which the regime (stable VS chaotic) changes."
   ]
  },
  {
   "cell_type": "code",
   "execution_count": null,
   "metadata": {},
   "outputs": [],
   "source": [
    "max_duration = 20000\n",
    "transition_list = [0.037500000000000006, 0.047, 0.0625, 0.077, 0.10350000000000001, 0.1275, 0.1585, 0.1615, \n",
    "                  0.1685, 0.2215, 0.23, 0.23700000000000002, 0.2515, 0.2715, 0.3, 0.30750000000000005, 0.3385, \n",
    "                  0.36350000000000005, 0.388, 0.40449999999999997, 0.41950000000000004, 0.4225, 0.4515, \n",
    "                  0.46950000000000003, 0.506, 0.5405, 0.542, 0.5825, 0.5825, 0.6144999999999999, 0.635, 0.66, \n",
    "                  0.677, 0.6845, 0.685, 0.729, 0.749, 0.769, 0.777, 0.8075, 0.8310000000000001, 0.833, 0.864, \n",
    "                  0.8674999999999999, 0.882, 0.903, 0.9395, 0.94, 0.974, 0.99]\n",
    "\n",
    "# Method to generate a solution of the Lorenz system\n",
    "lorenzAttractor = ds.LorenzDataset(initial_conditions=(1, -10, 10), sigma=10., beta=8./3., rho_min=5, rho_max=15,\n",
    "                     transition_list=transition_list, number_transitions=25, transition_duration=100,\n",
    "                     time_step=0.01, max_duration=max_duration, mean_noise=0., std_deviation_noise=0.0)\n",
    "lorenzAttractor.run()"
   ]
  },
  {
   "cell_type": "code",
   "execution_count": null,
   "metadata": {},
   "outputs": [],
   "source": [
    "# Plotting the trajectories of the Lorenz system\n",
    "trace = go.Scatter3d(x=lorenzAttractor.x_, y=lorenzAttractor.y_, z=lorenzAttractor.z_, mode='markers',\n",
    "                     marker=dict(size=4, color=list(range(max_duration)),\n",
    "                     colorscale='Viridis', opacity=0.8))\n",
    "\n",
    "data = [trace]\n",
    "layout = go.Layout(margin=dict(l=0, r=0, b=0, t=0))\n",
    "\n",
    "figure = go.Figure(data=data, layout=layout)\n",
    "iplot(figure)"
   ]
  },
  {
   "cell_type": "code",
   "execution_count": null,
   "metadata": {},
   "outputs": [],
   "source": [
    "# Set up the dataframe of the z-projection of the simulated solution\n",
    "zDataFrame = pd.DataFrame(lorenzAttractor.z_)\n",
    "index = pd.to_datetime(zDataFrame.index, utc=True, unit='h')\n",
    "zDataFrame.index = index\n",
    "\n",
    "# Plotting the Lorenz system\n",
    "fig = plt.figure(figsize=(16,6))\n",
    "plt.plot(zDataFrame)\n",
    "plt.title('Trajectory of the Lorenz solution, projected along the z-axis')\n",
    "plt.show()"
   ]
  },
  {
   "cell_type": "markdown",
   "metadata": {},
   "source": [
    "# Resampling the time series\n",
    "\n",
    "It is important to find the correct time scale at which key signals take place. Here we propose one possible resampling period: *10h*. Recall that the unit time is *1h*. The resampler method is used to perform the resampling."
   ]
  },
  {
   "cell_type": "code",
   "execution_count": null,
   "metadata": {},
   "outputs": [],
   "source": [
    "samplingPeriod = '10h'\n",
    "periodicSampler = prep.Resampler(sampling_type='periodic', sampling_period=samplingPeriod, remove_weekends=False)"
   ]
  },
  {
   "cell_type": "code",
   "execution_count": null,
   "metadata": {},
   "outputs": [],
   "source": [
    "periodicSampler.fit(zDataFrame)\n",
    "zDataFrameSampled = periodicSampler.transform(zDataFrame)\n",
    "\n",
    "fig = plt.figure(figsize=(16,6))\n",
    "plt.plot(zDataFrameSampled)\n",
    "plt.title('Trajectory of the Lorenz solution, projected along the z-axis and resampled every 10h')\n",
    "plt.show()"
   ]
  },
  {
   "cell_type": "markdown",
   "metadata": {},
   "source": [
    "# Takens Embedding\n",
    "\n",
    "In order to obtain meaningful topological features from a time series, we use a delayed-time embedding technique, invented by F. Takens in the late sixties.\n",
    "The idea is simple: given a time series X(t), one can extract a sequence of vectors of the form X_i := [(X(t_i)), X(t_i + 2 tau), ..., X(t_i + M tau)].\n",
    "The difference between t_i and t_i-1 is called *stride*; the numbers M and tau are optimized authomatically in this example (they can be set by the user if needed).\n",
    "    \n",
    "The *outer window* allows us to apply Takens embedding locally on a certain interval rather than over the whole time series. The result of this procedure is therefore a time series of point clouds with possibly interesting topologies.\n"
   ]
  },
  {
   "cell_type": "code",
   "execution_count": null,
   "metadata": {},
   "outputs": [],
   "source": [
    "outerWindowDuration = 100\n",
    "outerWindowStride = 20\n",
    "embedder = prep.TakensEmbedder(outer_window_duration=outerWindowDuration, outer_window_stride=outerWindowStride, \n",
    "                              embedding_parameters_type='search', embedding_dimension=10, embedding_time_delay=3, \n",
    "                              n_jobs=-1)"
   ]
  },
  {
   "cell_type": "code",
   "execution_count": null,
   "metadata": {},
   "outputs": [],
   "source": [
    "embedder.fit(zDataFrameSampled)\n",
    "zEmbedded = embedder.transform(zDataFrameSampled)\n",
    "print('Optimal embedding time delay based on mutual information: ', embedder.embedding_time_delay)\n",
    "print('Optimal embedding dimension based on false nearest neighbors: ', embedder.embedding_dimension)"
   ]
  },
  {
   "cell_type": "code",
   "execution_count": null,
   "metadata": {},
   "outputs": [],
   "source": [
    "windowNumber = 3"
   ]
  },
  {
   "cell_type": "code",
   "execution_count": null,
   "metadata": {},
   "outputs": [],
   "source": [
    "# Plotting Takens embedding of the first outer window\n",
    "window = zEmbedded[windowNumber]\n",
    "trace = go.Scatter3d(x=window[:, 0], y=window[:, 1], z=window[:, 2], mode='markers',\n",
    "                     marker=dict(size=4, color=list(range(window.shape[0])),\n",
    "                     colorscale='Viridis', opacity=0.8))\n",
    "\n",
    "data = [trace]\n",
    "layout = go.Layout(margin=dict(l=0, r=0, b=0, t=0))\n",
    "\n",
    "figure = go.Figure(data=data, layout=layout)\n",
    "iplot(figure)"
   ]
  },
  {
   "cell_type": "code",
   "execution_count": null,
   "metadata": {},
   "outputs": [],
   "source": [
    "# Plotting the time series associated to the above point cloud. \n",
    "# Notice the two periodicities corresponding to the loops in the embedding\n",
    "fig = plt.figure(figsize=(16,6))\n",
    "plt.plot(zDataFrameSampled[windowNumber*outerWindowStride:windowNumber*outerWindowStride + outerWindowDuration])\n",
    "plt.title('The Lorenz solution over one outer window ')\n",
    "plt.show()"
   ]
  },
  {
   "cell_type": "markdown",
   "metadata": {},
   "source": [
    "# Persistence diagram\n",
    "The topological information of the correlation metric is synthesised in the persistent diagram. The horizonral axis corresponds to the moment in which an homological generator is born, while the vertical axis corresponds to the moments in which an homological generator dies.\n",
    "The generators of the homology groups (at given rank) are colored differently."
   ]
  },
  {
   "cell_type": "code",
   "execution_count": null,
   "metadata": {},
   "outputs": [],
   "source": [
    "homologyDimensions = [0, 1 ,2]\n",
    "persistenceDiagram = hl.VietorisRipsPersistence(metric='euclidean', max_edge_length=100, \n",
    "                                            homology_dimensions=homologyDimensions, n_jobs=-1)\n",
    "persistenceDiagram.fit(zEmbedded)\n",
    "zDiagrams = persistenceDiagram.transform(zEmbedded)"
   ]
  },
  {
   "cell_type": "code",
   "execution_count": null,
   "metadata": {},
   "outputs": [],
   "source": [
    "fig = plt.figure(figsize=(10,6))\n",
    "diagram = { dimension: zDiagrams[dimension][windowNumber] for dimension in homologyDimensions }\n",
    "\n",
    "for dimension in homologyDimensions:\n",
    "    plt.plot(diagram[dimension][:,0], diagram[dimension][:,1], 'o',label='homology '+ str(dimension))\n",
    "plt.title('Persistent Diagram')\n",
    "plt.legend(loc='lower right')\n",
    "plt.plot([0, 22], [0, 22], color='k')\n",
    "plt.show()"
   ]
  },
  {
   "cell_type": "markdown",
   "metadata": {},
   "source": [
    "# Distances among diagrams\n",
    "\n",
    "In this section we show how to compute distances among persistent diagrams. There are many notions of distances: here we use the *bottleneck distance* as an example.\n",
    "\n",
    "We stress that the *i-th* row of this matrix is the distance of the *i-th* diagram from all the others."
   ]
  },
  {
   "cell_type": "code",
   "execution_count": null,
   "metadata": {},
   "outputs": [],
   "source": [
    "# Computing the bottleneck distance of the time series of persistent diagrams\n",
    "diagramDistance = diag.DiagramDistance(metric='bottleneck', metric_params={'order': np.inf}, n_jobs=-1)\n",
    "diagramDistance.fit(zDiagrams)\n",
    "zDistanceMatrix_BN = diagramDistance.transform(zDiagrams)"
   ]
  },
  {
   "cell_type": "code",
   "execution_count": null,
   "metadata": {},
   "outputs": [],
   "source": [
    "figure = plt.figure(figsize=(10,10))\n",
    "plt.imshow(zDistanceMatrix_BN)\n",
    "plt.colorbar()\n",
    "plt.title('Bottleneck distance matrix')\n",
    "plt.show()"
   ]
  },
  {
   "cell_type": "code",
   "execution_count": null,
   "metadata": {},
   "outputs": [],
   "source": [
    "# We change metric: we compute the landscape distance among the diagrams \n",
    "diagramDistance = diag.DiagramDistance(metric='landscape', metric_params={'order': 2, 'n_layers':1, 'n_samples':1000}, \n",
    "                                       n_jobs=-1)\n",
    "diagramDistance.fit(zDiagrams)\n",
    "zDistanceMatrix_L = diagramDistance.transform(zDiagrams)"
   ]
  },
  {
   "cell_type": "code",
   "execution_count": null,
   "metadata": {},
   "outputs": [],
   "source": [
    "# Plot of the landascape L2 distance between persistent diagrams \n",
    "figure = plt.figure(figsize=(10,10))\n",
    "plt.imshow(zDistanceMatrix_L)\n",
    "plt.colorbar()\n",
    "plt.title('Landscape L2 distance matrix')\n",
    "plt.show()"
   ]
  },
  {
   "cell_type": "markdown",
   "metadata": {},
   "source": [
    "# Adding gaussian noise\n",
    "\n",
    "It is claimed in the literature that TDA is robust with respect to noise. Let us then add noise to the system and redo the previous analysis and see what changes! "
   ]
  },
  {
   "cell_type": "code",
   "execution_count": null,
   "metadata": {},
   "outputs": [],
   "source": [
    "lorenzAttractor.stdDeviationNoise = 0.3\n",
    "lorenzAttractor.run()"
   ]
  },
  {
   "cell_type": "code",
   "execution_count": null,
   "metadata": {},
   "outputs": [],
   "source": [
    "zDataFrame_noise = pd.DataFrame(lorenzAttractor.z_)\n",
    "index = pd.to_datetime(zDataFrame_noise.index, utc=True, unit='h')\n",
    "zDataFrame_noise.index = index\n",
    "\n",
    "fig = plt.figure(figsize=(16,6))\n",
    "plt.plot(zDataFrame_noise)\n",
    "plt.show()"
   ]
  },
  {
   "cell_type": "markdown",
   "metadata": {},
   "source": [
    "# Scikit-learn *Pipeline*\n",
    "One of the advantages of our topological learning library is the compatibility with scikit-learn. It is possible to set up a full pipeline such as the one above in a few lines. We will show how in the next section.\n",
    "\n"
   ]
  },
  {
   "cell_type": "code",
   "execution_count": null,
   "metadata": {},
   "outputs": [],
   "source": [
    "# Steps of the Pipeline\n",
    "steps = [\n",
    "    ('sampling', prep.Resampler(sampling_type='periodic', sampling_period=samplingPeriod, remove_weekends=False)),\n",
    "    ('embedding', prep.TakensEmbedder(outer_window_duration=outerWindowDuration, outer_window_stride=outerWindowStride, \n",
    "                              embedding_parameters_type='search', embedding_dimension=10, embedding_time_delay=3, \n",
    "                              n_jobs=-1)),\n",
    "    ('diagrams', hl.VietorisRipsPersistence(metric='euclidean', max_edge_length=100, \n",
    "                                        homology_dimensions=homologyDimensions, n_jobs=-1))\n",
    "]\n",
    "\n",
    "# Sklearn Pipeline\n",
    "pipeline = Pipeline(steps)"
   ]
  },
  {
   "cell_type": "code",
   "execution_count": null,
   "metadata": {},
   "outputs": [],
   "source": [
    "# Running the pipeline\n",
    "pipeline.fit(zDataFrame_noise)\n",
    "zDiagrams_noise = pipeline.transform(zDataFrame_noise)"
   ]
  },
  {
   "cell_type": "code",
   "execution_count": null,
   "metadata": {},
   "outputs": [],
   "source": [
    "# Plotting the final persistent diagram of one outer window\n",
    "fig = plt.figure(figsize=(10,6))\n",
    "diagram = { dimension: zDiagrams_noise[dimension][windowNumber] for dimension in homologyDimensions }\n",
    "\n",
    "for dimension in homologyDimensions:\n",
    "    plt.plot(diagram[dimension][:,0], diagram[dimension][:,1], 'o',label='homology '+ str(dimension))\n",
    "plt.title('Persistent Diagram')\n",
    "plt.legend(loc='lower right')\n",
    "plt.plot([0, 25], [0, 25], color='k')\n",
    "plt.show()"
   ]
  },
  {
   "cell_type": "markdown",
   "metadata": {},
   "source": [
    "# Rescaling the diagram\n",
    "Rescaling the diagram means normalizing the points such that their distance from the *empty diagram* is equal to one.\n",
    "Once the diagram is rescaled, we can filter noise by removing all the points that are close to the diagonal."
   ]
  },
  {
   "cell_type": "code",
   "execution_count": null,
   "metadata": {},
   "outputs": [],
   "source": [
    "diagramScaler = diag.DiagramScaler()\n",
    "diagramScaler.fit(zDiagrams_noise)\n",
    "zDiagramsScaled_noise = diagramScaler.transform(zDiagrams_noise)"
   ]
  },
  {
   "cell_type": "code",
   "execution_count": null,
   "metadata": {},
   "outputs": [],
   "source": [
    "fig = plt.figure(figsize=(10,6))\n",
    "diagram = { dimension: zDiagramsScaled_noise[dimension][windowNumber] for dimension in homologyDimensions }\n",
    "\n",
    "for dimension in homologyDimensions:\n",
    "    plt.plot(diagram[dimension][:,0], diagram[dimension][:,1], 'o',label='homology '+ str(dimension))\n",
    "plt.title('Rescaled Persistent Diagram')\n",
    "plt.legend(loc='lower right')\n",
    "plt.plot([0, 2], [0, 2], color='k')\n",
    "plt.show()"
   ]
  },
  {
   "cell_type": "markdown",
   "metadata": {},
   "source": [
    "# Filtering diagrams\n",
    "\n",
    "Filtering noise from a diagram corresponds to eliminating all the homology generators whose lifespan is too short to be significant. It means equivalently that we are removing the points closer to the diagonal than a centrain threshold."
   ]
  },
  {
   "cell_type": "code",
   "execution_count": null,
   "metadata": {},
   "outputs": [],
   "source": [
    "# Perparing the filtering transformer\n",
    "diagramFilter = diag.DiagramFilter(delta=0.05, homology_dimensions={1, 2})\n",
    "diagramFilter.fit(zDiagramsScaled_noise)\n",
    "zDiagramsFiltered_noise = diagramFilter.transform(zDiagramsScaled_noise)"
   ]
  },
  {
   "cell_type": "code",
   "execution_count": null,
   "metadata": {},
   "outputs": [],
   "source": [
    "# Plot of the filtered diagram\n",
    "fig = plt.figure(figsize=(10,6))\n",
    "diagram = { dimension: zDiagramsFiltered_noise[dimension][windowNumber] for dimension in homologyDimensions }\n",
    "\n",
    "for dimension in homologyDimensions:\n",
    "    plt.plot(diagram[dimension][:,0], diagram[dimension][:,1], 'o',label='homology '+ str(dimension))\n",
    "plt.title('Filtered Persistent Diagram')\n",
    "plt.legend(loc='lower right')\n",
    "plt.plot([0, 2], [0, 2], color='k')\n",
    "plt.show()"
   ]
  },
  {
   "cell_type": "code",
   "execution_count": null,
   "metadata": {},
   "outputs": [],
   "source": [
    "# Wrapping up all the steps inside a scikit-learn pipeline\n",
    "steps = [\n",
    "    ('sampling', prep.Resampler(sampling_type='periodic', sampling_period=samplingPeriod, remove_weekends=False)),\n",
    "    ('embedding', prep.TakensEmbedder(outer_window_duration=outerWindowDuration, outer_window_stride=outerWindowStride, \n",
    "                              embedding_parameters_type='search', embedding_dimension=10, embedding_time_delay=10, \n",
    "                              n_jobs=-1)),\n",
    "    ('diagrams', hl.VietorisRipsPersistence(metric='euclidean', max_edge_length=100, \n",
    "                                        homology_dimensions=homologyDimensions, n_jobs=-1)),\n",
    "    ('diagrams_scaler', diag.DiagramScaler()),\n",
    "    ('diagrams_filter', diag.DiagramFilter(delta=0.05))\n",
    "]\n",
    "\n",
    "pipeline_filter = Pipeline(steps)"
   ]
  },
  {
   "cell_type": "code",
   "execution_count": null,
   "metadata": {},
   "outputs": [],
   "source": [
    "pipeline_filter.fit(zDataFrame_noise)\n",
    "zDiagramsFilteredPipeline_noise = pipeline_filter.transform(zDataFrame_noise)"
   ]
  },
  {
   "cell_type": "code",
   "execution_count": null,
   "metadata": {},
   "outputs": [],
   "source": [
    "# Plot the filtered diagram\n",
    "fig = plt.figure(figsize=(10,6))\n",
    "diagram = { dimension: zDiagramsFilteredPipeline_noise[dimension][windowNumber] for dimension in homologyDimensions }\n",
    "\n",
    "for dimension in homologyDimensions:\n",
    "    plt.plot(diagram[dimension][:,0], diagram[dimension][:,1], 'o',label='homology '+ str(dimension))\n",
    "plt.title('Filtered Persistent Diagram')\n",
    "plt.legend(loc='lower right')\n",
    "plt.plot([0, 2], [0, 2], color='k')\n",
    "plt.show()"
   ]
  },
  {
   "cell_type": "markdown",
   "metadata": {},
   "source": [
    "# New distance in the embedding space: permutations and graphs\n",
    "\n",
    "We propose here a new way to compute distances between points in the embedding space. Instead of considering the Euclidean distance in the Takens space, we propose to build a kNN-graph and then use the geodesic distance on such graph."
   ]
  },
  {
   "cell_type": "code",
   "execution_count": null,
   "metadata": {},
   "outputs": [],
   "source": [
    "nnEmbedder = prep.NearestNeighborGraphEmbedder(n_neighbors=3, n_jobs=1)\n",
    "nnEmbedder.fit(zEmbedded)\n",
    "zNNGraph = nnEmbedder.transform(zEmbedded[0].reshape((1, zEmbedded.shape[1], -1)))"
   ]
  },
  {
   "cell_type": "markdown",
   "metadata": {},
   "source": [
    "# Geodesic distance on graphs\n",
    "Given the graph embedding, the natural notion of distance between vertices corresponds to the lengths of the shortest path connecting two vertices. This is also known as *graph geodesic distance*. "
   ]
  },
  {
   "cell_type": "code",
   "execution_count": null,
   "metadata": {},
   "outputs": [],
   "source": [
    "geodesicDistance = prep.GeodesicDistance(n_jobs=1)\n",
    "geodesicDistance.fit(zNNGraph)\n",
    "zGeoNN = geodesicDistance.transform(zNNGraph)"
   ]
  },
  {
   "cell_type": "code",
   "execution_count": null,
   "metadata": {},
   "outputs": [],
   "source": [
    "# Plotting the geodesic distance\n",
    "figure = plt.figure(figsize=(10,10))\n",
    "plt.imshow(zGeoNN[0])\n",
    "plt.colorbar()\n",
    "plt.title('Plot of the geodesic distance of the first outer window kNN graph')\n",
    "plt.show()"
   ]
  },
  {
   "cell_type": "markdown",
   "metadata": {},
   "source": [
    "# New embedding: permutations and graphs\n",
    "\n",
    "We propose here a new way to transform the time series outer windows into graphs rather than point clouds. The idea is to create a graph whose vertices are permutation patterns and the edges exists between two vertices if the corresponding patterns happened one after the other."
   ]
  },
  {
   "cell_type": "code",
   "execution_count": null,
   "metadata": {},
   "outputs": [],
   "source": [
    "permutationEmbedder = prep.PermutationEmbedder(n_jobs=-1)\n",
    "permutationEmbedder.fit(zEmbedded)\n",
    "zPermEmbedded = permutationEmbedder.transform(zEmbedded)"
   ]
  },
  {
   "cell_type": "code",
   "execution_count": null,
   "metadata": {},
   "outputs": [],
   "source": [
    "# Permutation embedding of the first outer window\n",
    "window = zPermEmbedded[windowNumber]\n",
    "trace = go.Scatter3d(x=window[:, 0], y=window[:, 1], z=window[:, 2], mode='markers',\n",
    "                     marker=dict(size=4, color=list(range(window.shape[0])),\n",
    "                     colorscale='Viridis', opacity=0.8))\n",
    "\n",
    "data = [trace]\n",
    "layout = go.Layout(margin=dict(l=0, r=0, b=0, t=0))\n",
    "\n",
    "figure = go.Figure(data=data, layout=layout)\n",
    "iplot(figure)"
   ]
  },
  {
   "cell_type": "markdown",
   "metadata": {},
   "source": [
    "# Synthetic features extracted from topology\n",
    "\n",
    "One can use persistent diagrams as he pleases. Here we show one way of extracting summary information from the time-series of diagrams: the *permutation entropy*. The entropy is computed by estimating a probability based on teh counting how many permutation patterns appear along the time series within the outer window."
   ]
  },
  {
   "cell_type": "code",
   "execution_count": null,
   "metadata": {},
   "outputs": [],
   "source": [
    "# Computing permutation entropy\n",
    "permutationEntropy = prep.PermutationEntropy(n_jobs=1)\n",
    "permutationEntropy.fit(zPermEmbedded)\n",
    "zPermEntropy = permutationEntropy.transform(zPermEmbedded)"
   ]
  },
  {
   "cell_type": "code",
   "execution_count": null,
   "metadata": {},
   "outputs": [],
   "source": [
    "# Plot the sampled Lorenz solution, projected along the z-axis\n",
    "fig = plt.figure(figsize=(16,6))\n",
    "plt.plot(zDataFrameSampled)\n",
    "plt.title('Resampled solution of the Lorenz attractor projected along the z-axis')\n",
    "plt.show()"
   ]
  },
  {
   "cell_type": "code",
   "execution_count": null,
   "metadata": {},
   "outputs": [],
   "source": [
    "# Plot of the permutation entropy time-series\n",
    "fig = plt.figure(figsize=(16,6))\n",
    "plt.plot(zPermEntropy)\n",
    "plt.title('Permutation entropy')\n",
    "plt.show()"
   ]
  },
  {
   "cell_type": "markdown",
   "metadata": {},
   "source": [
    "# Computing graph distances between the time series of graphs\n",
    "The procedure we have developed associateds to each outer window a graph. This graph is a subgraph of the full permutation graph. The distance among subgraphs is then defined via the geodesic distance."
   ]
  },
  {
   "cell_type": "code",
   "execution_count": null,
   "metadata": {},
   "outputs": [],
   "source": [
    "graphEmbedder = prep.UniqueGraphEmbedder(n_jobs=1)\n",
    "graphEmbedder.fit(zPermEmbedded)\n",
    "zPermGraph = graphEmbedder.transform(zPermEmbedded)"
   ]
  },
  {
   "cell_type": "code",
   "execution_count": null,
   "metadata": {},
   "outputs": [],
   "source": [
    "# Computing geodesic distance between subgraph inside the universal graph\n",
    "geodesicDistance = prep.GeodesicDistance(n_jobs=1)\n",
    "geodesicDistance.fit(zPermGraph)\n",
    "zGeoPerm = geodesicDistance.transform(zPermGraph)"
   ]
  },
  {
   "cell_type": "code",
   "execution_count": null,
   "metadata": {},
   "outputs": [],
   "source": [
    "# Plot of the geodesci distance between the time series of subgraphs\n",
    "figure = plt.figure(figsize=(10,10))\n",
    "plt.imshow(zGeoPerm[windowNumber])\n",
    "plt.colorbar()\n",
    "plt.title('Geodesic graph distance between subgraphs.')\n",
    "plt.show()"
   ]
  },
  {
   "cell_type": "code",
   "execution_count": null,
   "metadata": {},
   "outputs": [],
   "source": []
  }
 ],
 "metadata": {
  "kernelspec": {
   "display_name": "Python 3",
   "language": "python",
   "name": "python3"
  },
  "language_info": {
   "codemirror_mode": {
    "name": "ipython",
    "version": 3
   },
   "file_extension": ".py",
   "mimetype": "text/x-python",
   "name": "python",
   "nbconvert_exporter": "python",
   "pygments_lexer": "ipython3",
   "version": "3.6.8"
  }
 },
 "nbformat": 4,
 "nbformat_minor": 2
}
