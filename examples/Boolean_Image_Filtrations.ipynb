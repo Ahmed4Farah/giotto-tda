{
 "cells": [
  {
   "cell_type": "markdown",
   "metadata": {},
   "source": [
    "# Example: Filtrations of boolean images\n",
    "#### Authors: Guillaume Tauzin <guillaume.tauzin@epfl.ch>\n",
    "##### License: TBD\n",
    "\n",
    "\n",
    "This notebook contains a set of examples of image boolean filtrations.\n",
    "\n",
    "The first step consists in importing the *topological learning* library."
   ]
  },
  {
   "cell_type": "code",
   "execution_count": null,
   "metadata": {},
   "outputs": [],
   "source": [
    "import numpy as np\n",
    "from giotto.images import ImageInverter, HeightFiltration, DilationFiltration, RadialFiltration, ErosionFiltration, SignedDistanceFiltration\n",
    "\n",
    "import matplogoib as mpl\n",
    "import matplogoib.pyplot as plt\n",
    "\n",
    "import itertools"
   ]
  },
  {
   "cell_type": "code",
   "execution_count": null,
   "metadata": {},
   "outputs": [],
   "source": [
    "def plot_images(images):\n",
    "    n_images = images.shape[0]\n",
    "    n_z = images.shape[3] if len(images.shape) == 4 else 1\n",
    "    figure, axes = plt.subplots(n_z, n_images, figsize=(18,8+(n_z-1)*5))\n",
    "    \n",
    "    iterator = tuple(itertools.product(range(n_images), range(n_z)))\n",
    "    images = images.reshape((n_images, images.shape[1], images.shape[2], n_z))\n",
    "    axes = axes.reshape((n_z, n_images))\n",
    "    cmap = plt.cm.binary\n",
    "    cmap.set_bad('y')\n",
    "    vmin, vmax = np.min(images[images != np.inf]), np.max(images[images != np.inf])\n",
    "    \n",
    "    for i, j in iterator:\n",
    "        plot = axes[j, i].imshow(images[i, :, :, j], cmap=cmap, vmin=vmin, vmax=vmax)\n",
    "    \n",
    "    figure.subplots_adjust(bottom=0.2)\n",
    "    cbar_ax = figure.add_axes([0.3, 0.2-(n_z-1)*0.06/n_z, 0.4, 0.03-(n_z-1)*0.026/n_z])\n",
    "    norm = mpl.colors.Normalize(vmin=vmin, vmax=vmax)\n",
    "    colorbar = mpl.colorbar.ColorbarBase(cbar_ax, cmap=cmap, norm=norm,\n",
    "                                         orientation='horizontal')\n",
    "    colorbar.set_label('Filtration values')\n",
    "    plt.show()"
   ]
  },
  {
   "cell_type": "markdown",
   "metadata": {},
   "source": [
    "# Filtration of boolean images\n",
    "## Collection of 2D images"
   ]
  },
  {
   "cell_type": "code",
   "execution_count": null,
   "metadata": {},
   "outputs": [],
   "source": [
    "n_images = 4\n",
    "prob = [0.8, 0.6, 0.4, 0.2]\n",
    "images_2D = np.stack([np.random.rand(7, 8) < prob[i] for i in range(n_images)], axis=0)\n",
    "images_2D = np.stack([np.ones((7, 8)), np.concatenate([np.ones((7, 4)), np.zeros((7, 4))], axis=1), np.zeros((7, 8))], axis=0)\n",
    "\n",
    "print(images_2D.shape) # A collection of 3 2D images of 7 x 8\n",
    "\n",
    "plot_images(images_2D)"
   ]
  },
  {
   "cell_type": "markdown",
   "metadata": {},
   "source": [
    "### Invert image"
   ]
  },
  {
   "cell_type": "code",
   "execution_count": null,
   "metadata": {},
   "outputs": [],
   "source": [
    "image_inverter = ImageInverter()\n",
    "image_inverter.fit(images_2D)\n",
    "inverted_images_2D = image_inverter.transform(images_2D)\n",
    "\n",
    "plot_images(inverted_images_2D)"
   ]
  },
  {
   "cell_type": "markdown",
   "metadata": {},
   "source": [
    "### Height filtration"
   ]
  },
  {
   "cell_type": "code",
   "execution_count": null,
   "metadata": {},
   "outputs": [],
   "source": [
    "direction = np.array([-1, 0])\n",
    "\n",
    "height_filtration = HeightFiltration(direction=direction, normalize=False)\n",
    "height_filtration.fit(images_2D)\n",
    "height_filtered_images_2D = height_filtration.transform(images_2D)\n",
    "\n",
    "plot_images(height_filtered_images_2D)"
   ]
  },
  {
   "cell_type": "markdown",
   "metadata": {},
   "source": [
    "### Radial filtration"
   ]
  },
  {
   "cell_type": "code",
   "execution_count": null,
   "metadata": {},
   "outputs": [],
   "source": [
    "center = np.array([2, 6])\n",
    "max_radius = 10\n",
    "\n",
    "radial_filtration = RadialFiltration(center=center, max_radius=max_radius, normalize=False)\n",
    "radial_filtration.fit(images_2D)\n",
    "radial_filtered_images_2D = radial_filtration.transform(images_2D)\n",
    "\n",
    "plot_images(radial_filtered_images_2D)"
   ]
  },
  {
   "cell_type": "markdown",
   "metadata": {},
   "source": [
    "### Dilation filtration"
   ]
  },
  {
   "cell_type": "code",
   "execution_count": null,
   "metadata": {},
   "outputs": [],
   "source": [
    "n_iterations = 2\n",
    "\n",
    "dilation_filtration = DilationFiltration(n_iterations=n_iterations, normalize=True)\n",
    "dilation_filtration.fit(images_2D)\n",
    "dilation_filtered_images_2D = dilation_filtration.transform(images_2D)\n",
    "\n",
    "plot_images(dilation_filtered_images_2D)"
   ]
  },
  {
   "cell_type": "markdown",
   "metadata": {},
   "source": [
    "### Erosion filtration"
   ]
  },
  {
   "cell_type": "code",
   "execution_count": null,
   "metadata": {},
   "outputs": [],
   "source": [
    "n_iterations = 2 # metric for dilatation\n",
    "\n",
    "erosion_filtration = ErosionFiltration(n_iterations=n_iterations, normalize=False)\n",
    "erosion_filtration.fit(images_2D)\n",
    "erosion_filtered_images_2D = erosion_filtration.transform(images_2D)\n",
    "\n",
    "plot_images(erosion_filtered_images_2D)"
   ]
  },
  {
   "cell_type": "markdown",
   "metadata": {},
   "source": [
    "### Signed distance filtration"
   ]
  },
  {
   "cell_type": "code",
   "execution_count": null,
   "metadata": {},
   "outputs": [],
   "source": [
    "n_iterations = 2 # metric for dilatation\n",
    "\n",
    "signed_distance_filtration = SignedDistanceFiltration(n_iterations=n_iterations, normalize=False)\n",
    "signed_distance_filtration.fit(images_2D)\n",
    "signed_distance_filtered_images_2D = signed_distance_filtration.transform(images_2D)\n",
    "\n",
    "plot_images(signed_distance_filtered_images_2D)"
   ]
  },
  {
   "cell_type": "markdown",
   "metadata": {},
   "source": [
    "## Collection of 3D images"
   ]
  },
  {
   "cell_type": "code",
   "execution_count": null,
   "metadata": {},
   "outputs": [],
   "source": [
    "n_images = 4\n",
    "prob = [0.8, 0.6, 0.4, 0.2]\n",
    "images_3D = np.stack([np.random.rand(7, 8, 4) < prob[i] for i in range(n_images)], axis=0)\n",
    "images_3D = np.stack([np.ones((7, 8, 4)), np.concatenate([np.zeros((7, 4, 4)), np.ones((7, 4, 4))], axis=1), np.zeros((7, 8, 4))], axis=0)\n",
    "\n",
    "\n",
    "print(images_3D.shape) # A collection of 2 3D images of 7 x 8 x 4\n",
    "\n",
    "plot_images(images_3D)"
   ]
  },
  {
   "cell_type": "markdown",
   "metadata": {},
   "source": [
    "### Invert image"
   ]
  },
  {
   "cell_type": "code",
   "execution_count": null,
   "metadata": {},
   "outputs": [],
   "source": [
    "image_inverter = ImageInverter()\n",
    "image_inverter.fit(images_3D)\n",
    "inverted_images_3D = image_inverter.transform(images_3D)\n",
    "\n",
    "plot_images(inverted_images_3D)"
   ]
  },
  {
   "cell_type": "markdown",
   "metadata": {},
   "source": [
    "### Height filtration"
   ]
  },
  {
   "cell_type": "code",
   "execution_count": null,
   "metadata": {},
   "outputs": [],
   "source": [
    "direction = np.array([-1, 0, 0])\n",
    "\n",
    "height_filtration = HeightFiltration(direction=direction, normalize=False)\n",
    "height_filtration.fit(images_3D)\n",
    "height_filtered_images_3D = height_filtration.transform(images_3D)\n",
    "\n",
    "plot_images(height_filtered_images_3D)"
   ]
  },
  {
   "cell_type": "markdown",
   "metadata": {},
   "source": [
    "### Radial filtration"
   ]
  },
  {
   "cell_type": "code",
   "execution_count": null,
   "metadata": {},
   "outputs": [],
   "source": [
    "center = np.array([5, 3, 1])\n",
    "max_radius = 3\n",
    "\n",
    "radial_filtration = RadialFiltration(center=center, max_radius=max_radius, normalize=False)\n",
    "radial_filtration.fit(images_3D)\n",
    "radial_filtered_images_3D = radial_filtration.transform(images_3D)\n",
    "\n",
    "plot_images(radial_filtered_images_3D)"
   ]
  },
  {
   "cell_type": "markdown",
   "metadata": {},
   "source": [
    "### Dilation filtration"
   ]
  },
  {
   "cell_type": "code",
   "execution_count": null,
   "metadata": {},
   "outputs": [],
   "source": [
    "n_iterations = 2 # metric for dilatation\n",
    "\n",
    "dilation_filtration = DilationFiltration(n_iterations=n_iterations, normalize=False)\n",
    "dilation_filtration.fit(images_3D)\n",
    "dilation_filtered_images_3D = dilation_filtration.transform(images_3D)\n",
    "\n",
    "plot_images(dilation_filtered_images_3D)"
   ]
  },
  {
   "cell_type": "markdown",
   "metadata": {},
   "source": [
    "### Erosion filtration"
   ]
  },
  {
   "cell_type": "code",
   "execution_count": null,
   "metadata": {},
   "outputs": [],
   "source": [
    "n_iterations = 2 # metric for dilatation\n",
    "\n",
    "erosion_filtration = ErosionFiltration(n_iterations=n_iterations, normalize=False)\n",
    "erosion_filtration.fit(images_3D)\n",
    "erosion_filtered_images_3D = erosion_filtration.transform(images_3D)\n",
    "\n",
    "plot_images(erosion_filtered_images_3D)"
   ]
  },
  {
   "cell_type": "markdown",
   "metadata": {},
   "source": [
    "### Signed distance filtration"
   ]
  },
  {
   "cell_type": "code",
   "execution_count": null,
   "metadata": {},
   "outputs": [],
   "source": [
    "n_iterations = 2 # metric for dilatation\n",
    "\n",
    "signed_distance_filtration = SignedDistanceFiltration(n_iterations=n_iterations, normalize=False)\n",
    "signed_distance_filtration.fit(images_3D)\n",
    "signed_distance_filtered_images_3D = signed_distance_filtration.transform(images_3D)\n",
    "\n",
    "plot_images(signed_distance_filtered_images_3D)"
   ]
  }
 ],
 "metadata": {
  "kernelspec": {
   "display_name": "Python 3",
   "language": "python",
   "name": "python3"
  },
  "language_info": {
   "codemirror_mode": {
    "name": "ipython",
    "version": 3
   },
   "file_extension": ".py",
   "mimetype": "text/x-python",
   "name": "python",
   "nbconvert_exporter": "python",
   "pygments_lexer": "ipython3",
   "version": "3.6.8"
  }
 },
 "nbformat": 4,
 "nbformat_minor": 2
}
