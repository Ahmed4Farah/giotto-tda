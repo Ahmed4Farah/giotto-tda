{
 "cells": [
  {
   "cell_type": "markdown",
   "metadata": {},
   "source": [
    "# Study case: MNIST hand-written digits dataset\n",
    "\n",
    "#### Authors: Guillaume Tauzin <guillaume.tauzin@epfl.ch>\n",
    "##### License: TBD\n",
    "\n",
    "\n",
    "This notebook shows how to use topological data analysis to generate features for classifying digits.\n",
    "\n",
    "The first step consists in importing the *giotto* library."
   ]
  },
  {
   "cell_type": "code",
   "execution_count": null,
   "metadata": {
    "_cell_guid": "b1076dfc-b9ad-4769-8c92-a6c4dae69d19",
    "_uuid": "8f2839f25d086af736a60e9eeb907d3b93b6e0e5"
   },
   "outputs": [],
   "source": [
    "from giotto.images import ImageInverter, HeightFiltration, DilationFiltration, RadialFiltration, ErosionFiltration, SignedDistanceFiltration\n",
    "from giotto.homology import CubicalPersistence\n",
    "from giotto.diagram import DiagramDistance\n",
    "from sklearn.pipeline import Pipeline, FeatureUnion\n",
    "\n",
    "import numpy as np\n",
    "import pandas as pd\n",
    "import matplotlib.pyplot as plt\n",
    "%matplotlib inline"
   ]
  },
  {
   "cell_type": "markdown",
   "metadata": {},
   "source": [
    "## Plotting functions"
   ]
  },
  {
   "cell_type": "code",
   "execution_count": null,
   "metadata": {},
   "outputs": [],
   "source": [
    "def plot_images(X):\n",
    "    fig, axes = plt.subplots(4, 5, figsize=(15,10))\n",
    "    axes = axes.flatten()\n",
    "    cmap = plt.cm.binary\n",
    "    cmap.set_bad('y')\n",
    "    vmin, vmax = np.min(X[X != np.inf]), np.max(X[X != np.inf])\n",
    "    \n",
    "    for i in range(20):\n",
    "        axes[i].imshow(X[i], cmap='binary', vmin=vmin, vmax=vmax)\n",
    "        axes[i].axis('off') # hide the axes ticks\n",
    "        axes[i].set_title('Correct label is '+str(int(y_train[i])), color= 'black', fontsize=12)\n",
    "    plt.show()"
   ]
  },
  {
   "cell_type": "code",
   "execution_count": null,
   "metadata": {},
   "outputs": [],
   "source": [
    "def plot_diagrams(X):\n",
    "    fig, axes = plt.subplots(4, 5, figsize=(15,10))\n",
    "    axes = axes.flatten()\n",
    "    colors = {0: 'b', 1: 'r', 2: 'g'}\n",
    "    \n",
    "    for i in range(20):\n",
    "        diagram = { dimension: X[dimension][i] for dimension in X.keys() }\n",
    "        for dimension in X.keys():\n",
    "            axes[i].plot(diagram[dimension][:,0], diagram[dimension][:,1], 'o', color=colors[dimension])\n",
    "        \n",
    "        axes[i].plot([0, 5], [0, 5])\n",
    "        axes[i].set_title('Diagram for label '+str(int(y_train[i])), color= 'black', fontsize=12)\n",
    "    plt.show()"
   ]
  },
  {
   "cell_type": "code",
   "execution_count": null,
   "metadata": {},
   "outputs": [],
   "source": [
    "def plot_matrix(X):\n",
    "    figure = plt.figure(figsize=(10,10))\n",
    "    plt.imshow(X)\n",
    "    plt.colorbar()\n",
    "    plt.show()"
   ]
  },
  {
   "cell_type": "code",
   "execution_count": null,
   "metadata": {},
   "outputs": [],
   "source": [
    "def plot_matrices(X):\n",
    "    n_matrices = X.shape[0]\n",
    "    n_z = X.shape[3] if len(matrices.shape) == 4 else 1\n",
    "    figure, axes = plt.subplots(n_z, n_matrices, figsize=(18,8+(n_z-1)*5))\n",
    "    \n",
    "    iterator = tuple(itertools.product(range(n_matrices), range(n_z)))\n",
    "    matrices = X.reshape((n_matrices, matrices.shape[1], matrices.shape[2], n_z))\n",
    "    axes = axes.reshape((n_z, n_matrices))\n",
    "    cmap = plt.cm.binary\n",
    "    cmap.set_bad('y')\n",
    "    vmin, vmax = np.min(X[X != np.inf]), np.max(X[X != np.inf])\n",
    "    \n",
    "    for i, j in iterator:\n",
    "        plot = axes[j, i].imshow(X[i, :, :, j], cmap=cmap, vmin=vmin, vmax=vmax)\n",
    "    \n",
    "    figure.subplots_adjust(bottom=0.2)\n",
    "    cbar_ax = figure.add_axes([0.3, 0.2-(n_z-1)*0.06/n_z, 0.4, 0.03-(n_z-1)*0.026/n_z])\n",
    "    norm = mpl.colors.Normalize(vmin=vmin, vmax=vmax)\n",
    "    colorbar = mpl.colorbar.ColorbarBase(cbar_ax, cmap=cmap, norm=norm,\n",
    "                                         orientation='horizontal')\n",
    "    colorbar.set_label('Filtration values')\n",
    "    plt.show()"
   ]
  },
  {
   "cell_type": "markdown",
   "metadata": {},
   "source": [
    "## Loading the MNIST dataset"
   ]
  },
  {
   "cell_type": "code",
   "execution_count": null,
   "metadata": {
    "_cell_guid": "79c7e3d0-c299-4dcb-8224-4455121ee9b0",
    "_uuid": "d629ff2d2480ee46fbb7e2d37f6b5fab8052498a"
   },
   "outputs": [],
   "source": [
    "# Read the data\n",
    "train_data = pd.read_csv('../data/mnist_train.csv')\n",
    "test_data = pd.read_csv(\"../data/mnist_test.csv\")\n",
    "\n",
    "n_samples_train, n_samples_test = train_data.shape[0], test_data.shape[0]\n",
    "print('n_samples in train: ', n_samples_train)\n",
    "print('n_samples in test: ', n_samples_test)"
   ]
  },
  {
   "cell_type": "code",
   "execution_count": null,
   "metadata": {
    "_cell_guid": "79c7e3d0-c299-4dcb-8224-4455121ee9b0",
    "_uuid": "d629ff2d2480ee46fbb7e2d37f6b5fab8052498a"
   },
   "outputs": [],
   "source": [
    "# Set up the data\n",
    "\n",
    "n_train, n_test = n_samples_train, n_samples_test\n",
    "n_train, n_test = 20, 100\n",
    "binary_threshold = 0.4\n",
    "\n",
    "X_train = train_data.drop(columns=['label']).values[:n_train].reshape((n_train, 28, 28)) / 255 > binary_threshold\n",
    "y_train = train_data['label'].values[:n_train].reshape((n_train, 1))\n",
    "X_test = test_data.values[:n_test].reshape((n_test, 28, 28)) / 255 > binary_threshold\n",
    "\n",
    "print(X_train.shape, X_test.shape)"
   ]
  },
  {
   "cell_type": "markdown",
   "metadata": {},
   "source": [
    "## Some examples of the input data\n",
    "We choose the first 20 samples from the training set and visualize them."
   ]
  },
  {
   "cell_type": "code",
   "execution_count": null,
   "metadata": {},
   "outputs": [],
   "source": [
    "plot_images(X_train)"
   ]
  },
  {
   "cell_type": "markdown",
   "metadata": {},
   "source": [
    "## Inverting the boolean images"
   ]
  },
  {
   "cell_type": "code",
   "execution_count": null,
   "metadata": {},
   "outputs": [],
   "source": [
    "image_inverter = ImageInverter(n_jobs=4)\n",
    "image_inverter.fit(X_train)\n",
    "X_train_inverted = image_inverter.transform(X_train)"
   ]
  },
  {
   "cell_type": "code",
   "execution_count": null,
   "metadata": {},
   "outputs": [],
   "source": [
    "plot_images(X_train_inverted)"
   ]
  },
  {
   "cell_type": "markdown",
   "metadata": {},
   "source": [
    "## Applying a boolean image filtration"
   ]
  },
  {
   "cell_type": "code",
   "execution_count": null,
   "metadata": {},
   "outputs": [],
   "source": [
    "n_iterations = 4\n",
    "\n",
    "signed_distance_filtration = SignedDistanceFiltration(n_iterations=n_iterations, normalize=False, n_jobs=4)\n",
    "signed_distance_filtration.fit(X_train)\n",
    "X_train_filtered = signed_distance_filtration.transform(X_train_inverted)"
   ]
  },
  {
   "cell_type": "code",
   "execution_count": null,
   "metadata": {},
   "outputs": [],
   "source": [
    "plot_images(X_train_filtered)"
   ]
  },
  {
   "cell_type": "markdown",
   "metadata": {},
   "source": [
    "## Getting persistence diagrams out of images"
   ]
  },
  {
   "cell_type": "code",
   "execution_count": null,
   "metadata": {},
   "outputs": [],
   "source": [
    "cubical_complex = CubicalPersistence(n_jobs=1)\n",
    "cubical_complex.fit(X_train)\n",
    "X_train_cubical = cubical_complex.transform(X_train)"
   ]
  },
  {
   "cell_type": "code",
   "execution_count": null,
   "metadata": {},
   "outputs": [],
   "source": [
    "plot_diagrams(X_train_cubical)"
   ]
  },
  {
   "cell_type": "markdown",
   "metadata": {},
   "source": [
    "## Computing the distance matrix between the diagrams"
   ]
  },
  {
   "cell_type": "code",
   "execution_count": null,
   "metadata": {},
   "outputs": [],
   "source": [
    "diagram_distance = DiagramDistance(metric='wasserstein', metric_params={'order': 2, 'delta': 0.1}, n_jobs=1)\n",
    "diagram_distance.fit(X_train_cubical)\n",
    "X_train_distance = diagram_distance.transform(X_train_cubical)"
   ]
  },
  {
   "cell_type": "code",
   "execution_count": null,
   "metadata": {},
   "outputs": [],
   "source": [
    "plot_matrix(X_train_distance)"
   ]
  },
  {
   "cell_type": "markdown",
   "metadata": {},
   "source": [
    "## Putting everything in a pipeline"
   ]
  },
  {
   "cell_type": "code",
   "execution_count": null,
   "metadata": {},
   "outputs": [],
   "source": [
    "steps = [\n",
    "    ('filtration', SignedDistanceFiltration(n_iterations=4, normalize=False)),\n",
    "    ('persistence', CubicalPersistence()),\n",
    "    ('distance', DiagramDistance(metric='wasserstein', metric_params={'order': 2, 'delta': 0.1}, n_jobs=1))\n",
    "    ]\n",
    "\n",
    "pipeline_signed_distance = Pipeline(steps)"
   ]
  },
  {
   "cell_type": "code",
   "execution_count": null,
   "metadata": {},
   "outputs": [],
   "source": [
    "pipeline_signed_distance.fit(X_train)\n",
    "X_train_pipeline_distance = pipeline_signed_distance.transform(X_train)"
   ]
  },
  {
   "cell_type": "code",
   "execution_count": null,
   "metadata": {},
   "outputs": [],
   "source": [
    "plot_matrix(X_train_pipeline_distance)"
   ]
  },
  {
   "cell_type": "markdown",
   "metadata": {},
   "source": [
    "## Applying several pipelines based on different filtrations"
   ]
  },
  {
   "cell_type": "code",
   "execution_count": null,
   "metadata": {},
   "outputs": [],
   "source": [
    "direction_list = [ [0, 1], [0, -1], [1, 0], [-1, 0] ]\n",
    "filtration_list = [HeightFiltration(direction=direction, normalize=False) \n",
    "                    for direction in direction_list]\n",
    "steps_list = [ [\n",
    "    ('filtration', filtration),\n",
    "    ('persistence', CubicalPersistence()),\n",
    "    ('distance', DiagramDistance(metric='wasserstein', metric_params={'order': 2, 'delta': 0.1}))]\n",
    "    for filtration in filtration_list ]\n",
    "\n",
    "pipeline_list = [ (str(direction_list[i]), Pipeline(steps_list[i])) for i in range(len(steps_list))]\n",
    "feature_union_filtrations = FeatureUnion(pipeline_list, n_jobs=1)"
   ]
  },
  {
   "cell_type": "code",
   "execution_count": null,
   "metadata": {},
   "outputs": [],
   "source": [
    "feature_union_filtrations.fit(X_train)\n",
    "X_train_filtrations = feature_union_filtrations.transform(X_train)"
   ]
  },
  {
   "cell_type": "code",
   "execution_count": null,
   "metadata": {},
   "outputs": [],
   "source": [
    "plot_matrices(X_train_filtrations)"
   ]
  }
 ],
 "metadata": {
  "kernelspec": {
   "display_name": "Python 3",
   "language": "python",
   "name": "python3"
  },
  "language_info": {
   "codemirror_mode": {
    "name": "ipython",
    "version": 3
   },
   "file_extension": ".py",
   "mimetype": "text/x-python",
   "name": "python",
   "nbconvert_exporter": "python",
   "pygments_lexer": "ipython3",
   "version": "3.6.8"
  }
 },
 "nbformat": 4,
 "nbformat_minor": 1
}
